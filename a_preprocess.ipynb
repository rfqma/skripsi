{
 "cells": [
  {
   "cell_type": "markdown",
   "metadata": {},
   "source": [
    "# LIBRARIES\n"
   ]
  },
  {
   "cell_type": "code",
   "execution_count": 1,
   "metadata": {},
   "outputs": [
    {
     "name": "stderr",
     "output_type": "stream",
     "text": [
      "[nltk_data] Downloading package punkt to\n",
      "[nltk_data]     C:\\Users\\user\\AppData\\Roaming\\nltk_data...\n",
      "[nltk_data]   Package punkt is already up-to-date!\n",
      "[nltk_data] Downloading package stopwords to\n",
      "[nltk_data]     C:\\Users\\user\\AppData\\Roaming\\nltk_data...\n",
      "[nltk_data]   Package stopwords is already up-to-date!\n",
      "[nltk_data] Downloading package wordnet to\n",
      "[nltk_data]     C:\\Users\\user\\AppData\\Roaming\\nltk_data...\n",
      "[nltk_data]   Package wordnet is already up-to-date!\n"
     ]
    }
   ],
   "source": [
    "import pandas as pd\n",
    "import re\n",
    "import nltk\n",
    "nltk.download('punkt')\n",
    "nltk.download('stopwords')\n",
    "nltk.download('wordnet')\n",
    "from nltk.corpus import stopwords\n",
    "import logging\n",
    "from Sastrawi.StopWordRemover.StopWordRemoverFactory import StopWordRemoverFactory\n",
    "from Sastrawi.Stemmer.StemmerFactory import StemmerFactory\n"
   ]
  },
  {
   "cell_type": "markdown",
   "metadata": {},
   "source": [
    "# INISIASI LOGGER\n"
   ]
  },
  {
   "cell_type": "code",
   "execution_count": 2,
   "metadata": {},
   "outputs": [],
   "source": [
    "logging.basicConfig(level=logging.INFO, format='%(asctime)s - %(levelname)s - %(message)s')\n",
    "logger = logging.getLogger()"
   ]
  },
  {
   "cell_type": "markdown",
   "metadata": {},
   "source": [
    "# INISIASI DATASET\n"
   ]
  },
  {
   "cell_type": "code",
   "execution_count": 3,
   "metadata": {},
   "outputs": [
    {
     "name": "stdout",
     "output_type": "stream",
     "text": [
      "fresh dataset: 3912 tweets\n"
     ]
    },
    {
     "data": {
      "text/html": [
       "<div>\n",
       "<style scoped>\n",
       "    .dataframe tbody tr th:only-of-type {\n",
       "        vertical-align: middle;\n",
       "    }\n",
       "\n",
       "    .dataframe tbody tr th {\n",
       "        vertical-align: top;\n",
       "    }\n",
       "\n",
       "    .dataframe thead th {\n",
       "        text-align: right;\n",
       "    }\n",
       "</style>\n",
       "<table border=\"1\" class=\"dataframe\">\n",
       "  <thead>\n",
       "    <tr style=\"text-align: right;\">\n",
       "      <th></th>\n",
       "      <th>Unnamed: 0</th>\n",
       "      <th>no</th>\n",
       "      <th>urls</th>\n",
       "      <th>user_id</th>\n",
       "      <th>username</th>\n",
       "      <th>user_display_name</th>\n",
       "      <th>tweet_id</th>\n",
       "      <th>full_text</th>\n",
       "      <th>created_at</th>\n",
       "      <th>retweet_count</th>\n",
       "      <th>like_count</th>\n",
       "    </tr>\n",
       "  </thead>\n",
       "  <tbody>\n",
       "    <tr>\n",
       "      <th>3911</th>\n",
       "      <td>3911</td>\n",
       "      <td>231</td>\n",
       "      <td>[]</td>\n",
       "      <td>113039803</td>\n",
       "      <td>danu_W7</td>\n",
       "      <td>wijayadanu0101</td>\n",
       "      <td>1810711956896252119</td>\n",
       "      <td>@geloraco Ingat Pa Harto dulu wacana Ibu kota ...</td>\n",
       "      <td>Tue Jul 09 16:25:46 +0000 2024</td>\n",
       "      <td>0</td>\n",
       "      <td>306</td>\n",
       "    </tr>\n",
       "  </tbody>\n",
       "</table>\n",
       "</div>"
      ],
      "text/plain": [
       "      Unnamed: 0   no urls    user_id username user_display_name  \\\n",
       "3911        3911  231   []  113039803  danu_W7    wijayadanu0101   \n",
       "\n",
       "                 tweet_id                                          full_text  \\\n",
       "3911  1810711956896252119  @geloraco Ingat Pa Harto dulu wacana Ibu kota ...   \n",
       "\n",
       "                          created_at  retweet_count  like_count  \n",
       "3911  Tue Jul 09 16:25:46 +0000 2024              0         306  "
      ]
     },
     "metadata": {},
     "output_type": "display_data"
    },
    {
     "name": "stdout",
     "output_type": "stream",
     "text": [
      "dataset after unused columns removed\n"
     ]
    },
    {
     "data": {
      "text/html": [
       "<div>\n",
       "<style scoped>\n",
       "    .dataframe tbody tr th:only-of-type {\n",
       "        vertical-align: middle;\n",
       "    }\n",
       "\n",
       "    .dataframe tbody tr th {\n",
       "        vertical-align: top;\n",
       "    }\n",
       "\n",
       "    .dataframe thead th {\n",
       "        text-align: right;\n",
       "    }\n",
       "</style>\n",
       "<table border=\"1\" class=\"dataframe\">\n",
       "  <thead>\n",
       "    <tr style=\"text-align: right;\">\n",
       "      <th></th>\n",
       "      <th>user_id</th>\n",
       "      <th>username</th>\n",
       "      <th>user_display_name</th>\n",
       "      <th>tweet_id</th>\n",
       "      <th>full_text</th>\n",
       "      <th>created_at</th>\n",
       "    </tr>\n",
       "  </thead>\n",
       "  <tbody>\n",
       "    <tr>\n",
       "      <th>3911</th>\n",
       "      <td>113039803</td>\n",
       "      <td>danu_W7</td>\n",
       "      <td>wijayadanu0101</td>\n",
       "      <td>1810711956896252119</td>\n",
       "      <td>@geloraco Ingat Pa Harto dulu wacana Ibu kota ...</td>\n",
       "      <td>Tue Jul 09 16:25:46 +0000 2024</td>\n",
       "    </tr>\n",
       "  </tbody>\n",
       "</table>\n",
       "</div>"
      ],
      "text/plain": [
       "        user_id username user_display_name             tweet_id  \\\n",
       "3911  113039803  danu_W7    wijayadanu0101  1810711956896252119   \n",
       "\n",
       "                                              full_text  \\\n",
       "3911  @geloraco Ingat Pa Harto dulu wacana Ibu kota ...   \n",
       "\n",
       "                          created_at  \n",
       "3911  Tue Jul 09 16:25:46 +0000 2024  "
      ]
     },
     "metadata": {},
     "output_type": "display_data"
    },
    {
     "name": "stdout",
     "output_type": "stream",
     "text": [
      "dataset after duplicate removal: 3534 tweets\n"
     ]
    },
    {
     "data": {
      "text/html": [
       "<div>\n",
       "<style scoped>\n",
       "    .dataframe tbody tr th:only-of-type {\n",
       "        vertical-align: middle;\n",
       "    }\n",
       "\n",
       "    .dataframe tbody tr th {\n",
       "        vertical-align: top;\n",
       "    }\n",
       "\n",
       "    .dataframe thead th {\n",
       "        text-align: right;\n",
       "    }\n",
       "</style>\n",
       "<table border=\"1\" class=\"dataframe\">\n",
       "  <thead>\n",
       "    <tr style=\"text-align: right;\">\n",
       "      <th></th>\n",
       "      <th>user_id</th>\n",
       "      <th>username</th>\n",
       "      <th>user_display_name</th>\n",
       "      <th>tweet_id</th>\n",
       "      <th>full_text</th>\n",
       "      <th>created_at</th>\n",
       "    </tr>\n",
       "  </thead>\n",
       "  <tbody>\n",
       "    <tr>\n",
       "      <th>3533</th>\n",
       "      <td>2426751872</td>\n",
       "      <td>KhinjarHitam</td>\n",
       "      <td>الله معنا</td>\n",
       "      <td>1839996871424782511</td>\n",
       "      <td>Intinya di kasus ini UU kalah sama Keppres 🤣🤣....</td>\n",
       "      <td>Sat Sep 28 11:53:34 +0000 2024</td>\n",
       "    </tr>\n",
       "  </tbody>\n",
       "</table>\n",
       "</div>"
      ],
      "text/plain": [
       "         user_id      username user_display_name             tweet_id  \\\n",
       "3533  2426751872  KhinjarHitam         الله معنا  1839996871424782511   \n",
       "\n",
       "                                              full_text  \\\n",
       "3533  Intinya di kasus ini UU kalah sama Keppres 🤣🤣....   \n",
       "\n",
       "                          created_at  \n",
       "3533  Sat Sep 28 11:53:34 +0000 2024  "
      ]
     },
     "metadata": {},
     "output_type": "display_data"
    }
   ],
   "source": [
    "# import\n",
    "DATASET_FILE_NAME = \"merged_dataset.csv\"\n",
    "DATASET_FILE_PATH = f\"datasets/merged/{DATASET_FILE_NAME}\"\n",
    "DATA_FRAME_DATASET = pd.read_csv(DATASET_FILE_PATH)\n",
    "DATA_FRAME_DATASET_LENGTH = len(DATA_FRAME_DATASET)\n",
    "print(f\"fresh dataset: {DATA_FRAME_DATASET_LENGTH} tweets\")\n",
    "display(DATA_FRAME_DATASET.tail(1))\n",
    "\n",
    "# unused columns removal\n",
    "DATA_FRAME_DATASET.drop(columns=[\"Unnamed: 0\", \"no\", \"urls\", \"retweet_count\", \"like_count\"], inplace=True)\n",
    "DATA_FRAME_DATASET_LENGTH = len(DATA_FRAME_DATASET)\n",
    "print(f\"dataset after unused columns removed\")\n",
    "display(DATA_FRAME_DATASET.tail(1))\n",
    "\n",
    "# duplicate row removal\n",
    "DATA_FRAME_DATASET.drop_duplicates(subset=[\"full_text\"], inplace=True)\n",
    "\n",
    "# reset index\n",
    "DATA_FRAME_DATASET = DATA_FRAME_DATASET.reset_index(drop=True)\n",
    "DATA_FRAME_DATASET_LENGTH = len(DATA_FRAME_DATASET)\n",
    "print(f\"dataset after duplicate removal: {DATA_FRAME_DATASET_LENGTH} tweets\")\n",
    "display(DATA_FRAME_DATASET.tail(1))"
   ]
  },
  {
   "cell_type": "markdown",
   "metadata": {},
   "source": [
    "# TEXT CLEANING\n"
   ]
  },
  {
   "cell_type": "code",
   "execution_count": 4,
   "metadata": {},
   "outputs": [
    {
     "data": {
      "text/html": [
       "<div>\n",
       "<style scoped>\n",
       "    .dataframe tbody tr th:only-of-type {\n",
       "        vertical-align: middle;\n",
       "    }\n",
       "\n",
       "    .dataframe tbody tr th {\n",
       "        vertical-align: top;\n",
       "    }\n",
       "\n",
       "    .dataframe thead th {\n",
       "        text-align: right;\n",
       "    }\n",
       "</style>\n",
       "<table border=\"1\" class=\"dataframe\">\n",
       "  <thead>\n",
       "    <tr style=\"text-align: right;\">\n",
       "      <th></th>\n",
       "      <th>cleaned_text</th>\n",
       "    </tr>\n",
       "  </thead>\n",
       "  <tbody>\n",
       "    <tr>\n",
       "      <th>3533</th>\n",
       "      <td>intinya di kasus ini uu kalah sama keppres seb...</td>\n",
       "    </tr>\n",
       "  </tbody>\n",
       "</table>\n",
       "</div>"
      ],
      "text/plain": [
       "                                           cleaned_text\n",
       "3533  intinya di kasus ini uu kalah sama keppres seb..."
      ]
     },
     "metadata": {},
     "output_type": "display_data"
    }
   ],
   "source": [
    "def clean_text(text):\n",
    "  # remove RT tag\n",
    "  text = re.sub(r'RT\\s', '', text)\n",
    "  # remove @_username\n",
    "  text = re.sub(r\"\\@([\\w]+)\", \" \", text)\n",
    "  # replace emoji decode with space\n",
    "  text = re.sub(r\"\\\\u[a-zA-Z0-9]{4}\", \" \", text)\n",
    "  # replace enter /n/ with space\n",
    "  text = re.sub(r\"\\n\\s\", \" \", text)\n",
    "  text = re.sub(r\"\\n\", \" \", text)\n",
    "  # remove non-ascii\n",
    "  text = re.sub(r'[^\\x00-\\x7F]+',' ', text)\n",
    "  # fix duplicate characters (ex: hellooooo)\n",
    "  text = re.sub(r'([a-zA-Z])\\1\\1','\\\\1', text)\n",
    "  # replace url\n",
    "  text = re.sub(r'http[s]?\\:\\/\\/.[a-zA-Z0-9\\.\\/\\_?=%&#\\-\\+!]+',' ', text)\n",
    "  text = re.sub(r'pic.twitter.com?.[a-zA-Z0-9\\.\\/\\_?=%&#\\-\\+!]+',' ', text)\n",
    "  # convert to lowercase\n",
    "  text = text.lower()\n",
    "  # remove hashtag\n",
    "  text = re.sub(r'\\#[a-zA-Z0-9_]+','', text)\n",
    "  # remove numbers\n",
    "  text = re.sub(r'[0-9]+',' ', text)\n",
    "  # remove symbols\n",
    "  text = re.sub(r'[!$%^&*@#()_+|~=`{}\\[\\]%\\-:\";\\'<>?,.\\/]', ' ', text)\n",
    "  # remove extra spaces to one space\n",
    "  text = re.sub(r' +', ' ', text)\n",
    "  # remove leading and trailing spaces\n",
    "  text = re.sub(r'^[ ]|[ ]$','', text)\n",
    "  # replace ikn with ibu kota negara baru\n",
    "  text = text.replace(\"ikn\", \"ibukota negara baru\")\n",
    "  \n",
    "  return text\n",
    "\n",
    "DATA_FRAME_DATASET[\"cleaned_text\"] = DATA_FRAME_DATASET[\"full_text\"].apply(clean_text)\n",
    "display(DATA_FRAME_DATASET[\"cleaned_text\"].tail(1).to_frame())"
   ]
  },
  {
   "cell_type": "markdown",
   "metadata": {},
   "source": [
    "# INISIASI KAMUS\n"
   ]
  },
  {
   "cell_type": "markdown",
   "metadata": {},
   "source": [
    "SLANG, STOPWORDS, DLL.\n"
   ]
  },
  {
   "cell_type": "code",
   "execution_count": null,
   "metadata": {},
   "outputs": [],
   "source": [
    "SLANG_DICTIONARY_FILE_NAME_1 = \"kamus_slang_1.csv\"\n",
    "SLANG_DICTIONARY_FILE_PATH_1 = f\"dictionaries/{SLANG_DICTIONARY_FILE_NAME_1}\"\n",
    "DATA_FRAME_SLANG_DICTIONARY_1 = pd.read_csv(SLANG_DICTIONARY_FILE_PATH_1)\n",
    "\n",
    "SLANG_DICTIONARY_FILE_NAME_2 = \"kamus_slang_2.csv\"\n",
    "SLANG_DICTIONARY_FILE_PATH_2 = f\"dictionaries/{SLANG_DICTIONARY_FILE_NAME_2}\"\n",
    "DATA_FRAME_SLANG_DICTIONARY_2 = pd.read_csv(SLANG_DICTIONARY_FILE_PATH_2)\n",
    "\n",
    "SLANG_DICTIONARY_1 = pd.Series(DATA_FRAME_SLANG_DICTIONARY_1.formal.values, index=DATA_FRAME_SLANG_DICTIONARY_1.slang).to_dict()\n",
    "SLANG_DICTIONARY_2 = pd.Series(DATA_FRAME_SLANG_DICTIONARY_2.formal.values, index=DATA_FRAME_SLANG_DICTIONARY_2.slang).to_dict()\n",
    "\n",
    "display(DATA_FRAME_SLANG_DICTIONARY_1.tail())\n",
    "display(DATA_FRAME_SLANG_DICTIONARY_2.tail())\n",
    "\n",
    "SW_DICTIONARY_FILE_NAME_1 = \"kamus_stopwords_1.csv\"\n",
    "SW_DICTIONARY_FILE_PATH_1 = f\"dictionaries/{SW_DICTIONARY_FILE_NAME_1}\"\n",
    "DATA_FRAME_SW_DICTIONARY_1 = pd.read_csv(SW_DICTIONARY_FILE_PATH_1)\n",
    "\n",
    "display(DATA_FRAME_SW_DICTIONARY_1.tail())\n",
    "\n",
    "NEGASI_DICTIONARY_FILE_NAME_1 = \"negasi.csv\"\n",
    "NEGASI_DICTIONARY_FILE_PATH_1 = f\"dictionaries/{NEGASI_DICTIONARY_FILE_NAME_1}\"\n",
    "DATA_FRAME_NEGASI_DICTIONARY_1 = pd.read_csv(NEGASI_DICTIONARY_FILE_PATH_1)\n",
    "\n",
    "display(DATA_FRAME_NEGASI_DICTIONARY_1.tail())\n",
    "\n",
    "ANTONYM_DICTIONARY_FILE_NAME_1 = \"antonim_bahasa_indonesia.csv\"\n",
    "ANTONYM_DICTIONARY_FILE_PATH_1 = f\"dictionaries/{ANTONYM_DICTIONARY_FILE_NAME_1}\"\n",
    "DATA_FRAME_ANTONYM_DICTIONARY_1 = pd.read_csv(ANTONYM_DICTIONARY_FILE_PATH_1)\n",
    "\n",
    "ANTONYM_DICTIONARY_1 = pd.Series(DATA_FRAME_ANTONYM_DICTIONARY_1.antonim.values, index=DATA_FRAME_ANTONYM_DICTIONARY_1.word).to_dict()\n",
    "\n",
    "display(DATA_FRAME_ANTONYM_DICTIONARY_1.tail())"
   ]
  },
  {
   "cell_type": "markdown",
   "metadata": {},
   "source": [
    "# INTEGRASI KAMUS SLANG\n"
   ]
  },
  {
   "cell_type": "code",
   "execution_count": null,
   "metadata": {},
   "outputs": [],
   "source": [
    "def slang_dict_integration_kamus_1(text):\n",
    "  words = text.split()\n",
    "  standardization_words = []\n",
    "\n",
    "  for word in words:\n",
    "    if word in SLANG_DICTIONARY_1:\n",
    "      standardization_words.append(SLANG_DICTIONARY_1[word])\n",
    "    else:\n",
    "      standardization_words.append(word)\n",
    "\n",
    "  return \" \".join(standardization_words)\n",
    "\n",
    "def slang_dict_integration_kamus_2(text):\n",
    "  words = text.split()\n",
    "  standardization_words = []\n",
    "\n",
    "  for word in words:\n",
    "    if word in SLANG_DICTIONARY_2:\n",
    "      standardization_words.append(SLANG_DICTIONARY_2[word])\n",
    "    else:\n",
    "      standardization_words.append(word)\n",
    "\n",
    "  return \" \".join(standardization_words)\n",
    "\n",
    "DATA_FRAME_DATASET[\"after_slang_text\"] = DATA_FRAME_DATASET[\"cleaned_text\"].apply(slang_dict_integration_kamus_1)\n",
    "DATA_FRAME_DATASET[\"after_slang_text\"] = DATA_FRAME_DATASET[\"after_slang_text\"].apply(slang_dict_integration_kamus_2)\n",
    "display(DATA_FRAME_DATASET[\"after_slang_text\"].tail().to_frame())"
   ]
  },
  {
   "cell_type": "markdown",
   "metadata": {},
   "source": [
    "# INTEGRASI KAMUS NEGASI\n"
   ]
  },
  {
   "cell_type": "markdown",
   "metadata": {},
   "source": [
    "combining negation word with the next word with underscore (\\_)\n"
   ]
  },
  {
   "cell_type": "code",
   "execution_count": null,
   "metadata": {},
   "outputs": [],
   "source": [
    "def underscore_negation(text):\n",
    "  words = text.split()\n",
    "  negation_words = set(DATA_FRAME_NEGASI_DICTIONARY_1[\"negasi\"].values)\n",
    "  skip_next = False\n",
    "  new_words = []\n",
    "    \n",
    "  for i in  range(len(words)):\n",
    "    if skip_next:\n",
    "      skip_next = False\n",
    "      continue\n",
    "    if words[i] in negation_words and i < len(words) - 1:\n",
    "      new_words.append(words[i] + \"_\" + words[i+1])\n",
    "      skip_next = True\n",
    "    else:\n",
    "      new_words.append(words[i])\n",
    "\n",
    "  return \" \".join(new_words)\n",
    "\n",
    "DATA_FRAME_DATASET[\"underscore_negation_text\"] = DATA_FRAME_DATASET[\"after_slang_text\"].apply(underscore_negation)\n",
    "display(DATA_FRAME_DATASET[\"underscore_negation_text\"].tail().to_frame())"
   ]
  },
  {
   "cell_type": "markdown",
   "metadata": {},
   "source": [
    "swapping word after negation words with its antonym (if exists)\n"
   ]
  },
  {
   "cell_type": "code",
   "execution_count": null,
   "metadata": {},
   "outputs": [],
   "source": [
    "def swap_antonyms(text):\n",
    "  words = text.split()\n",
    "  antonym_dict = dict(zip(DATA_FRAME_ANTONYM_DICTIONARY_1[\"word\"], DATA_FRAME_ANTONYM_DICTIONARY_1[\"antonim\"]))\n",
    "  new_words = []\n",
    "    \n",
    "  for word in words:\n",
    "    if \"_\" in word:\n",
    "      negation, next_word = word.split(\"_\", 1)\n",
    "      if next_word in antonym_dict:\n",
    "        new_words.append(antonym_dict[next_word])\n",
    "      else:\n",
    "        new_words.append(word)\n",
    "    else:\n",
    "      new_words.append(word)\n",
    "  \n",
    "  return \" \".join(new_words)\n",
    "\n",
    "DATA_FRAME_DATASET[\"swap_negation_text\"] = DATA_FRAME_DATASET[\"underscore_negation_text\"].apply(swap_antonyms)\n",
    "display(DATA_FRAME_DATASET[\"swap_negation_text\"].tail().to_frame())"
   ]
  },
  {
   "cell_type": "markdown",
   "metadata": {},
   "source": [
    "swapping \"\\_\" to \" \" if antonym not exists\n"
   ]
  },
  {
   "cell_type": "code",
   "execution_count": 10,
   "metadata": {},
   "outputs": [],
   "source": [
    "def replace_underscore(text):\n",
    "  text = re.sub(r'_', ' ', text)\n",
    "\n",
    "  return text\n",
    "\n",
    "DATA_FRAME_DATASET[\"final_negation_text\"] = DATA_FRAME_DATASET[\"swap_negation_text\"].apply(replace_underscore)"
   ]
  },
  {
   "cell_type": "markdown",
   "metadata": {},
   "source": [
    "check the differ between the original text and the text after negation integration\n"
   ]
  },
  {
   "cell_type": "code",
   "execution_count": null,
   "metadata": {},
   "outputs": [],
   "source": [
    "DATA_FRAME_DATASET['is_different'] = DATA_FRAME_DATASET['after_slang_text'] != DATA_FRAME_DATASET['final_negation_text']\n",
    "\n",
    "changed_rows = DATA_FRAME_DATASET[DATA_FRAME_DATASET['is_different']]\n",
    "display(changed_rows[['after_slang_text', 'final_negation_text']])"
   ]
  },
  {
   "cell_type": "markdown",
   "metadata": {},
   "source": [
    "# INTEGRASI KAMUS STOPWORDS\n"
   ]
  },
  {
   "cell_type": "code",
   "execution_count": null,
   "metadata": {},
   "outputs": [],
   "source": [
    "custom_stopwords = stopwords.words('indonesian')\n",
    "custom_stopwords.clear()\n",
    "custom_stopwords.extend(DATA_FRAME_SW_DICTIONARY_1[\"stopwords\"].values)\n",
    "\n",
    "factory = StopWordRemoverFactory()\n",
    "sastrawi_stopwords = factory.get_stop_words()\n",
    "\n",
    "combined_stopwords = set(custom_stopwords).union(set(sastrawi_stopwords))\n",
    "\n",
    "def drop_stopwords(text):\n",
    "  return \" \".join([word for word in text.split() if word not in combined_stopwords])\n",
    "\n",
    "DATA_FRAME_DATASET[\"after_stopwords_text\"] = DATA_FRAME_DATASET[\"final_negation_text\"].apply(drop_stopwords)\n",
    "display(DATA_FRAME_DATASET[\"after_stopwords_text\"].tail().to_frame())"
   ]
  },
  {
   "cell_type": "markdown",
   "metadata": {},
   "source": [
    "# STEMMING\n"
   ]
  },
  {
   "cell_type": "code",
   "execution_count": null,
   "metadata": {},
   "outputs": [],
   "source": [
    "factory = StemmerFactory()\n",
    "stemmer = factory.create_stemmer()\n",
    "\n",
    "def stem_indonesian_text(text, index):\n",
    "  # logger\n",
    "  if index % 1000 == 0:\n",
    "    logger.info(f\"stemming progress: {index}/{DATA_FRAME_DATASET_LENGTH}\")\n",
    "\n",
    "  return \" \".join([stemmer.stem(word) for word in text.split()])\n",
    "\n",
    "# apply stemming with streaming logs\n",
    "for index, row in DATA_FRAME_DATASET.iterrows():\n",
    "  DATA_FRAME_DATASET.at[index, \"after_stemming_text\"] = stem_indonesian_text(row[\"after_stopwords_text\"], index)\n",
    "\n",
    "display(DATA_FRAME_DATASET[\"after_stemming_text\"].tail().to_frame())"
   ]
  },
  {
   "cell_type": "markdown",
   "metadata": {},
   "source": [
    "# EXPORT INDONESIAN PREPROCESSED DATASET\n"
   ]
  },
  {
   "cell_type": "code",
   "execution_count": 14,
   "metadata": {},
   "outputs": [],
   "source": [
    "# final column\n",
    "DATA_FRAME_DATASET[\"preprocessed_text\"] = DATA_FRAME_DATASET[\"after_stemming_text\"]\n",
    "\n",
    "DATA_FRAME_DATASET = DATA_FRAME_DATASET[\n",
    "    DATA_FRAME_DATASET[\"preprocessed_text\"].apply(lambda x: isinstance(x, str) and x.strip() != \"\")\n",
    "]\n",
    "\n",
    "DATA_FRAME_DATASET.to_csv(\"outputs/preprocessed.csv\", index=False)"
   ]
  }
 ],
 "metadata": {
  "kernelspec": {
   "display_name": "Python 3",
   "language": "python",
   "name": "python3"
  },
  "language_info": {
   "codemirror_mode": {
    "name": "ipython",
    "version": 3
   },
   "file_extension": ".py",
   "mimetype": "text/x-python",
   "name": "python",
   "nbconvert_exporter": "python",
   "pygments_lexer": "ipython3",
   "version": "3.12.4"
  }
 },
 "nbformat": 4,
 "nbformat_minor": 2
}
