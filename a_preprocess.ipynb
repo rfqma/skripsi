{
 "cells": [
  {
   "cell_type": "markdown",
   "metadata": {},
   "source": [
    "# LIBRARIES\n"
   ]
  },
  {
   "cell_type": "code",
   "execution_count": null,
   "metadata": {},
   "outputs": [],
   "source": [
    "import pandas as pd\n",
    "import re\n",
    "import nltk\n",
    "nltk.download('punkt')\n",
    "nltk.download('stopwords')\n",
    "nltk.download('wordnet')\n",
    "from nltk.corpus import stopwords\n",
    "import logging\n",
    "from Sastrawi.StopWordRemover.StopWordRemoverFactory import StopWordRemoverFactory\n",
    "from Sastrawi.Stemmer.StemmerFactory import StemmerFactory"
   ]
  },
  {
   "cell_type": "markdown",
   "metadata": {},
   "source": [
    "# INISIASI LOGGER\n"
   ]
  },
  {
   "cell_type": "code",
   "execution_count": null,
   "metadata": {},
   "outputs": [],
   "source": [
    "logging.basicConfig(level=logging.INFO, format='%(asctime)s - %(levelname)s - %(message)s')\n",
    "logger = logging.getLogger()"
   ]
  },
  {
   "cell_type": "markdown",
   "metadata": {},
   "source": [
    "# INISIASI DATASET\n"
   ]
  },
  {
   "cell_type": "code",
   "execution_count": null,
   "metadata": {},
   "outputs": [],
   "source": [
    "# import\n",
    "DATASET_FILE_NAME = \"merged_dataset.csv\"\n",
    "DATASET_FILE_PATH = f\"datasets/merged/{DATASET_FILE_NAME}\"\n",
    "DATA_FRAME_DATASET = pd.read_csv(DATASET_FILE_PATH)\n",
    "DATA_FRAME_DATASET_LENGTH = len(DATA_FRAME_DATASET)\n",
    "print(f\"fresh dataset: {DATA_FRAME_DATASET_LENGTH} tweets\")\n",
    "display(DATA_FRAME_DATASET.tail(1))\n",
    "\n",
    "# unused columns removal\n",
    "DATA_FRAME_DATASET.drop(columns=[\"Unnamed: 0\", \"no\", \"urls\", \"retweet_count\", \"like_count\"], inplace=True)\n",
    "DATA_FRAME_DATASET_LENGTH = len(DATA_FRAME_DATASET)\n",
    "print(f\"dataset after unused columns removed\")\n",
    "display(DATA_FRAME_DATASET.tail(1))\n",
    "\n",
    "# duplicate row removal\n",
    "DATA_FRAME_DATASET.drop_duplicates(subset=[\"full_text\"], inplace=True)\n",
    "\n",
    "# reset index\n",
    "DATA_FRAME_DATASET = DATA_FRAME_DATASET.reset_index(drop=True)\n",
    "DATA_FRAME_DATASET_LENGTH = len(DATA_FRAME_DATASET)\n",
    "print(f\"dataset after duplicate removal: {DATA_FRAME_DATASET_LENGTH} tweets\")\n",
    "display(DATA_FRAME_DATASET.tail(1))"
   ]
  },
  {
   "cell_type": "markdown",
   "metadata": {},
   "source": [
    "# TEXT CLEANING\n"
   ]
  },
  {
   "cell_type": "code",
   "execution_count": null,
   "metadata": {},
   "outputs": [],
   "source": [
    "def clean_text(text):\n",
    "  # remove RT tag\n",
    "  text = re.sub(r'RT\\s', '', text)\n",
    "  # remove @_username\n",
    "  text = re.sub(r\"\\@([\\w]+)\", \" \", text)\n",
    "  # replace emoji decode with space\n",
    "  text = re.sub(r\"\\\\u[a-zA-Z0-9]{4}\", \" \", text)\n",
    "  # replace enter /n/ with space\n",
    "  text = re.sub(r\"\\n\\s\", \" \", text)\n",
    "  text = re.sub(r\"\\n\", \" \", text)\n",
    "  # remove non-ascii\n",
    "  text = re.sub(r'[^\\x00-\\x7F]+',' ', text)\n",
    "  # fix duplicate characters (ex: hellooooo)\n",
    "  text = re.sub(r'([a-zA-Z])\\1\\1','\\\\1', text)\n",
    "  # replace url\n",
    "  text = re.sub(r'http[s]?\\:\\/\\/.[a-zA-Z0-9\\.\\/\\_?=%&#\\-\\+!]+',' ', text)\n",
    "  text = re.sub(r'pic.twitter.com?.[a-zA-Z0-9\\.\\/\\_?=%&#\\-\\+!]+',' ', text)\n",
    "  # convert to lowercase\n",
    "  text = text.lower()\n",
    "  # remove hashtag\n",
    "  text = re.sub(r'\\#[a-zA-Z0-9_]+','', text)\n",
    "  # remove numbers\n",
    "  text = re.sub(r'[0-9]+',' ', text)\n",
    "  # remove symbols\n",
    "  text = re.sub(r'[!$%^&*@#()_+|~=`{}\\[\\]%\\-:\";\\'<>?,.\\/]', ' ', text)\n",
    "  # remove extra spaces to one space\n",
    "  text = re.sub(r' +', ' ', text)\n",
    "  # remove leading and trailing spaces\n",
    "  text = re.sub(r'^[ ]|[ ]$','', text)\n",
    "  # replace ikn with ibu kota negara baru\n",
    "  text = text.replace(\"ikn\", \"ibukota negara baru\")\n",
    "  \n",
    "  return text\n",
    "\n",
    "DATA_FRAME_DATASET[\"cleaned_text\"] = DATA_FRAME_DATASET[\"full_text\"].apply(clean_text)\n",
    "display(DATA_FRAME_DATASET[\"cleaned_text\"].tail(1).to_frame())"
   ]
  },
  {
   "cell_type": "markdown",
   "metadata": {},
   "source": [
    "# INISIASI KAMUS\n"
   ]
  },
  {
   "cell_type": "markdown",
   "metadata": {},
   "source": [
    "SLANG, STOPWORDS, DLL.\n"
   ]
  },
  {
   "cell_type": "code",
   "execution_count": null,
   "metadata": {},
   "outputs": [],
   "source": [
    "SLANG_DICTIONARY_FILE_NAME_1 = \"kamus_slang_1.csv\"\n",
    "SLANG_DICTIONARY_FILE_PATH_1 = f\"dictionaries/{SLANG_DICTIONARY_FILE_NAME_1}\"\n",
    "DATA_FRAME_SLANG_DICTIONARY_1 = pd.read_csv(SLANG_DICTIONARY_FILE_PATH_1)\n",
    "\n",
    "SLANG_DICTIONARY_FILE_NAME_2 = \"kamus_slang_2.csv\"\n",
    "SLANG_DICTIONARY_FILE_PATH_2 = f\"dictionaries/{SLANG_DICTIONARY_FILE_NAME_2}\"\n",
    "DATA_FRAME_SLANG_DICTIONARY_2 = pd.read_csv(SLANG_DICTIONARY_FILE_PATH_2)\n",
    "\n",
    "SLANG_DICTIONARY_1 = pd.Series(DATA_FRAME_SLANG_DICTIONARY_1.formal.values, index=DATA_FRAME_SLANG_DICTIONARY_1.slang).to_dict()\n",
    "SLANG_DICTIONARY_2 = pd.Series(DATA_FRAME_SLANG_DICTIONARY_2.formal.values, index=DATA_FRAME_SLANG_DICTIONARY_2.slang).to_dict()\n",
    "\n",
    "display(DATA_FRAME_SLANG_DICTIONARY_1.tail())\n",
    "display(DATA_FRAME_SLANG_DICTIONARY_2.tail())\n",
    "\n",
    "SW_DICTIONARY_FILE_NAME_1 = \"kamus_stopwords_1.csv\"\n",
    "SW_DICTIONARY_FILE_PATH_1 = f\"dictionaries/{SW_DICTIONARY_FILE_NAME_1}\"\n",
    "DATA_FRAME_SW_DICTIONARY_1 = pd.read_csv(SW_DICTIONARY_FILE_PATH_1)\n",
    "\n",
    "display(DATA_FRAME_SW_DICTIONARY_1.tail())\n",
    "\n",
    "NEGASI_DICTIONARY_FILE_NAME_1 = \"negasi.csv\"\n",
    "NEGASI_DICTIONARY_FILE_PATH_1 = f\"dictionaries/{NEGASI_DICTIONARY_FILE_NAME_1}\"\n",
    "DATA_FRAME_NEGASI_DICTIONARY_1 = pd.read_csv(NEGASI_DICTIONARY_FILE_PATH_1)\n",
    "\n",
    "display(DATA_FRAME_NEGASI_DICTIONARY_1.tail())\n",
    "\n",
    "ANTONYM_DICTIONARY_FILE_NAME_1 = \"antonim_bahasa_indonesia.csv\"\n",
    "ANTONYM_DICTIONARY_FILE_PATH_1 = f\"dictionaries/{ANTONYM_DICTIONARY_FILE_NAME_1}\"\n",
    "DATA_FRAME_ANTONYM_DICTIONARY_1 = pd.read_csv(ANTONYM_DICTIONARY_FILE_PATH_1)\n",
    "\n",
    "ANTONYM_DICTIONARY_1 = pd.Series(DATA_FRAME_ANTONYM_DICTIONARY_1.antonim.values, index=DATA_FRAME_ANTONYM_DICTIONARY_1.word).to_dict()\n",
    "\n",
    "display(DATA_FRAME_ANTONYM_DICTIONARY_1.tail())"
   ]
  },
  {
   "cell_type": "markdown",
   "metadata": {},
   "source": [
    "# INTEGRASI KAMUS SLANG\n"
   ]
  },
  {
   "cell_type": "code",
   "execution_count": null,
   "metadata": {},
   "outputs": [],
   "source": [
    "def slang_dict_integration_kamus_1(text):\n",
    "  words = text.split()\n",
    "  standardization_words = []\n",
    "\n",
    "  for word in words:\n",
    "    if word in SLANG_DICTIONARY_1:\n",
    "      standardization_words.append(SLANG_DICTIONARY_1[word])\n",
    "    else:\n",
    "      standardization_words.append(word)\n",
    "\n",
    "  return \" \".join(standardization_words)\n",
    "\n",
    "def slang_dict_integration_kamus_2(text):\n",
    "  words = text.split()\n",
    "  standardization_words = []\n",
    "\n",
    "  for word in words:\n",
    "    if word in SLANG_DICTIONARY_2:\n",
    "      standardization_words.append(SLANG_DICTIONARY_2[word])\n",
    "    else:\n",
    "      standardization_words.append(word)\n",
    "\n",
    "  return \" \".join(standardization_words)\n",
    "\n",
    "DATA_FRAME_DATASET[\"after_slang_text\"] = DATA_FRAME_DATASET[\"cleaned_text\"].apply(slang_dict_integration_kamus_1)\n",
    "DATA_FRAME_DATASET[\"after_slang_text\"] = DATA_FRAME_DATASET[\"after_slang_text\"].apply(slang_dict_integration_kamus_2)\n",
    "display(DATA_FRAME_DATASET[\"after_slang_text\"].tail().to_frame())"
   ]
  },
  {
   "cell_type": "markdown",
   "metadata": {},
   "source": [
    "# INTEGRASI KAMUS NEGASI\n"
   ]
  },
  {
   "cell_type": "markdown",
   "metadata": {},
   "source": [
    "combining negation word with the next word with underscore (\\_)\n"
   ]
  },
  {
   "cell_type": "code",
   "execution_count": null,
   "metadata": {},
   "outputs": [],
   "source": [
    "def underscore_negation(text):\n",
    "  words = text.split()\n",
    "  negation_words = set(DATA_FRAME_NEGASI_DICTIONARY_1[\"negasi\"].values)\n",
    "  skip_next = False\n",
    "  new_words = []\n",
    "    \n",
    "  for i in  range(len(words)):\n",
    "    if skip_next:\n",
    "      skip_next = False\n",
    "      continue\n",
    "    if words[i] in negation_words and i < len(words) - 1:\n",
    "      new_words.append(words[i] + \"_\" + words[i+1])\n",
    "      skip_next = True\n",
    "    else:\n",
    "      new_words.append(words[i])\n",
    "\n",
    "  return \" \".join(new_words)\n",
    "\n",
    "DATA_FRAME_DATASET[\"underscore_negation_text\"] = DATA_FRAME_DATASET[\"after_slang_text\"].apply(underscore_negation)\n",
    "display(DATA_FRAME_DATASET[\"underscore_negation_text\"].tail().to_frame())"
   ]
  },
  {
   "cell_type": "markdown",
   "metadata": {},
   "source": [
    "swapping word after negation words with its antonym (if exists)\n"
   ]
  },
  {
   "cell_type": "code",
   "execution_count": null,
   "metadata": {},
   "outputs": [],
   "source": [
    "def swap_antonyms(text):\n",
    "  words = text.split()\n",
    "  antonym_dict = dict(zip(DATA_FRAME_ANTONYM_DICTIONARY_1[\"word\"], DATA_FRAME_ANTONYM_DICTIONARY_1[\"antonim\"]))\n",
    "  new_words = []\n",
    "    \n",
    "  for word in words:\n",
    "    if \"_\" in word:\n",
    "      negation, next_word = word.split(\"_\", 1)\n",
    "      if next_word in antonym_dict:\n",
    "        new_words.append(antonym_dict[next_word])\n",
    "      else:\n",
    "        new_words.append(word)\n",
    "    else:\n",
    "      new_words.append(word)\n",
    "  \n",
    "  return \" \".join(new_words)\n",
    "\n",
    "DATA_FRAME_DATASET[\"swap_negation_text\"] = DATA_FRAME_DATASET[\"underscore_negation_text\"].apply(swap_antonyms)\n",
    "display(DATA_FRAME_DATASET[\"swap_negation_text\"].tail().to_frame())"
   ]
  },
  {
   "cell_type": "markdown",
   "metadata": {},
   "source": [
    "swapping \"\\_\" to \" \" if antonym not exists\n"
   ]
  },
  {
   "cell_type": "code",
   "execution_count": null,
   "metadata": {},
   "outputs": [],
   "source": [
    "def replace_underscore(text):\n",
    "  text = re.sub(r'_', ' ', text)\n",
    "\n",
    "  return text\n",
    "\n",
    "DATA_FRAME_DATASET[\"final_negation_text\"] = DATA_FRAME_DATASET[\"swap_negation_text\"].apply(replace_underscore)"
   ]
  },
  {
   "cell_type": "markdown",
   "metadata": {},
   "source": [
    "check the differ between the original text and the text after negation integration\n"
   ]
  },
  {
   "cell_type": "code",
   "execution_count": null,
   "metadata": {},
   "outputs": [],
   "source": [
    "DATA_FRAME_DATASET['is_different'] = DATA_FRAME_DATASET['after_slang_text'] != DATA_FRAME_DATASET['final_negation_text']\n",
    "\n",
    "changed_rows = DATA_FRAME_DATASET[DATA_FRAME_DATASET['is_different']]\n",
    "display(changed_rows[['after_slang_text', 'final_negation_text']])"
   ]
  },
  {
   "cell_type": "markdown",
   "metadata": {},
   "source": [
    "# INTEGRASI KAMUS STOPWORDS\n"
   ]
  },
  {
   "cell_type": "code",
   "execution_count": null,
   "metadata": {},
   "outputs": [],
   "source": [
    "custom_stopwords = stopwords.words('indonesian')\n",
    "custom_stopwords.clear()\n",
    "custom_stopwords.extend(DATA_FRAME_SW_DICTIONARY_1[\"stopwords\"].values)\n",
    "\n",
    "factory = StopWordRemoverFactory()\n",
    "sastrawi_stopwords = factory.get_stop_words()\n",
    "\n",
    "combined_stopwords = set(custom_stopwords).union(set(sastrawi_stopwords))\n",
    "\n",
    "def drop_stopwords(text):\n",
    "  return \" \".join([word for word in text.split() if word not in combined_stopwords])\n",
    "\n",
    "DATA_FRAME_DATASET[\"after_stopwords_text\"] = DATA_FRAME_DATASET[\"final_negation_text\"].apply(drop_stopwords)\n",
    "display(DATA_FRAME_DATASET[\"after_stopwords_text\"].tail().to_frame())"
   ]
  },
  {
   "cell_type": "markdown",
   "metadata": {},
   "source": [
    "# STEMMING\n"
   ]
  },
  {
   "cell_type": "code",
   "execution_count": null,
   "metadata": {},
   "outputs": [],
   "source": [
    "factory = StemmerFactory()\n",
    "stemmer = factory.create_stemmer()\n",
    "\n",
    "def stem_indonesian_text(text, index):\n",
    "  # logger\n",
    "  if index % 1000 == 0:\n",
    "    logger.info(f\"stemming progress: {index}/{DATA_FRAME_DATASET_LENGTH}\")\n",
    "\n",
    "  return \" \".join([stemmer.stem(word) for word in text.split()])\n",
    "\n",
    "# apply stemming with streaming logs\n",
    "for index, row in DATA_FRAME_DATASET.iterrows():\n",
    "  DATA_FRAME_DATASET.at[index, \"after_stemming_text\"] = stem_indonesian_text(row[\"after_stopwords_text\"], index)\n",
    "\n",
    "display(DATA_FRAME_DATASET[\"after_stemming_text\"].tail().to_frame())"
   ]
  },
  {
   "cell_type": "markdown",
   "metadata": {},
   "source": [
    "# EXPORT INDONESIAN PREPROCESSED DATASET\n"
   ]
  },
  {
   "cell_type": "code",
   "execution_count": null,
   "metadata": {},
   "outputs": [],
   "source": [
    "# final column\n",
    "DATA_FRAME_DATASET[\"preprocessed_text\"] = DATA_FRAME_DATASET[\"after_stemming_text\"]\n",
    "\n",
    "DATA_FRAME_DATASET = DATA_FRAME_DATASET[\n",
    "    DATA_FRAME_DATASET[\"preprocessed_text\"].apply(lambda x: isinstance(x, str) and x.strip() != \"\")\n",
    "]\n",
    "\n",
    "DATA_FRAME_DATASET.to_csv(\"outputs/preprocessed.csv\", index=False)"
   ]
  }
 ],
 "metadata": {
  "kernelspec": {
   "display_name": "Python 3",
   "language": "python",
   "name": "python3"
  },
  "language_info": {
   "codemirror_mode": {
    "name": "ipython",
    "version": 3
   },
   "file_extension": ".py",
   "mimetype": "text/x-python",
   "name": "python",
   "nbconvert_exporter": "python",
   "pygments_lexer": "ipython3",
   "version": "3.12.3"
  }
 },
 "nbformat": 4,
 "nbformat_minor": 2
}
