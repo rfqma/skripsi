{
 "cells": [
  {
   "cell_type": "markdown",
   "metadata": {},
   "source": [
    "# LIBRARIES\n"
   ]
  },
  {
   "cell_type": "code",
   "execution_count": 1,
   "metadata": {},
   "outputs": [
    {
     "name": "stderr",
     "output_type": "stream",
     "text": [
      "[nltk_data] Downloading package vader_lexicon to\n",
      "[nltk_data]     C:\\Users\\user\\AppData\\Roaming\\nltk_data...\n",
      "[nltk_data]   Package vader_lexicon is already up-to-date!\n"
     ]
    }
   ],
   "source": [
    "import pandas as pd\n",
    "import nltk\n",
    "nltk.download('vader_lexicon')\n",
    "from nltk.sentiment.vader import SentimentIntensityAnalyzer\n",
    "import json\n",
    "import matplotlib.pyplot as plt"
   ]
  },
  {
   "cell_type": "markdown",
   "metadata": {},
   "source": [
    "# INISIASI DATASET\n"
   ]
  },
  {
   "cell_type": "code",
   "execution_count": 2,
   "metadata": {},
   "outputs": [
    {
     "name": "stdout",
     "output_type": "stream",
     "text": [
      "preprocessed dataset: 3239 tweets\n"
     ]
    },
    {
     "data": {
      "text/html": [
       "<div>\n",
       "<style scoped>\n",
       "    .dataframe tbody tr th:only-of-type {\n",
       "        vertical-align: middle;\n",
       "    }\n",
       "\n",
       "    .dataframe tbody tr th {\n",
       "        vertical-align: top;\n",
       "    }\n",
       "\n",
       "    .dataframe thead th {\n",
       "        text-align: right;\n",
       "    }\n",
       "</style>\n",
       "<table border=\"1\" class=\"dataframe\">\n",
       "  <thead>\n",
       "    <tr style=\"text-align: right;\">\n",
       "      <th></th>\n",
       "      <th>user_id</th>\n",
       "      <th>username</th>\n",
       "      <th>user_display_name</th>\n",
       "      <th>tweet_id</th>\n",
       "      <th>full_text</th>\n",
       "      <th>created_at</th>\n",
       "      <th>cleaned_text</th>\n",
       "      <th>after_slang_text</th>\n",
       "      <th>underscore_negation_text</th>\n",
       "      <th>swap_negation_text</th>\n",
       "      <th>final_negation_text</th>\n",
       "      <th>is_different</th>\n",
       "      <th>after_stopwords_text</th>\n",
       "      <th>after_stemming_text</th>\n",
       "      <th>preprocessed_text</th>\n",
       "    </tr>\n",
       "  </thead>\n",
       "  <tbody>\n",
       "    <tr>\n",
       "      <th>3238</th>\n",
       "      <td>1689531424054104064</td>\n",
       "      <td>arnold_sptr33</td>\n",
       "      <td>Arnold Saputra</td>\n",
       "      <td>1831181867472867445</td>\n",
       "      <td>@meraaahputiiih Pemindahan ibu kota mengilhami...</td>\n",
       "      <td>Wed Sep 04 04:05:53 +0000 2024</td>\n",
       "      <td>pemindahan ibu kota mengilhami kita untuk menj...</td>\n",
       "      <td>pemindahan ibu kota mengilhami kita untuk menj...</td>\n",
       "      <td>pemindahan ibu kota mengilhami kita untuk menj...</td>\n",
       "      <td>pemindahan ibu kota mengilhami kita untuk menj...</td>\n",
       "      <td>pemindahan ibu kota mengilhami kita untuk menj...</td>\n",
       "      <td>False</td>\n",
       "      <td>pemindahan kota mengilhami menjaga keanekaraga...</td>\n",
       "      <td>pindah kota ilham jaga keanekaragaman hayati</td>\n",
       "      <td>pindah kota ilham jaga keanekaragaman hayati</td>\n",
       "    </tr>\n",
       "  </tbody>\n",
       "</table>\n",
       "</div>"
      ],
      "text/plain": [
       "                  user_id       username user_display_name  \\\n",
       "3238  1689531424054104064  arnold_sptr33    Arnold Saputra   \n",
       "\n",
       "                 tweet_id                                          full_text  \\\n",
       "3238  1831181867472867445  @meraaahputiiih Pemindahan ibu kota mengilhami...   \n",
       "\n",
       "                          created_at  \\\n",
       "3238  Wed Sep 04 04:05:53 +0000 2024   \n",
       "\n",
       "                                           cleaned_text  \\\n",
       "3238  pemindahan ibu kota mengilhami kita untuk menj...   \n",
       "\n",
       "                                       after_slang_text  \\\n",
       "3238  pemindahan ibu kota mengilhami kita untuk menj...   \n",
       "\n",
       "                               underscore_negation_text  \\\n",
       "3238  pemindahan ibu kota mengilhami kita untuk menj...   \n",
       "\n",
       "                                     swap_negation_text  \\\n",
       "3238  pemindahan ibu kota mengilhami kita untuk menj...   \n",
       "\n",
       "                                    final_negation_text  is_different  \\\n",
       "3238  pemindahan ibu kota mengilhami kita untuk menj...         False   \n",
       "\n",
       "                                   after_stopwords_text  \\\n",
       "3238  pemindahan kota mengilhami menjaga keanekaraga...   \n",
       "\n",
       "                               after_stemming_text  \\\n",
       "3238  pindah kota ilham jaga keanekaragaman hayati   \n",
       "\n",
       "                                 preprocessed_text  \n",
       "3238  pindah kota ilham jaga keanekaragaman hayati  "
      ]
     },
     "metadata": {},
     "output_type": "display_data"
    }
   ],
   "source": [
    "# import\n",
    "PREPROCESSED_DATASET_FILE_NAME = \"preprocessed.csv\"\n",
    "PREPROCESSED_DATASET_FILE_PATH = f\"outputs/{PREPROCESSED_DATASET_FILE_NAME}\"\n",
    "DATA_FRAME_PREPROCESSED_DATASET = pd.read_csv(PREPROCESSED_DATASET_FILE_PATH)\n",
    "DATA_FRAME_PREPROCESSED_DATASET_LENGTH = len(DATA_FRAME_PREPROCESSED_DATASET)\n",
    "print(f\"preprocessed dataset: {DATA_FRAME_PREPROCESSED_DATASET_LENGTH} tweets\")\n",
    "display(DATA_FRAME_PREPROCESSED_DATASET.tail(1))"
   ]
  },
  {
   "cell_type": "markdown",
   "metadata": {},
   "source": [
    "# INISIASI LEKSIKON\n"
   ]
  },
  {
   "cell_type": "code",
   "execution_count": 3,
   "metadata": {},
   "outputs": [],
   "source": [
    "# InSet\n",
    "with open(\"./lexicons/lexicon_json_inset-neg.txt\") as f:\n",
    "  inset_neg = f.read()\n",
    "with open(\"./lexicons/lexicon_json_inset-pos.txt\") as f:\n",
    "  inset_pos = f.read()\n",
    "\n",
    "insetNeg = json.loads(inset_neg)\n",
    "insetPos = json.loads(inset_pos)"
   ]
  },
  {
   "cell_type": "markdown",
   "metadata": {},
   "source": [
    "# SENTIMENT LABELLING\n"
   ]
  },
  {
   "cell_type": "markdown",
   "metadata": {},
   "source": [
    "InSet Lexicon\n"
   ]
  },
  {
   "cell_type": "code",
   "execution_count": 4,
   "metadata": {},
   "outputs": [],
   "source": [
    "# inisiasi vader sentiment analyzer\n",
    "sia_inset_neg = SentimentIntensityAnalyzer()\n",
    "sia_inset_pos = SentimentIntensityAnalyzer()\n",
    "\n",
    "# clear default lexicon\n",
    "sia_inset_neg.lexicon.clear()\n",
    "sia_inset_pos.lexicon.clear()\n",
    "\n",
    "# assign InSet lexicon\n",
    "sia_inset_neg.lexicon.update(insetNeg)\n",
    "sia_inset_pos.lexicon.update(insetPos)"
   ]
  },
  {
   "cell_type": "code",
   "execution_count": 5,
   "metadata": {},
   "outputs": [
    {
     "data": {
      "text/html": [
       "<div>\n",
       "<style scoped>\n",
       "    .dataframe tbody tr th:only-of-type {\n",
       "        vertical-align: middle;\n",
       "    }\n",
       "\n",
       "    .dataframe tbody tr th {\n",
       "        vertical-align: top;\n",
       "    }\n",
       "\n",
       "    .dataframe thead th {\n",
       "        text-align: right;\n",
       "    }\n",
       "</style>\n",
       "<table border=\"1\" class=\"dataframe\">\n",
       "  <thead>\n",
       "    <tr style=\"text-align: right;\">\n",
       "      <th></th>\n",
       "      <th>user_id</th>\n",
       "      <th>username</th>\n",
       "      <th>user_display_name</th>\n",
       "      <th>tweet_id</th>\n",
       "      <th>full_text</th>\n",
       "      <th>created_at</th>\n",
       "      <th>cleaned_text</th>\n",
       "      <th>after_slang_text</th>\n",
       "      <th>underscore_negation_text</th>\n",
       "      <th>swap_negation_text</th>\n",
       "      <th>final_negation_text</th>\n",
       "      <th>is_different</th>\n",
       "      <th>after_stopwords_text</th>\n",
       "      <th>after_stemming_text</th>\n",
       "      <th>preprocessed_text</th>\n",
       "      <th>compound_score</th>\n",
       "    </tr>\n",
       "  </thead>\n",
       "  <tbody>\n",
       "    <tr>\n",
       "      <th>3238</th>\n",
       "      <td>1689531424054104064</td>\n",
       "      <td>arnold_sptr33</td>\n",
       "      <td>Arnold Saputra</td>\n",
       "      <td>1831181867472867445</td>\n",
       "      <td>@meraaahputiiih Pemindahan ibu kota mengilhami...</td>\n",
       "      <td>Wed Sep 04 04:05:53 +0000 2024</td>\n",
       "      <td>pemindahan ibu kota mengilhami kita untuk menj...</td>\n",
       "      <td>pemindahan ibu kota mengilhami kita untuk menj...</td>\n",
       "      <td>pemindahan ibu kota mengilhami kita untuk menj...</td>\n",
       "      <td>pemindahan ibu kota mengilhami kita untuk menj...</td>\n",
       "      <td>pemindahan ibu kota mengilhami kita untuk menj...</td>\n",
       "      <td>False</td>\n",
       "      <td>pemindahan kota mengilhami menjaga keanekaraga...</td>\n",
       "      <td>pindah kota ilham jaga keanekaragaman hayati</td>\n",
       "      <td>pindah kota ilham jaga keanekaragaman hayati</td>\n",
       "      <td>-0.2626</td>\n",
       "    </tr>\n",
       "  </tbody>\n",
       "</table>\n",
       "</div>"
      ],
      "text/plain": [
       "                  user_id       username user_display_name  \\\n",
       "3238  1689531424054104064  arnold_sptr33    Arnold Saputra   \n",
       "\n",
       "                 tweet_id                                          full_text  \\\n",
       "3238  1831181867472867445  @meraaahputiiih Pemindahan ibu kota mengilhami...   \n",
       "\n",
       "                          created_at  \\\n",
       "3238  Wed Sep 04 04:05:53 +0000 2024   \n",
       "\n",
       "                                           cleaned_text  \\\n",
       "3238  pemindahan ibu kota mengilhami kita untuk menj...   \n",
       "\n",
       "                                       after_slang_text  \\\n",
       "3238  pemindahan ibu kota mengilhami kita untuk menj...   \n",
       "\n",
       "                               underscore_negation_text  \\\n",
       "3238  pemindahan ibu kota mengilhami kita untuk menj...   \n",
       "\n",
       "                                     swap_negation_text  \\\n",
       "3238  pemindahan ibu kota mengilhami kita untuk menj...   \n",
       "\n",
       "                                    final_negation_text  is_different  \\\n",
       "3238  pemindahan ibu kota mengilhami kita untuk menj...         False   \n",
       "\n",
       "                                   after_stopwords_text  \\\n",
       "3238  pemindahan kota mengilhami menjaga keanekaraga...   \n",
       "\n",
       "                               after_stemming_text  \\\n",
       "3238  pindah kota ilham jaga keanekaragaman hayati   \n",
       "\n",
       "                                 preprocessed_text  compound_score  \n",
       "3238  pindah kota ilham jaga keanekaragaman hayati         -0.2626  "
      ]
     },
     "metadata": {},
     "output_type": "display_data"
    }
   ],
   "source": [
    "# polarity score\n",
    "def get_inset_compound_score(text):\n",
    "  inset_compound_score = sia_inset_neg.polarity_scores(text)[\"compound\"] + sia_inset_pos.polarity_scores(text)[\"compound\"]\n",
    "  return inset_compound_score\n",
    "\n",
    "DATA_FRAME_PREPROCESSED_DATASET[\"compound_score\"] = DATA_FRAME_PREPROCESSED_DATASET[\"preprocessed_text\"].apply(get_inset_compound_score)\n",
    "display(DATA_FRAME_PREPROCESSED_DATASET.tail(1))"
   ]
  },
  {
   "cell_type": "code",
   "execution_count": 6,
   "metadata": {},
   "outputs": [
    {
     "data": {
      "text/html": [
       "<div>\n",
       "<style scoped>\n",
       "    .dataframe tbody tr th:only-of-type {\n",
       "        vertical-align: middle;\n",
       "    }\n",
       "\n",
       "    .dataframe tbody tr th {\n",
       "        vertical-align: top;\n",
       "    }\n",
       "\n",
       "    .dataframe thead th {\n",
       "        text-align: right;\n",
       "    }\n",
       "</style>\n",
       "<table border=\"1\" class=\"dataframe\">\n",
       "  <thead>\n",
       "    <tr style=\"text-align: right;\">\n",
       "      <th></th>\n",
       "      <th>user_id</th>\n",
       "      <th>username</th>\n",
       "      <th>user_display_name</th>\n",
       "      <th>tweet_id</th>\n",
       "      <th>full_text</th>\n",
       "      <th>created_at</th>\n",
       "      <th>cleaned_text</th>\n",
       "      <th>after_slang_text</th>\n",
       "      <th>underscore_negation_text</th>\n",
       "      <th>swap_negation_text</th>\n",
       "      <th>final_negation_text</th>\n",
       "      <th>is_different</th>\n",
       "      <th>after_stopwords_text</th>\n",
       "      <th>after_stemming_text</th>\n",
       "      <th>preprocessed_text</th>\n",
       "      <th>compound_score</th>\n",
       "      <th>sentiment_label</th>\n",
       "    </tr>\n",
       "  </thead>\n",
       "  <tbody>\n",
       "    <tr>\n",
       "      <th>3238</th>\n",
       "      <td>1689531424054104064</td>\n",
       "      <td>arnold_sptr33</td>\n",
       "      <td>Arnold Saputra</td>\n",
       "      <td>1831181867472867445</td>\n",
       "      <td>@meraaahputiiih Pemindahan ibu kota mengilhami...</td>\n",
       "      <td>Wed Sep 04 04:05:53 +0000 2024</td>\n",
       "      <td>pemindahan ibu kota mengilhami kita untuk menj...</td>\n",
       "      <td>pemindahan ibu kota mengilhami kita untuk menj...</td>\n",
       "      <td>pemindahan ibu kota mengilhami kita untuk menj...</td>\n",
       "      <td>pemindahan ibu kota mengilhami kita untuk menj...</td>\n",
       "      <td>pemindahan ibu kota mengilhami kita untuk menj...</td>\n",
       "      <td>False</td>\n",
       "      <td>pemindahan kota mengilhami menjaga keanekaraga...</td>\n",
       "      <td>pindah kota ilham jaga keanekaragaman hayati</td>\n",
       "      <td>pindah kota ilham jaga keanekaragaman hayati</td>\n",
       "      <td>-0.2626</td>\n",
       "      <td>negatif</td>\n",
       "    </tr>\n",
       "  </tbody>\n",
       "</table>\n",
       "</div>"
      ],
      "text/plain": [
       "                  user_id       username user_display_name  \\\n",
       "3238  1689531424054104064  arnold_sptr33    Arnold Saputra   \n",
       "\n",
       "                 tweet_id                                          full_text  \\\n",
       "3238  1831181867472867445  @meraaahputiiih Pemindahan ibu kota mengilhami...   \n",
       "\n",
       "                          created_at  \\\n",
       "3238  Wed Sep 04 04:05:53 +0000 2024   \n",
       "\n",
       "                                           cleaned_text  \\\n",
       "3238  pemindahan ibu kota mengilhami kita untuk menj...   \n",
       "\n",
       "                                       after_slang_text  \\\n",
       "3238  pemindahan ibu kota mengilhami kita untuk menj...   \n",
       "\n",
       "                               underscore_negation_text  \\\n",
       "3238  pemindahan ibu kota mengilhami kita untuk menj...   \n",
       "\n",
       "                                     swap_negation_text  \\\n",
       "3238  pemindahan ibu kota mengilhami kita untuk menj...   \n",
       "\n",
       "                                    final_negation_text  is_different  \\\n",
       "3238  pemindahan ibu kota mengilhami kita untuk menj...         False   \n",
       "\n",
       "                                   after_stopwords_text  \\\n",
       "3238  pemindahan kota mengilhami menjaga keanekaraga...   \n",
       "\n",
       "                               after_stemming_text  \\\n",
       "3238  pindah kota ilham jaga keanekaragaman hayati   \n",
       "\n",
       "                                 preprocessed_text  compound_score  \\\n",
       "3238  pindah kota ilham jaga keanekaragaman hayati         -0.2626   \n",
       "\n",
       "     sentiment_label  \n",
       "3238         negatif  "
      ]
     },
     "metadata": {},
     "output_type": "display_data"
    }
   ],
   "source": [
    "# labelling\n",
    "def get_inset_label(number):\n",
    "  if number < 0:\n",
    "    return \"negatif\"\n",
    "  elif number == 0:\n",
    "    return \"netral\"\n",
    "  elif number > 0:\n",
    "    return \"positif\"\n",
    "  else:\n",
    "    return\n",
    "\n",
    "DATA_FRAME_PREPROCESSED_DATASET[\"sentiment_label\"] = DATA_FRAME_PREPROCESSED_DATASET[\"compound_score\"].apply(get_inset_label)\n",
    "display(DATA_FRAME_PREPROCESSED_DATASET.tail(1))"
   ]
  },
  {
   "cell_type": "markdown",
   "metadata": {},
   "source": [
    "# EXPORT\n"
   ]
  },
  {
   "cell_type": "code",
   "execution_count": 7,
   "metadata": {},
   "outputs": [],
   "source": [
    "DATA_FRAME_PREPROCESSED_DATASET.to_csv(\"outputs/sentiment.csv\", index=False)"
   ]
  },
  {
   "cell_type": "markdown",
   "metadata": {},
   "source": [
    "# PIE CHART InSet\n"
   ]
  },
  {
   "cell_type": "code",
   "execution_count": 8,
   "metadata": {},
   "outputs": [
    {
     "name": "stdout",
     "output_type": "stream",
     "text": [
      "sentiment_label\n",
      "negatif    1986\n",
      "positif     909\n",
      "netral      344\n",
      "Name: count, dtype: int64\n"
     ]
    },
    {
     "data": {
      "image/png": "[encoded data removed]",
      "text/plain": [
       "<Figure size 500x500 with 1 Axes>"
      ]
     },
     "metadata": {},
     "output_type": "display_data"
    }
   ],
   "source": [
    "# InSet\n",
    "inset_label\t= DATA_FRAME_PREPROCESSED_DATASET[\"sentiment_label\"]\n",
    "inset_label_counts = inset_label.value_counts()\n",
    "print(inset_label_counts)\n",
    "\n",
    "positif_inset_perc = inset_label_counts.positif / inset_label_counts.sum() * 100\n",
    "netral_inset_perc = inset_label_counts.netral / inset_label_counts.sum() * 100\n",
    "negatif_inset_perc = inset_label_counts.negatif / inset_label_counts.sum() * 100\n",
    "\n",
    "labels = 'positif', 'netral', 'negatif'\n",
    "sizes = [positif_inset_perc, netral_inset_perc, negatif_inset_perc]\n",
    "colors = ['#ff9999','#66b3ff','#99ff99']\n",
    "fig = plt.figure(figsize=(5,5))\n",
    "ax = plt.axes()\n",
    "ax.pie(sizes, labels = labels, autopct='%.2f%%', colors=colors, textprops={'fontsize': 12})\n",
    "ax.set_title('Lexicon InSet', fontsize=15)\n",
    "plt.show()"
   ]
  }
 ],
 "metadata": {
  "kernelspec": {
   "display_name": "Python 3",
   "language": "python",
   "name": "python3"
  },
  "language_info": {
   "codemirror_mode": {
    "name": "ipython",
    "version": 3
   },
   "file_extension": ".py",
   "mimetype": "text/x-python",
   "name": "python",
   "nbconvert_exporter": "python",
   "pygments_lexer": "ipython3",
   "version": "3.12.4"
  }
 },
 "nbformat": 4,
 "nbformat_minor": 2
}
