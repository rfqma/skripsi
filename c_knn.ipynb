{
 "cells": [
  {
   "cell_type": "markdown",
   "metadata": {},
   "source": [
    "# LIBRARIES\n"
   ]
  },
  {
   "cell_type": "code",
   "execution_count": 1,
   "metadata": {},
   "outputs": [],
   "source": [
    "import pandas as pd\n",
    "from sklearn.model_selection import train_test_split\n",
    "from sklearn.neighbors import KNeighborsClassifier\n",
    "from sklearn.metrics import accuracy_score, precision_score, recall_score, f1_score, ConfusionMatrixDisplay, confusion_matrix\n",
    "import matplotlib.pyplot as plt\n",
    "import joblib\n",
    "from sklearn.metrics import classification_report\n",
    "from sklearn.feature_extraction.text import TfidfVectorizer\n",
    "from imblearn.over_sampling import SMOTE"
   ]
  },
  {
   "cell_type": "markdown",
   "metadata": {},
   "source": [
    "# INISIASI DATASET\n"
   ]
  },
  {
   "cell_type": "code",
   "execution_count": 2,
   "metadata": {},
   "outputs": [
    {
     "name": "stdout",
     "output_type": "stream",
     "text": [
      "labelled dataset: 4913 tweets\n"
     ]
    },
    {
     "data": {
      "text/html": [
       "<div>\n",
       "<style scoped>\n",
       "    .dataframe tbody tr th:only-of-type {\n",
       "        vertical-align: middle;\n",
       "    }\n",
       "\n",
       "    .dataframe tbody tr th {\n",
       "        vertical-align: top;\n",
       "    }\n",
       "\n",
       "    .dataframe thead th {\n",
       "        text-align: right;\n",
       "    }\n",
       "</style>\n",
       "<table border=\"1\" class=\"dataframe\">\n",
       "  <thead>\n",
       "    <tr style=\"text-align: right;\">\n",
       "      <th></th>\n",
       "      <th>user_id</th>\n",
       "      <th>username</th>\n",
       "      <th>user_display_name</th>\n",
       "      <th>tweet_id</th>\n",
       "      <th>full_text</th>\n",
       "      <th>created_at</th>\n",
       "      <th>cleaned_text</th>\n",
       "      <th>after_slang_text</th>\n",
       "      <th>underscore_negation_text</th>\n",
       "      <th>swap_negation_text</th>\n",
       "      <th>final_negation_text</th>\n",
       "      <th>is_different</th>\n",
       "      <th>after_stopwords_text</th>\n",
       "      <th>after_stemming_text</th>\n",
       "      <th>preprocessed_text</th>\n",
       "      <th>compound_score</th>\n",
       "      <th>sentiment_label</th>\n",
       "    </tr>\n",
       "  </thead>\n",
       "  <tbody>\n",
       "    <tr>\n",
       "      <th>4912</th>\n",
       "      <td>1497098972443602944</td>\n",
       "      <td>RismaII4</td>\n",
       "      <td>Risma II 🇮🇩🇮🇩🇮🇩</td>\n",
       "      <td>1839477624550412418</td>\n",
       "      <td>Sebuah langkah besar menuju masa depan yang le...</td>\n",
       "      <td>Fri Sep 27 01:30:16 +0000 2024</td>\n",
       "      <td>sebuah langkah besar menuju masa depan yang le...</td>\n",
       "      <td>sebuah langkah besar menuju masa depan yang le...</td>\n",
       "      <td>sebuah langkah besar menuju masa depan yang le...</td>\n",
       "      <td>sebuah langkah besar menuju masa depan yang le...</td>\n",
       "      <td>sebuah langkah besar menuju masa depan yang le...</td>\n",
       "      <td>False</td>\n",
       "      <td>langkah berkesinambungan inklusif dukungan pem...</td>\n",
       "      <td>langkah sambung inklusif dukung bangun kota ne...</td>\n",
       "      <td>langkah sambung inklusif dukung bangun kota ne...</td>\n",
       "      <td>-0.0192</td>\n",
       "      <td>negatif</td>\n",
       "    </tr>\n",
       "  </tbody>\n",
       "</table>\n",
       "</div>"
      ],
      "text/plain": [
       "                  user_id  username user_display_name             tweet_id  \\\n",
       "4912  1497098972443602944  RismaII4   Risma II 🇮🇩🇮🇩🇮🇩  1839477624550412418   \n",
       "\n",
       "                                              full_text  \\\n",
       "4912  Sebuah langkah besar menuju masa depan yang le...   \n",
       "\n",
       "                          created_at  \\\n",
       "4912  Fri Sep 27 01:30:16 +0000 2024   \n",
       "\n",
       "                                           cleaned_text  \\\n",
       "4912  sebuah langkah besar menuju masa depan yang le...   \n",
       "\n",
       "                                       after_slang_text  \\\n",
       "4912  sebuah langkah besar menuju masa depan yang le...   \n",
       "\n",
       "                               underscore_negation_text  \\\n",
       "4912  sebuah langkah besar menuju masa depan yang le...   \n",
       "\n",
       "                                     swap_negation_text  \\\n",
       "4912  sebuah langkah besar menuju masa depan yang le...   \n",
       "\n",
       "                                    final_negation_text  is_different  \\\n",
       "4912  sebuah langkah besar menuju masa depan yang le...         False   \n",
       "\n",
       "                                   after_stopwords_text  \\\n",
       "4912  langkah berkesinambungan inklusif dukungan pem...   \n",
       "\n",
       "                                    after_stemming_text  \\\n",
       "4912  langkah sambung inklusif dukung bangun kota ne...   \n",
       "\n",
       "                                      preprocessed_text  compound_score  \\\n",
       "4912  langkah sambung inklusif dukung bangun kota ne...         -0.0192   \n",
       "\n",
       "     sentiment_label  \n",
       "4912         negatif  "
      ]
     },
     "metadata": {},
     "output_type": "display_data"
    }
   ],
   "source": [
    "# import\n",
    "SENTIMENT_DATASET_FILE_NAME = \"sentiment.csv\"\n",
    "SENTIMENT_DATASET_FILE_PATH = f\"outputs/{SENTIMENT_DATASET_FILE_NAME}\"\n",
    "DATA_FRAME_SENTIMENT_DATASET = pd.read_csv(SENTIMENT_DATASET_FILE_PATH)\n",
    "DATA_FRAME_SENTIMENT_DATASET_LENGTH = len(DATA_FRAME_SENTIMENT_DATASET)\n",
    "print(f\"labelled dataset: {DATA_FRAME_SENTIMENT_DATASET_LENGTH} tweets\")\n",
    "display(DATA_FRAME_SENTIMENT_DATASET.tail(1))\n",
    "sentiment = DATA_FRAME_SENTIMENT_DATASET"
   ]
  },
  {
   "cell_type": "markdown",
   "metadata": {},
   "source": [
    "# TF-IDF\n"
   ]
  },
  {
   "cell_type": "code",
   "execution_count": 3,
   "metadata": {},
   "outputs": [],
   "source": [
    "tfidf = TfidfVectorizer()\n",
    "X_tfidf = tfidf.fit_transform(sentiment[\"preprocessed_text\"])"
   ]
  },
  {
   "cell_type": "code",
   "execution_count": 4,
   "metadata": {},
   "outputs": [],
   "source": [
    "# temp = pd.DataFrame()\n",
    "# temp[\"doc\"] = [\"pindah kota semangat indonesia maju\", \"jokowi daerah ibukota negara tulang punggung tahan pangan kota peluang daerah kalimantan timur kembang sektor tani ikan integrasi\", \"gara paksa bikin kota negara paksa sih\", \"ditawarin sosok bikin taman analisanya pikir bikin park garden pilih ngelanjutin mindah kota pusing\"]\n",
    "# temp[\"sentiment\"] = [\"netral\", \"positif\", \"negatif\", \"negatif\", \"-\"]"
   ]
  },
  {
   "cell_type": "code",
   "execution_count": 5,
   "metadata": {},
   "outputs": [],
   "source": [
    "# tfidf_temp = TfidfVectorizer()\n",
    "# X_tfidf_temp = tfidf_temp.fit_transform(temp[\"doc\"])\n",
    "# tfidf_temp_df = pd.DataFrame(X_tfidf_temp.toarray(), columns=tfidf_temp.get_feature_names_out())\n",
    "# display(tfidf_temp_df)\n",
    "# print(tfidf_temp.get_feature_names_out())\n",
    "# tfidf_temp_df.to_csv(\"temp.csv\", index=False)"
   ]
  },
  {
   "cell_type": "markdown",
   "metadata": {},
   "source": [
    "# SMOTE\n"
   ]
  },
  {
   "cell_type": "code",
   "execution_count": 6,
   "metadata": {},
   "outputs": [],
   "source": [
    "smote = SMOTE(random_state=21)\n",
    "X_smote, Y_smote = smote.fit_resample(X_tfidf, sentiment[\"sentiment_label\"])"
   ]
  },
  {
   "cell_type": "markdown",
   "metadata": {},
   "source": [
    "# DATA SPLIT\n"
   ]
  },
  {
   "cell_type": "markdown",
   "metadata": {},
   "source": [
    "90% TRAIN, 10% TEST\n"
   ]
  },
  {
   "cell_type": "code",
   "execution_count": 7,
   "metadata": {},
   "outputs": [],
   "source": [
    "# X_train_9010,X_test_9010,Y_train_9010,Y_test_9010=train_test_split(X_smote, Y_smote, test_size=0.1, random_state=21)"
   ]
  },
  {
   "cell_type": "markdown",
   "metadata": {},
   "source": [
    "80% TRAIN, 20% TEST\n"
   ]
  },
  {
   "cell_type": "code",
   "execution_count": 8,
   "metadata": {},
   "outputs": [],
   "source": [
    "X_train_8020,X_test_8020,Y_train_8020,Y_test_8020=train_test_split(X_smote, Y_smote, test_size=0.2, random_state=21)"
   ]
  },
  {
   "cell_type": "markdown",
   "metadata": {},
   "source": [
    "70% TRAIN, 30% TEST\n"
   ]
  },
  {
   "cell_type": "code",
   "execution_count": 9,
   "metadata": {},
   "outputs": [],
   "source": [
    "# X_train_7030,X_test_7030,Y_train_7030,Y_test_7030=train_test_split(X_smote, Y_smote, test_size=0.3, random_state=21)"
   ]
  },
  {
   "cell_type": "markdown",
   "metadata": {},
   "source": [
    "# KNN\n"
   ]
  },
  {
   "cell_type": "code",
   "execution_count": 10,
   "metadata": {},
   "outputs": [
    {
     "name": "stdout",
     "output_type": "stream",
     "text": [
      "===============================================================\n",
      "| 80:20 split |\n",
      "| k = 1 |\n",
      "===============================================================\n",
      "              precision    recall  f1-score   support\n",
      "\n",
      "     negatif       0.97      0.45      0.62       589\n",
      "      netral       0.74      1.00      0.85       624\n",
      "     positif       0.82      0.96      0.89       613\n",
      "\n",
      "    accuracy                           0.81      1826\n",
      "   macro avg       0.84      0.80      0.78      1826\n",
      "weighted avg       0.84      0.81      0.79      1826\n",
      "\n",
      "===============================================================\n",
      "| accuracy: 0.81 |\n",
      "| precision: 0.8413292314616369 |\n",
      "| recall: 0.8066812705366923 |\n",
      "| f1: 0.7856920718072994 |\n",
      "===============================================================\n"
     ]
    },
    {
     "data": {
      "image/png": "[encoded data removed]",
      "text/plain": [
       "<Figure size 640x480 with 2 Axes>"
      ]
     },
     "metadata": {},
     "output_type": "display_data"
    }
   ],
   "source": [
    "def train_evaluate_knn(k, X_train, Y_train, X_test, Y_test, ratio):\n",
    "    knn = KNeighborsClassifier(n_neighbors=k, weights='distance')\n",
    "    knn.fit(X_train, Y_train)\n",
    "    y_pred = knn.predict(X_test)\n",
    "    \n",
    "    accuracy = accuracy_score(Y_test, y_pred)\n",
    "    precision = precision_score(Y_test, y_pred, average='weighted')\n",
    "    recall = recall_score(Y_test, y_pred, average='weighted')\n",
    "    f1 = f1_score(Y_test, y_pred, average='weighted')\n",
    "\n",
    "    print(\"===============================================================\")\n",
    "    print(f\"| {ratio} split |\")\n",
    "    print(f\"| k = {k} |\")\n",
    "    print(\"===============================================================\")\n",
    "    print(classification_report(Y_test, y_pred, target_names=knn.classes_))\n",
    "    print(\"===============================================================\")\n",
    "    \n",
    "    print(f\"| accuracy: {accuracy:.2f} |\")\n",
    "    print(f\"| precision: {precision} |\")\n",
    "    print(f\"| recall: {recall} |\")\n",
    "    print(f\"| f1: {f1} |\")\n",
    "    print(\"===============================================================\")\n",
    "    \n",
    "    cm = confusion_matrix(Y_test, y_pred, labels=knn.classes_)\n",
    "    disp = ConfusionMatrixDisplay(confusion_matrix=cm, display_labels=knn.classes_)\n",
    "    disp.plot()\n",
    "    plt.title(f\"confusion matrix for k={k}, {ratio} split\")\n",
    "    plt.show()\n",
    "    \n",
    "    return knn\n",
    "\n",
    "# knn1_9010 = train_evaluate_knn(1, X_train_9010, Y_train_9010, X_test_9010, Y_test_9010, \"90:10\")\n",
    "knn1_8020 = train_evaluate_knn(1, X_train_8020, Y_train_8020, X_test_8020, Y_test_8020, \"80:20\")\n",
    "# knn1_7030 = train_evaluate_knn(1, X_train_7030, Y_train_7030, X_test_7030, Y_test_7030, \"70:30\")"
   ]
  },
  {
   "cell_type": "markdown",
   "metadata": {},
   "source": [
    "# DUMP KNN MODEL AND TF-IDF VECTORIZER\n"
   ]
  },
  {
   "cell_type": "code",
   "execution_count": 11,
   "metadata": {},
   "outputs": [],
   "source": [
    "def save_model(model, filename):\n",
    "    with open(filename, 'wb') as model_file:\n",
    "            joblib.dump(model, model_file)\n",
    "\n",
    "# save_model(knn1_9010, 'models/9010/knn1_9010_model.pkl')\n",
    "save_model(knn1_8020, 'models/8020/knn1_8020_model.pkl')\n",
    "# save_model(knn1_7030, 'models/7030/knn1_7030_model.pkl')\n",
    "\n",
    "save_model(tfidf, 'models/tf-idf/tfidf_vectorizer.pkl')"
   ]
  }
 ],
 "metadata": {
  "kernelspec": {
   "display_name": "Python 3",
   "language": "python",
   "name": "python3"
  },
  "language_info": {
   "codemirror_mode": {
    "name": "ipython",
    "version": 3
   },
   "file_extension": ".py",
   "mimetype": "text/x-python",
   "name": "python",
   "nbconvert_exporter": "python",
   "pygments_lexer": "ipython3",
   "version": "3.12.4"
  }
 },
 "nbformat": 4,
 "nbformat_minor": 2
}
