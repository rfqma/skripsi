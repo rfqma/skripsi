{
 "cells": [
  {
   "cell_type": "markdown",
   "metadata": {},
   "source": [
    "# LIBRARIES\n"
   ]
  },
  {
   "cell_type": "code",
   "execution_count": 16,
   "metadata": {},
   "outputs": [],
   "source": [
    "import pandas as pd\n",
    "from sklearn.model_selection import train_test_split, GridSearchCV\n",
    "from sklearn.neighbors import KNeighborsClassifier\n",
    "from sklearn.metrics import accuracy_score, precision_score, recall_score, f1_score, ConfusionMatrixDisplay, confusion_matrix\n",
    "import matplotlib.pyplot as plt\n",
    "import joblib\n",
    "from sklearn.metrics import classification_report\n",
    "from sklearn.feature_extraction.text import TfidfVectorizer\n",
    "from imblearn.over_sampling import SMOTE"
   ]
  },
  {
   "cell_type": "markdown",
   "metadata": {},
   "source": [
    "# INISIASI DATASET\n"
   ]
  },
  {
   "cell_type": "code",
   "execution_count": null,
   "metadata": {},
   "outputs": [],
   "source": [
    "# import\n",
    "SENTIMENT_DATASET_FILE_NAME = \"sentiment.csv\"\n",
    "SENTIMENT_DATASET_FILE_PATH = f\"outputs/{SENTIMENT_DATASET_FILE_NAME}\"\n",
    "DATA_FRAME_SENTIMENT_DATASET = pd.read_csv(SENTIMENT_DATASET_FILE_PATH)\n",
    "DATA_FRAME_SENTIMENT_DATASET_LENGTH = len(DATA_FRAME_SENTIMENT_DATASET)\n",
    "print(f\"labelled dataset: {DATA_FRAME_SENTIMENT_DATASET_LENGTH} tweets\")\n",
    "display(DATA_FRAME_SENTIMENT_DATASET.tail(1))\n",
    "sentiment = DATA_FRAME_SENTIMENT_DATASET"
   ]
  },
  {
   "cell_type": "markdown",
   "metadata": {},
   "source": [
    "# TF-IDF\n"
   ]
  },
  {
   "cell_type": "code",
   "execution_count": 18,
   "metadata": {},
   "outputs": [],
   "source": [
    "tfidf = TfidfVectorizer()\n",
    "X_tfidf = tfidf.fit_transform(sentiment[\"preprocessed_text\"]).toarray()"
   ]
  },
  {
   "cell_type": "markdown",
   "metadata": {},
   "source": [
    "# SMOTE\n"
   ]
  },
  {
   "cell_type": "code",
   "execution_count": 19,
   "metadata": {},
   "outputs": [],
   "source": [
    "smote = SMOTE(random_state=21)\n",
    "X_smote, Y_smote = smote.fit_resample(X_tfidf, sentiment[\"sentiment_label\"])"
   ]
  },
  {
   "cell_type": "markdown",
   "metadata": {},
   "source": [
    "# DATA SPLIT\n"
   ]
  },
  {
   "cell_type": "code",
   "execution_count": 20,
   "metadata": {},
   "outputs": [],
   "source": [
    "X_train_9010,X_test_9010,Y_train_9010,Y_test_9010=train_test_split(X_smote, Y_smote, test_size=0.1, random_state=21)\n",
    "X_train_8020,X_test_8020,Y_train_8020,Y_test_8020=train_test_split(X_smote, Y_smote, test_size=0.2, random_state=21)\n",
    "X_train_7030,X_test_7030,Y_train_7030,Y_test_7030=train_test_split(X_smote, Y_smote, test_size=0.3, random_state=21)"
   ]
  },
  {
   "cell_type": "markdown",
   "metadata": {},
   "source": [
    "# KNN\n"
   ]
  },
  {
   "cell_type": "markdown",
   "metadata": {},
   "source": [
    "grid search\n"
   ]
  },
  {
   "cell_type": "code",
   "execution_count": null,
   "metadata": {},
   "outputs": [],
   "source": [
    "gs_knn = KNeighborsClassifier()\n",
    "param_grid = {\n",
    "  'n_neighbors': [1, 3, 5, 7, 9, 11, 13],\n",
    "  'weights': ['uniform', 'distance'],\n",
    "  'metric': ['euclidean', 'manhattan', 'minkowski']\n",
    "}\n",
    "\n",
    "def get_grid_search(X_train, Y_train, X_test, Y_test, ratio):\n",
    "  # Initialize GridSearchCV with your model, parameter grid, and number of cross-validation folds\n",
    "  grid_search = GridSearchCV(estimator=gs_knn, param_grid=param_grid, cv=10, scoring='accuracy', n_jobs=-1, verbose=3)\n",
    "\n",
    "  # Assuming you have your training data X_train and y_train\n",
    "  grid_search.fit(X_train, Y_train)\n",
    "\n",
    "  # Best model\n",
    "  best_knn = grid_search.best_estimator_\n",
    "\n",
    "  print(\"===============================================================\")\n",
    "  print(f\"| {ratio} split |\")\n",
    "  print(\"===============================================================\")\n",
    "  # Best hyperparameters\n",
    "  print(\"Best Parameters:\", grid_search.best_params_)\n",
    "  # Evaluate the best model on your test set\n",
    "  y_pred = best_knn.predict(X_test)\n",
    "  accuracy = accuracy_score(Y_test, y_pred)\n",
    "  print(\"Test Set Accuracy:\", accuracy)\n",
    "  print(\"===============================================================\")\n",
    "\n",
    "  return grid_search\n",
    "\n",
    "gs_9010 = get_grid_search(X_train_9010, Y_train_9010, X_test_9010, Y_test_9010, \"90:10\")\n",
    "gs_8020 = get_grid_search(X_train_8020, Y_train_8020, X_test_8020, Y_test_8020, \"80:20\")\n",
    "gs_7030 = get_grid_search(X_train_7030, Y_train_7030, X_test_7030, Y_test_7030, \"70:30\")"
   ]
  },
  {
   "cell_type": "markdown",
   "metadata": {},
   "source": [
    "train\n"
   ]
  },
  {
   "cell_type": "code",
   "execution_count": null,
   "metadata": {},
   "outputs": [],
   "source": [
    "def train_evaluate_knn(k, X_train, Y_train, X_test, Y_test, ratio, w, m):\n",
    "    knn = KNeighborsClassifier(n_neighbors=k, weights=w, metric=m)\n",
    "    knn.fit(X_train, Y_train)\n",
    "    y_pred = knn.predict(X_test)\n",
    "    \n",
    "    accuracy = accuracy_score(Y_test, y_pred)\n",
    "    precision = precision_score(Y_test, y_pred, average='weighted')\n",
    "    recall = recall_score(Y_test, y_pred, average='weighted')\n",
    "    f1 = f1_score(Y_test, y_pred, average='weighted')\n",
    "\n",
    "    print(\"===============================================================\")\n",
    "    print(f\"| {ratio} split |\")\n",
    "    print(f\"| k = {k} |\")\n",
    "    print(\"===============================================================\")\n",
    "    print(classification_report(Y_test, y_pred, target_names=knn.classes_))\n",
    "    print(\"===============================================================\")\n",
    "    \n",
    "    # print(f\"| accuracy: {accuracy:.2f} |\")\n",
    "    print(f\"| accuracy: {accuracy} |\")\n",
    "    print(f\"| precision: {precision} |\")\n",
    "    print(f\"| recall: {recall} |\")\n",
    "    print(f\"| f1: {f1} |\")\n",
    "    print(\"===============================================================\")\n",
    "    \n",
    "    cm = confusion_matrix(Y_test, y_pred, labels=knn.classes_)\n",
    "    disp = ConfusionMatrixDisplay(confusion_matrix=cm, display_labels=knn.classes_)\n",
    "    disp.plot()\n",
    "    plt.title(f\"confusion matrix for k={k}, {ratio} split\")\n",
    "    plt.show()\n",
    "    \n",
    "    return knn\n",
    "\n",
    "best_9010 = gs_9010.best_params_\n",
    "best_8020 = gs_8020.best_params_\n",
    "best_7030 = gs_7030.best_params_\n",
    "\n",
    "knn_9010 = train_evaluate_knn(best_9010[\"n_neighbors\"], X_train_9010, Y_train_9010, X_test_9010, Y_test_9010, \"90:10\", best_9010[\"weights\"], best_9010[\"metric\"])\n",
    "knn_8020 = train_evaluate_knn(best_8020[\"n_neighbors\"], X_train_8020, Y_train_8020, X_test_8020, Y_test_8020, \"80:20\", best_8020[\"weights\"], best_8020[\"metric\"])\n",
    "knn_7030 = train_evaluate_knn(best_7030[\"n_neighbors\"], X_train_7030, Y_train_7030, X_test_7030, Y_test_7030, \"70:30\", best_7030[\"weights\"], best_7030[\"metric\"])"
   ]
  },
  {
   "cell_type": "markdown",
   "metadata": {},
   "source": [
    "# DUMP KNN MODEL AND TF-IDF VECTORIZER\n"
   ]
  },
  {
   "cell_type": "code",
   "execution_count": 24,
   "metadata": {},
   "outputs": [],
   "source": [
    "def save_model(model, filename):\n",
    "    with open(filename, 'wb') as model_file:\n",
    "            joblib.dump(model, model_file)\n",
    "\n",
    "save_model(knn_8020, 'models/8020/knn_8020_model.pkl')\n",
    "save_model(tfidf, 'models/tf-idf/tfidf_vectorizer.pkl')"
   ]
  }
 ],
 "metadata": {
  "kernelspec": {
   "display_name": "Python 3",
   "language": "python",
   "name": "python3"
  },
  "language_info": {
   "codemirror_mode": {
    "name": "ipython",
    "version": 3
   },
   "file_extension": ".py",
   "mimetype": "text/x-python",
   "name": "python",
   "nbconvert_exporter": "python",
   "pygments_lexer": "ipython3",
   "version": "3.12.4"
  }
 },
 "nbformat": 4,
 "nbformat_minor": 2
}
