{
 "cells": [
  {
   "cell_type": "markdown",
   "metadata": {},
   "source": [
    "# LIBRARIES\n"
   ]
  },
  {
   "cell_type": "code",
   "execution_count": 17,
   "metadata": {},
   "outputs": [],
   "source": [
    "import pandas as pd\n",
    "from sklearn.model_selection import train_test_split\n",
    "from sklearn.neighbors import KNeighborsClassifier\n",
    "from sklearn.metrics import accuracy_score, precision_score, recall_score, f1_score, ConfusionMatrixDisplay, confusion_matrix\n",
    "import matplotlib.pyplot as plt\n",
    "import pickle\n",
    "from sklearn.metrics import classification_report\n",
    "from sklearn.feature_extraction.text import TfidfVectorizer"
   ]
  },
  {
   "cell_type": "markdown",
   "metadata": {},
   "source": [
    "# INISIASI DATASET\n"
   ]
  },
  {
   "cell_type": "code",
   "execution_count": null,
   "metadata": {},
   "outputs": [],
   "source": [
    "# import\n",
    "SENTIMENT_DATASET_FILE_NAME = \"sentiment.csv\"\n",
    "SENTIMENT_DATASET_FILE_PATH = f\"outputs/{SENTIMENT_DATASET_FILE_NAME}\"\n",
    "DATA_FRAME_SENTIMENT_DATASET = pd.read_csv(SENTIMENT_DATASET_FILE_PATH)\n",
    "DATA_FRAME_SENTIMENT_DATASET_LENGTH = len(DATA_FRAME_SENTIMENT_DATASET)\n",
    "print(f\"labelled dataset: {DATA_FRAME_SENTIMENT_DATASET_LENGTH} tweets\")\n",
    "display(DATA_FRAME_SENTIMENT_DATASET.tail(1))\n",
    "sentiment = DATA_FRAME_SENTIMENT_DATASET"
   ]
  },
  {
   "cell_type": "markdown",
   "metadata": {},
   "source": [
    "# EKSTRAKSI FITUR\n"
   ]
  },
  {
   "cell_type": "code",
   "execution_count": 19,
   "metadata": {},
   "outputs": [],
   "source": [
    "vectorizer = TfidfVectorizer()\n",
    "X_tfidf = vectorizer.fit_transform(sentiment['preprocessed_text'])\n",
    "\n",
    "feature_names = vectorizer.get_feature_names_out()\n",
    "\n",
    "df_tfidf = pd.DataFrame(X_tfidf.toarray(), columns=feature_names)"
   ]
  },
  {
   "cell_type": "code",
   "execution_count": 20,
   "metadata": {},
   "outputs": [],
   "source": [
    "X = df_tfidf\n",
    "y = sentiment[\"sentiment_label\"]"
   ]
  },
  {
   "cell_type": "markdown",
   "metadata": {},
   "source": [
    "# DATA SPLIT (80% TRAIN, 20% TEST)\n"
   ]
  },
  {
   "cell_type": "code",
   "execution_count": 21,
   "metadata": {},
   "outputs": [],
   "source": [
    "X_train,X_test,Y_train,Y_test=train_test_split(X,y,test_size=0.2,random_state=42)"
   ]
  },
  {
   "cell_type": "markdown",
   "metadata": {},
   "source": [
    "# KNN InSet\n"
   ]
  },
  {
   "cell_type": "code",
   "execution_count": null,
   "metadata": {},
   "outputs": [],
   "source": [
    "def train_evaluate_knn(k, X_train, Y_train, X_test, Y_test):\n",
    "    knn = KNeighborsClassifier(n_neighbors=k)\n",
    "    knn.fit(X_train, Y_train)\n",
    "    y_pred = knn.predict(X_test)\n",
    "    \n",
    "    accuracy = accuracy_score(Y_test, y_pred)\n",
    "    precision = precision_score(Y_test, y_pred, average='weighted')\n",
    "    recall = recall_score(Y_test, y_pred, average='weighted')\n",
    "    f1 = f1_score(Y_test, y_pred, average='weighted')\n",
    "\n",
    "    print(f\"| k = {k} |\")\n",
    "    print(f\"| accuracy: {accuracy:.2f} |\")\n",
    "    print(f\"| precision: {precision} |\")\n",
    "    print(f\"| recall: {recall} |\")\n",
    "    print(f\"| f1: {f1} |\")\n",
    "    print(classification_report(Y_test, y_pred, target_names=knn.classes_))\n",
    "    \n",
    "    cm = confusion_matrix(Y_test, y_pred, labels=knn.classes_)\n",
    "    disp = ConfusionMatrixDisplay(confusion_matrix=cm, display_labels=knn.classes_)\n",
    "    disp.plot()\n",
    "    plt.title(f\"confusion matrix for k={k}\")\n",
    "    plt.show()\n",
    "    \n",
    "    return knn\n",
    "\n",
    "knn1 = train_evaluate_knn(1, X_train, Y_train, X_test, Y_test)\n",
    "knn3 = train_evaluate_knn(3, X_train, Y_train, X_test, Y_test)\n",
    "knn5 = train_evaluate_knn(5, X_train, Y_train, X_test, Y_test)\n",
    "knn7 = train_evaluate_knn(7, X_train, Y_train, X_test, Y_test)"
   ]
  },
  {
   "cell_type": "markdown",
   "metadata": {},
   "source": [
    "# DUMP KNN MODEL AND TF-IDF VECTORIZER\n"
   ]
  },
  {
   "cell_type": "code",
   "execution_count": 23,
   "metadata": {},
   "outputs": [],
   "source": [
    "def save_model(model, filename):\n",
    "    with open(filename, 'wb') as model_file:\n",
    "            pickle.dump(model, model_file)\n",
    "\n",
    "# save_model(knn1, 'models/8020/knn1_8020_model.pkl')\n",
    "# save_model(knn3, 'models/8020/knn3_8020_model.pkl')\n",
    "# save_model(knn5, 'models/8020/knn5_8020_model.pkl')\n",
    "# save_model(knn7, 'models/8020/knn7_8020_model.pkl')\n",
    "\n",
    "save_model(vectorizer, 'models/tf-idf/tfidf_vectorizer.pkl')"
   ]
  }
 ],
 "metadata": {
  "kernelspec": {
   "display_name": "venv",
   "language": "python",
   "name": "venv"
  },
  "language_info": {
   "codemirror_mode": {
    "name": "ipython",
    "version": 3
   },
   "file_extension": ".py",
   "mimetype": "text/x-python",
   "name": "python",
   "nbconvert_exporter": "python",
   "pygments_lexer": "ipython3",
   "version": "3.12.4"
  }
 },
 "nbformat": 4,
 "nbformat_minor": 2
}
