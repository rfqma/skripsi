{
 "cells": [
  {
   "cell_type": "markdown",
   "metadata": {},
   "source": [
    "# LIBRARIES\n"
   ]
  },
  {
   "cell_type": "code",
   "execution_count": 33,
   "metadata": {},
   "outputs": [
    {
     "name": "stderr",
     "output_type": "stream",
     "text": [
      "[nltk_data] Downloading package punkt to\n",
      "[nltk_data]     C:\\Users\\user\\AppData\\Roaming\\nltk_data...\n",
      "[nltk_data]   Package punkt is already up-to-date!\n",
      "[nltk_data] Downloading package stopwords to\n",
      "[nltk_data]     C:\\Users\\user\\AppData\\Roaming\\nltk_data...\n",
      "[nltk_data]   Package stopwords is already up-to-date!\n",
      "[nltk_data] Downloading package wordnet to\n",
      "[nltk_data]     C:\\Users\\user\\AppData\\Roaming\\nltk_data...\n",
      "[nltk_data]   Package wordnet is already up-to-date!\n"
     ]
    }
   ],
   "source": [
    "import pandas as pd\n",
    "import re\n",
    "import nltk\n",
    "import logging\n",
    "nltk.download('punkt')\n",
    "nltk.download('stopwords')\n",
    "nltk.download('wordnet')\n",
    "from nltk.corpus import stopwords\n",
    "from Sastrawi.StopWordRemover.StopWordRemoverFactory import StopWordRemoverFactory\n",
    "from Sastrawi.Stemmer.StemmerFactory import StemmerFactory\n"
   ]
  },
  {
   "cell_type": "markdown",
   "metadata": {},
   "source": [
    "# INISIASI LOGGER\n"
   ]
  },
  {
   "cell_type": "code",
   "execution_count": 34,
   "metadata": {},
   "outputs": [],
   "source": [
    "logging.basicConfig(level=logging.INFO, format='%(asctime)s - %(levelname)s - %(message)s')\n",
    "logger = logging.getLogger()"
   ]
  },
  {
   "cell_type": "markdown",
   "metadata": {},
   "source": [
    "# INISIASI DATASET\n"
   ]
  },
  {
   "cell_type": "code",
   "execution_count": 35,
   "metadata": {},
   "outputs": [
    {
     "name": "stdout",
     "output_type": "stream",
     "text": [
      "fresh dataset: 4593 tweets\n"
     ]
    },
    {
     "data": {
      "text/html": [
       "<div>\n",
       "<style scoped>\n",
       "    .dataframe tbody tr th:only-of-type {\n",
       "        vertical-align: middle;\n",
       "    }\n",
       "\n",
       "    .dataframe tbody tr th {\n",
       "        vertical-align: top;\n",
       "    }\n",
       "\n",
       "    .dataframe thead th {\n",
       "        text-align: right;\n",
       "    }\n",
       "</style>\n",
       "<table border=\"1\" class=\"dataframe\">\n",
       "  <thead>\n",
       "    <tr style=\"text-align: right;\">\n",
       "      <th></th>\n",
       "      <th>Unnamed: 0</th>\n",
       "      <th>no</th>\n",
       "      <th>urls</th>\n",
       "      <th>user_id</th>\n",
       "      <th>username</th>\n",
       "      <th>user_display_name</th>\n",
       "      <th>tweet_id</th>\n",
       "      <th>full_text</th>\n",
       "      <th>created_at</th>\n",
       "      <th>retweet_count</th>\n",
       "      <th>like_count</th>\n",
       "    </tr>\n",
       "  </thead>\n",
       "  <tbody>\n",
       "    <tr>\n",
       "      <th>4592</th>\n",
       "      <td>4592</td>\n",
       "      <td>1005</td>\n",
       "      <td>[]</td>\n",
       "      <td>1685924328851038208</td>\n",
       "      <td>maulani_salsa76</td>\n",
       "      <td>Maulani Salsa</td>\n",
       "      <td>1822028454411563237</td>\n",
       "      <td>@aminun40 Dukung pemindahan Ibu Kota Nusantara...</td>\n",
       "      <td>Fri Aug 09 21:53:29 +0000 2024</td>\n",
       "      <td>0</td>\n",
       "      <td>0</td>\n",
       "    </tr>\n",
       "  </tbody>\n",
       "</table>\n",
       "</div>"
      ],
      "text/plain": [
       "      Unnamed: 0    no urls              user_id         username  \\\n",
       "4592        4592  1005   []  1685924328851038208  maulani_salsa76   \n",
       "\n",
       "     user_display_name             tweet_id  \\\n",
       "4592     Maulani Salsa  1822028454411563237   \n",
       "\n",
       "                                              full_text  \\\n",
       "4592  @aminun40 Dukung pemindahan Ibu Kota Nusantara...   \n",
       "\n",
       "                          created_at  retweet_count  like_count  \n",
       "4592  Fri Aug 09 21:53:29 +0000 2024              0           0  "
      ]
     },
     "metadata": {},
     "output_type": "display_data"
    },
    {
     "name": "stdout",
     "output_type": "stream",
     "text": [
      "dataset after unused columns removed: 4593 tweets\n"
     ]
    },
    {
     "data": {
      "text/html": [
       "<div>\n",
       "<style scoped>\n",
       "    .dataframe tbody tr th:only-of-type {\n",
       "        vertical-align: middle;\n",
       "    }\n",
       "\n",
       "    .dataframe tbody tr th {\n",
       "        vertical-align: top;\n",
       "    }\n",
       "\n",
       "    .dataframe thead th {\n",
       "        text-align: right;\n",
       "    }\n",
       "</style>\n",
       "<table border=\"1\" class=\"dataframe\">\n",
       "  <thead>\n",
       "    <tr style=\"text-align: right;\">\n",
       "      <th></th>\n",
       "      <th>user_id</th>\n",
       "      <th>username</th>\n",
       "      <th>user_display_name</th>\n",
       "      <th>tweet_id</th>\n",
       "      <th>full_text</th>\n",
       "      <th>created_at</th>\n",
       "    </tr>\n",
       "  </thead>\n",
       "  <tbody>\n",
       "    <tr>\n",
       "      <th>4592</th>\n",
       "      <td>1685924328851038208</td>\n",
       "      <td>maulani_salsa76</td>\n",
       "      <td>Maulani Salsa</td>\n",
       "      <td>1822028454411563237</td>\n",
       "      <td>@aminun40 Dukung pemindahan Ibu Kota Nusantara...</td>\n",
       "      <td>Fri Aug 09 21:53:29 +0000 2024</td>\n",
       "    </tr>\n",
       "  </tbody>\n",
       "</table>\n",
       "</div>"
      ],
      "text/plain": [
       "                  user_id         username user_display_name  \\\n",
       "4592  1685924328851038208  maulani_salsa76     Maulani Salsa   \n",
       "\n",
       "                 tweet_id                                          full_text  \\\n",
       "4592  1822028454411563237  @aminun40 Dukung pemindahan Ibu Kota Nusantara...   \n",
       "\n",
       "                          created_at  \n",
       "4592  Fri Aug 09 21:53:29 +0000 2024  "
      ]
     },
     "metadata": {},
     "output_type": "display_data"
    },
    {
     "name": "stdout",
     "output_type": "stream",
     "text": [
      "dataset after duplicate removal: 4042 tweets\n"
     ]
    },
    {
     "data": {
      "text/html": [
       "<div>\n",
       "<style scoped>\n",
       "    .dataframe tbody tr th:only-of-type {\n",
       "        vertical-align: middle;\n",
       "    }\n",
       "\n",
       "    .dataframe tbody tr th {\n",
       "        vertical-align: top;\n",
       "    }\n",
       "\n",
       "    .dataframe thead th {\n",
       "        text-align: right;\n",
       "    }\n",
       "</style>\n",
       "<table border=\"1\" class=\"dataframe\">\n",
       "  <thead>\n",
       "    <tr style=\"text-align: right;\">\n",
       "      <th></th>\n",
       "      <th>user_id</th>\n",
       "      <th>username</th>\n",
       "      <th>user_display_name</th>\n",
       "      <th>tweet_id</th>\n",
       "      <th>full_text</th>\n",
       "      <th>created_at</th>\n",
       "    </tr>\n",
       "  </thead>\n",
       "  <tbody>\n",
       "    <tr>\n",
       "      <th>4041</th>\n",
       "      <td>1685924328851038208</td>\n",
       "      <td>maulani_salsa76</td>\n",
       "      <td>Maulani Salsa</td>\n",
       "      <td>1822028454411563237</td>\n",
       "      <td>@aminun40 Dukung pemindahan Ibu Kota Nusantara...</td>\n",
       "      <td>Fri Aug 09 21:53:29 +0000 2024</td>\n",
       "    </tr>\n",
       "  </tbody>\n",
       "</table>\n",
       "</div>"
      ],
      "text/plain": [
       "                  user_id         username user_display_name  \\\n",
       "4041  1685924328851038208  maulani_salsa76     Maulani Salsa   \n",
       "\n",
       "                 tweet_id                                          full_text  \\\n",
       "4041  1822028454411563237  @aminun40 Dukung pemindahan Ibu Kota Nusantara...   \n",
       "\n",
       "                          created_at  \n",
       "4041  Fri Aug 09 21:53:29 +0000 2024  "
      ]
     },
     "metadata": {},
     "output_type": "display_data"
    }
   ],
   "source": [
    "# import\n",
    "DATASET_FILE_NAME = \"merged_dataset.csv\"\n",
    "DATASET_FILE_PATH = f\"datasets/merged/{DATASET_FILE_NAME}\"\n",
    "DATA_FRAME_DATASET = pd.read_csv(DATASET_FILE_PATH)\n",
    "DATA_FRAME_DATASET_LENGTH = len(DATA_FRAME_DATASET)\n",
    "print(f\"fresh dataset: {DATA_FRAME_DATASET_LENGTH} tweets\")\n",
    "display(DATA_FRAME_DATASET.tail(1))\n",
    "\n",
    "# unused columns removal\n",
    "DATA_FRAME_DATASET.drop(columns=[\"Unnamed: 0\", \"no\", \"urls\", \"retweet_count\", \"like_count\"], inplace=True)\n",
    "DATA_FRAME_DATASET_LENGTH = len(DATA_FRAME_DATASET)\n",
    "print(f\"dataset after unused columns removed: {DATA_FRAME_DATASET_LENGTH} tweets\")\n",
    "display(DATA_FRAME_DATASET.tail(1))\n",
    "\n",
    "# duplicate row removal\n",
    "DATA_FRAME_DATASET.drop_duplicates(subset=[\"full_text\"], inplace=True)\n",
    "\n",
    "# reset index\n",
    "DATA_FRAME_DATASET = DATA_FRAME_DATASET.reset_index(drop=True)\n",
    "DATA_FRAME_DATASET_LENGTH = len(DATA_FRAME_DATASET)\n",
    "print(f\"dataset after duplicate removal: {DATA_FRAME_DATASET_LENGTH} tweets\")\n",
    "display(DATA_FRAME_DATASET.tail(1))"
   ]
  },
  {
   "cell_type": "markdown",
   "metadata": {},
   "source": [
    "# TEXT CLEANING\n"
   ]
  },
  {
   "cell_type": "code",
   "execution_count": 36,
   "metadata": {},
   "outputs": [
    {
     "data": {
      "text/html": [
       "<div>\n",
       "<style scoped>\n",
       "    .dataframe tbody tr th:only-of-type {\n",
       "        vertical-align: middle;\n",
       "    }\n",
       "\n",
       "    .dataframe tbody tr th {\n",
       "        vertical-align: top;\n",
       "    }\n",
       "\n",
       "    .dataframe thead th {\n",
       "        text-align: right;\n",
       "    }\n",
       "</style>\n",
       "<table border=\"1\" class=\"dataframe\">\n",
       "  <thead>\n",
       "    <tr style=\"text-align: right;\">\n",
       "      <th></th>\n",
       "      <th>cleaned_text</th>\n",
       "    </tr>\n",
       "  </thead>\n",
       "  <tbody>\n",
       "    <tr>\n",
       "      <th>4041</th>\n",
       "      <td>dukung pemindahan ibu kota nusantara untuk men...</td>\n",
       "    </tr>\n",
       "  </tbody>\n",
       "</table>\n",
       "</div>"
      ],
      "text/plain": [
       "                                           cleaned_text\n",
       "4041  dukung pemindahan ibu kota nusantara untuk men..."
      ]
     },
     "metadata": {},
     "output_type": "display_data"
    }
   ],
   "source": [
    "def clean_text(text):\n",
    "  # remove RT tag\n",
    "  text = re.sub(r'RT\\s', '', text)\n",
    "  # remove @_username\n",
    "  text = re.sub(r\"\\@([\\w]+)\", \" \", text)\n",
    "  # replace emoji decode with space\n",
    "  text = re.sub(r\"\\\\u[a-zA-Z0-9]{4}\", \" \", text)\n",
    "  # replace enter /n/ with space\n",
    "  text = re.sub(r\"\\n\\s\", \" \", text)\n",
    "  text = re.sub(r\"\\n\", \" \", text)\n",
    "  # remove non-ascii\n",
    "  text = re.sub(r'[^\\x00-\\x7F]+',' ', text)\n",
    "  # fix duplicate characters (ex: hellooooo)\n",
    "  text = re.sub(r'([a-zA-Z])\\1\\1','\\\\1', text)\n",
    "  # replace url\n",
    "  text = re.sub(r'http[s]?\\:\\/\\/.[a-zA-Z0-9\\.\\/\\_?=%&#\\-\\+!]+',' ', text)\n",
    "  text = re.sub(r'pic.twitter.com?.[a-zA-Z0-9\\.\\/\\_?=%&#\\-\\+!]+',' ', text)\n",
    "  # convert to lowercase\n",
    "  text = text.lower()\n",
    "  # remove hashtag\n",
    "  text = re.sub(r'\\#[a-zA-Z0-9_]+','', text)\n",
    "  # remove numbers\n",
    "  text = re.sub(r'[0-9]+',' ', text)\n",
    "  # remove symbols\n",
    "  text = re.sub(r'[!$%^&*@#()_+|~=`{}\\[\\]%\\-:\";\\'<>?,.\\/]', ' ', text)\n",
    "  # remove extra spaces to one space\n",
    "  text = re.sub(r' +', ' ', text)\n",
    "  # remove leading and trailing spaces\n",
    "  text = re.sub(r'^[ ]|[ ]$','', text)\n",
    "  # replace ikn with ibu kota negara baru\n",
    "  text = text.replace(\"ikn\", \"ibu kota negara baru\")\n",
    "  \n",
    "  return text\n",
    "\n",
    "DATA_FRAME_DATASET[\"cleaned_text\"] = DATA_FRAME_DATASET[\"full_text\"].apply(clean_text)\n",
    "display(DATA_FRAME_DATASET[\"cleaned_text\"].tail(1).to_frame())"
   ]
  },
  {
   "cell_type": "markdown",
   "metadata": {},
   "source": [
    "# INISIASI KAMUS\n"
   ]
  },
  {
   "cell_type": "markdown",
   "metadata": {},
   "source": [
    "SLANG, STOPWORDS, DLL.\n"
   ]
  },
  {
   "cell_type": "markdown",
   "metadata": {},
   "source": [
    "> Source\n",
    ">\n",
    "> - [kamus_slang_1](https://github.com/lailikanabila/ANALISIS-SENTIMEN-PADA-PERPINDAHAN-IBUKOTA-INDONESIA-DENGAN-ALGORITMA-SUPPORT-VECTOR-MACHINE/blob/main/Dictionary/Stemming-Kamus_Alay-%20nasalsabila/_json_colloquial-indonesian-lexicon.txt)\n",
    "> - [kamus_slang_2](https://github.com/MreRes/sentiment-analysis-knn/blob/main/kbba.txt)\n",
    "> - [kamus_stopwords](https://github.com/lailikanabila/ANALISIS-SENTIMEN-PADA-PERPINDAHAN-IBUKOTA-INDONESIA-DENGAN-ALGORITMA-SUPPORT-VECTOR-MACHINE/tree/main/Dictionary/StopWord)\n",
    "\n",
    "> References\n",
    ">\n",
    "> - `kamus_stopwords`\n",
    ">   - [1] Tala, F. Z. (2003). A Study of Stemming Effects on Information Retrieval in Bahasa Indonesia. M.Sc. Thesis. Master of Logic Project. Institute for Logic, Language and Computation. Universiteit van Amsterdam, The Netherlands.\n"
   ]
  },
  {
   "cell_type": "code",
   "execution_count": 37,
   "metadata": {},
   "outputs": [
    {
     "data": {
      "text/html": [
       "<div>\n",
       "<style scoped>\n",
       "    .dataframe tbody tr th:only-of-type {\n",
       "        vertical-align: middle;\n",
       "    }\n",
       "\n",
       "    .dataframe tbody tr th {\n",
       "        vertical-align: top;\n",
       "    }\n",
       "\n",
       "    .dataframe thead th {\n",
       "        text-align: right;\n",
       "    }\n",
       "</style>\n",
       "<table border=\"1\" class=\"dataframe\">\n",
       "  <thead>\n",
       "    <tr style=\"text-align: right;\">\n",
       "      <th></th>\n",
       "      <th>slang</th>\n",
       "      <th>formal</th>\n",
       "    </tr>\n",
       "  </thead>\n",
       "  <tbody>\n",
       "    <tr>\n",
       "      <th>3258</th>\n",
       "      <td>boz</td>\n",
       "      <td>bos</td>\n",
       "    </tr>\n",
       "    <tr>\n",
       "      <th>3259</th>\n",
       "      <td>mayan</td>\n",
       "      <td>lumayan</td>\n",
       "    </tr>\n",
       "    <tr>\n",
       "      <th>3260</th>\n",
       "      <td>ribed</td>\n",
       "      <td>ribet</td>\n",
       "    </tr>\n",
       "    <tr>\n",
       "      <th>3261</th>\n",
       "      <td>ntapz</td>\n",
       "      <td>mantap</td>\n",
       "    </tr>\n",
       "    <tr>\n",
       "      <th>3262</th>\n",
       "      <td>ntaps</td>\n",
       "      <td>mantap</td>\n",
       "    </tr>\n",
       "  </tbody>\n",
       "</table>\n",
       "</div>"
      ],
      "text/plain": [
       "      slang   formal\n",
       "3258    boz      bos\n",
       "3259  mayan  lumayan\n",
       "3260  ribed    ribet\n",
       "3261  ntapz   mantap\n",
       "3262  ntaps   mantap"
      ]
     },
     "metadata": {},
     "output_type": "display_data"
    },
    {
     "data": {
      "text/html": [
       "<div>\n",
       "<style scoped>\n",
       "    .dataframe tbody tr th:only-of-type {\n",
       "        vertical-align: middle;\n",
       "    }\n",
       "\n",
       "    .dataframe tbody tr th {\n",
       "        vertical-align: top;\n",
       "    }\n",
       "\n",
       "    .dataframe thead th {\n",
       "        text-align: right;\n",
       "    }\n",
       "</style>\n",
       "<table border=\"1\" class=\"dataframe\">\n",
       "  <thead>\n",
       "    <tr style=\"text-align: right;\">\n",
       "      <th></th>\n",
       "      <th>slang</th>\n",
       "      <th>formal</th>\n",
       "    </tr>\n",
       "  </thead>\n",
       "  <tbody>\n",
       "    <tr>\n",
       "      <th>1492</th>\n",
       "      <td>bajing</td>\n",
       "      <td>anjing</td>\n",
       "    </tr>\n",
       "    <tr>\n",
       "      <th>1493</th>\n",
       "      <td>ngentod</td>\n",
       "      <td>anjing</td>\n",
       "    </tr>\n",
       "    <tr>\n",
       "      <th>1494</th>\n",
       "      <td>trouble</td>\n",
       "      <td>masalah</td>\n",
       "    </tr>\n",
       "    <tr>\n",
       "      <th>1495</th>\n",
       "      <td>tengkyu</td>\n",
       "      <td>terima kasih</td>\n",
       "    </tr>\n",
       "    <tr>\n",
       "      <th>1496</th>\n",
       "      <td>thanks</td>\n",
       "      <td>terima kasih</td>\n",
       "    </tr>\n",
       "  </tbody>\n",
       "</table>\n",
       "</div>"
      ],
      "text/plain": [
       "        slang         formal\n",
       "1492   bajing         anjing\n",
       "1493  ngentod         anjing\n",
       "1494  trouble        masalah\n",
       "1495  tengkyu  terima kasih \n",
       "1496   thanks  terima kasih "
      ]
     },
     "metadata": {},
     "output_type": "display_data"
    },
    {
     "data": {
      "text/html": [
       "<div>\n",
       "<style scoped>\n",
       "    .dataframe tbody tr th:only-of-type {\n",
       "        vertical-align: middle;\n",
       "    }\n",
       "\n",
       "    .dataframe tbody tr th {\n",
       "        vertical-align: top;\n",
       "    }\n",
       "\n",
       "    .dataframe thead th {\n",
       "        text-align: right;\n",
       "    }\n",
       "</style>\n",
       "<table border=\"1\" class=\"dataframe\">\n",
       "  <thead>\n",
       "    <tr style=\"text-align: right;\">\n",
       "      <th></th>\n",
       "      <th>stopwords</th>\n",
       "    </tr>\n",
       "  </thead>\n",
       "  <tbody>\n",
       "    <tr>\n",
       "      <th>753</th>\n",
       "      <td>wong</td>\n",
       "    </tr>\n",
       "    <tr>\n",
       "      <th>754</th>\n",
       "      <td>yaitu</td>\n",
       "    </tr>\n",
       "    <tr>\n",
       "      <th>755</th>\n",
       "      <td>yakin</td>\n",
       "    </tr>\n",
       "    <tr>\n",
       "      <th>756</th>\n",
       "      <td>yakni</td>\n",
       "    </tr>\n",
       "    <tr>\n",
       "      <th>757</th>\n",
       "      <td>yang</td>\n",
       "    </tr>\n",
       "  </tbody>\n",
       "</table>\n",
       "</div>"
      ],
      "text/plain": [
       "    stopwords\n",
       "753      wong\n",
       "754     yaitu\n",
       "755     yakin\n",
       "756     yakni\n",
       "757      yang"
      ]
     },
     "metadata": {},
     "output_type": "display_data"
    }
   ],
   "source": [
    "SLANG_DICTIONARY_FILE_NAME_1 = \"kamus_slang_1.csv\"\n",
    "SLANG_DICTIONARY_FILE_PATH_1 = f\"dictionaries/{SLANG_DICTIONARY_FILE_NAME_1}\"\n",
    "DATA_FRAME_SLANG_DICTIONARY_1 = pd.read_csv(SLANG_DICTIONARY_FILE_PATH_1)\n",
    "\n",
    "SLANG_DICTIONARY_FILE_NAME_2 = \"kamus_slang_2.csv\"\n",
    "SLANG_DICTIONARY_FILE_PATH_2 = f\"dictionaries/{SLANG_DICTIONARY_FILE_NAME_2}\"\n",
    "DATA_FRAME_SLANG_DICTIONARY_2 = pd.read_csv(SLANG_DICTIONARY_FILE_PATH_2)\n",
    "\n",
    "display(DATA_FRAME_SLANG_DICTIONARY_1.tail())\n",
    "display(DATA_FRAME_SLANG_DICTIONARY_2.tail())\n",
    "\n",
    "SLANG_DICTIONARY_1 = pd.Series(DATA_FRAME_SLANG_DICTIONARY_1.formal.values, index=DATA_FRAME_SLANG_DICTIONARY_1.slang).to_dict()\n",
    "SLANG_DICTIONARY_2 = pd.Series(DATA_FRAME_SLANG_DICTIONARY_2.formal.values, index=DATA_FRAME_SLANG_DICTIONARY_2.slang).to_dict()\n",
    "\n",
    "SW_DICTIONARY_FILE_NAME_1 = \"kamus_stopwords_1.csv\"\n",
    "SW_DICTIONARY_FILE_PATH_1 = f\"dictionaries/{SW_DICTIONARY_FILE_NAME_1}\"\n",
    "DATA_FRAME_SW_DICTIONARY_1 = pd.read_csv(SW_DICTIONARY_FILE_PATH_1)\n",
    "\n",
    "display(DATA_FRAME_SW_DICTIONARY_1.tail())"
   ]
  },
  {
   "cell_type": "markdown",
   "metadata": {},
   "source": [
    "# INTEGRASI KAMUS SLANG\n"
   ]
  },
  {
   "cell_type": "code",
   "execution_count": 38,
   "metadata": {},
   "outputs": [
    {
     "data": {
      "text/html": [
       "<div>\n",
       "<style scoped>\n",
       "    .dataframe tbody tr th:only-of-type {\n",
       "        vertical-align: middle;\n",
       "    }\n",
       "\n",
       "    .dataframe tbody tr th {\n",
       "        vertical-align: top;\n",
       "    }\n",
       "\n",
       "    .dataframe thead th {\n",
       "        text-align: right;\n",
       "    }\n",
       "</style>\n",
       "<table border=\"1\" class=\"dataframe\">\n",
       "  <thead>\n",
       "    <tr style=\"text-align: right;\">\n",
       "      <th></th>\n",
       "      <th>after_slang_text</th>\n",
       "    </tr>\n",
       "  </thead>\n",
       "  <tbody>\n",
       "    <tr>\n",
       "      <th>4037</th>\n",
       "      <td>pemindahan ibu kota menggambarkan tekad indone...</td>\n",
       "    </tr>\n",
       "    <tr>\n",
       "      <th>4038</th>\n",
       "      <td>pemindahan ibu kota bukti bahwa kita serius da...</td>\n",
       "    </tr>\n",
       "    <tr>\n",
       "      <th>4039</th>\n",
       "      <td>pemindahan ibu kota nusantara akan membuka pel...</td>\n",
       "    </tr>\n",
       "    <tr>\n",
       "      <th>4040</th>\n",
       "      <td>presiden jokowi meyakini bahwa pemindahan ibu ...</td>\n",
       "    </tr>\n",
       "    <tr>\n",
       "      <th>4041</th>\n",
       "      <td>dukung pemindahan ibu kota nusantara untuk men...</td>\n",
       "    </tr>\n",
       "  </tbody>\n",
       "</table>\n",
       "</div>"
      ],
      "text/plain": [
       "                                       after_slang_text\n",
       "4037  pemindahan ibu kota menggambarkan tekad indone...\n",
       "4038  pemindahan ibu kota bukti bahwa kita serius da...\n",
       "4039  pemindahan ibu kota nusantara akan membuka pel...\n",
       "4040  presiden jokowi meyakini bahwa pemindahan ibu ...\n",
       "4041  dukung pemindahan ibu kota nusantara untuk men..."
      ]
     },
     "metadata": {},
     "output_type": "display_data"
    }
   ],
   "source": [
    "def slang_dict_integration(text):\n",
    "  words = text.split()\n",
    "  standardization_words = []\n",
    "\n",
    "  for word in words:\n",
    "    if word in SLANG_DICTIONARY_1:\n",
    "      standardization_words.append(SLANG_DICTIONARY_1[word])\n",
    "    elif word in SLANG_DICTIONARY_2:\n",
    "      standardization_words.append(SLANG_DICTIONARY_2[word])\n",
    "    else:\n",
    "      standardization_words.append(word)\n",
    "\n",
    "  return \" \".join(standardization_words)\n",
    "\n",
    "DATA_FRAME_DATASET[\"after_slang_text\"] = DATA_FRAME_DATASET[\"cleaned_text\"].apply(slang_dict_integration)\n",
    "display(DATA_FRAME_DATASET[\"after_slang_text\"].tail().to_frame())"
   ]
  },
  {
   "cell_type": "markdown",
   "metadata": {},
   "source": [
    "# INTEGRASI KAMUS STOPWORDS\n"
   ]
  },
  {
   "cell_type": "markdown",
   "metadata": {},
   "source": [
    "menggunakan library python `stopwords NLTK` untuk dapat menggunakan _custom dictionary Indonesia stopword collection `(stopwords_id)`_ oleh Gene Diaz yang dapat diakses melalui [https://github.com/stopwords-iso/stopwords-id](https://github.com/stopwords-iso/stopwords-id). _Kamus `stopwords-id`_ sudah memiliki `MIT License`.\n"
   ]
  },
  {
   "cell_type": "code",
   "execution_count": 39,
   "metadata": {},
   "outputs": [
    {
     "data": {
      "text/html": [
       "<div>\n",
       "<style scoped>\n",
       "    .dataframe tbody tr th:only-of-type {\n",
       "        vertical-align: middle;\n",
       "    }\n",
       "\n",
       "    .dataframe tbody tr th {\n",
       "        vertical-align: top;\n",
       "    }\n",
       "\n",
       "    .dataframe thead th {\n",
       "        text-align: right;\n",
       "    }\n",
       "</style>\n",
       "<table border=\"1\" class=\"dataframe\">\n",
       "  <thead>\n",
       "    <tr style=\"text-align: right;\">\n",
       "      <th></th>\n",
       "      <th>after_stopwords_text</th>\n",
       "    </tr>\n",
       "  </thead>\n",
       "  <tbody>\n",
       "    <tr>\n",
       "      <th>4037</th>\n",
       "      <td>pemindahan kota menggambarkan tekad indonesia ...</td>\n",
       "    </tr>\n",
       "    <tr>\n",
       "      <th>4038</th>\n",
       "      <td>pemindahan kota bukti serius mengelola sumber ...</td>\n",
       "    </tr>\n",
       "    <tr>\n",
       "      <th>4039</th>\n",
       "      <td>pemindahan kota nusantara membuka peluang bisn...</td>\n",
       "    </tr>\n",
       "    <tr>\n",
       "      <th>4040</th>\n",
       "      <td>presiden jokowi pemindahan kota nusantara memb...</td>\n",
       "    </tr>\n",
       "    <tr>\n",
       "      <th>4041</th>\n",
       "      <td>dukung pemindahan kota nusantara mengoptimalka...</td>\n",
       "    </tr>\n",
       "  </tbody>\n",
       "</table>\n",
       "</div>"
      ],
      "text/plain": [
       "                                   after_stopwords_text\n",
       "4037  pemindahan kota menggambarkan tekad indonesia ...\n",
       "4038  pemindahan kota bukti serius mengelola sumber ...\n",
       "4039  pemindahan kota nusantara membuka peluang bisn...\n",
       "4040  presiden jokowi pemindahan kota nusantara memb...\n",
       "4041  dukung pemindahan kota nusantara mengoptimalka..."
      ]
     },
     "metadata": {},
     "output_type": "display_data"
    }
   ],
   "source": [
    "custom_stopwords = stopwords.words('indonesian')\n",
    "custom_stopwords.clear()\n",
    "custom_stopwords.extend(DATA_FRAME_SW_DICTIONARY_1[\"stopwords\"].values)\n",
    "\n",
    "factory = StopWordRemoverFactory()\n",
    "sastrawi_stopwords = factory.get_stop_words()\n",
    "\n",
    "combined_stopwords = set(custom_stopwords).union(set(sastrawi_stopwords))\n",
    "\n",
    "def drop_stopwords(text):\n",
    "  return \" \".join([word for word in text.split() if word not in combined_stopwords])\n",
    "\n",
    "DATA_FRAME_DATASET[\"after_stopwords_text\"] = DATA_FRAME_DATASET[\"after_slang_text\"].apply(drop_stopwords)\n",
    "display(DATA_FRAME_DATASET[\"after_stopwords_text\"].tail().to_frame())"
   ]
  },
  {
   "cell_type": "markdown",
   "metadata": {},
   "source": [
    "# STEMMING\n"
   ]
  },
  {
   "cell_type": "code",
   "execution_count": 40,
   "metadata": {},
   "outputs": [
    {
     "name": "stderr",
     "output_type": "stream",
     "text": [
      "2024-09-20 00:44:14,966 - INFO - stemming progress: 0/4042\n",
      "2024-09-20 00:44:25,321 - INFO - stemming progress: 100/4042\n",
      "2024-09-20 00:44:34,626 - INFO - stemming progress: 200/4042\n",
      "2024-09-20 00:44:46,354 - INFO - stemming progress: 300/4042\n",
      "2024-09-20 00:44:54,631 - INFO - stemming progress: 400/4042\n",
      "2024-09-20 00:44:59,613 - INFO - stemming progress: 500/4042\n",
      "2024-09-20 00:45:05,357 - INFO - stemming progress: 600/4042\n",
      "2024-09-20 00:45:08,800 - INFO - stemming progress: 700/4042\n",
      "2024-09-20 00:45:13,118 - INFO - stemming progress: 800/4042\n",
      "2024-09-20 00:45:16,593 - INFO - stemming progress: 900/4042\n",
      "2024-09-20 00:45:20,424 - INFO - stemming progress: 1000/4042\n",
      "2024-09-20 00:45:23,864 - INFO - stemming progress: 1100/4042\n",
      "2024-09-20 00:45:29,132 - INFO - stemming progress: 1200/4042\n",
      "2024-09-20 00:45:32,542 - INFO - stemming progress: 1300/4042\n",
      "2024-09-20 00:45:37,403 - INFO - stemming progress: 1400/4042\n",
      "2024-09-20 00:45:43,607 - INFO - stemming progress: 1500/4042\n",
      "2024-09-20 00:45:52,093 - INFO - stemming progress: 1600/4042\n",
      "2024-09-20 00:46:00,646 - INFO - stemming progress: 1700/4042\n",
      "2024-09-20 00:46:14,408 - INFO - stemming progress: 1800/4042\n",
      "2024-09-20 00:46:24,533 - INFO - stemming progress: 1900/4042\n",
      "2024-09-20 00:46:32,754 - INFO - stemming progress: 2000/4042\n",
      "2024-09-20 00:46:43,441 - INFO - stemming progress: 2100/4042\n",
      "2024-09-20 00:46:53,735 - INFO - stemming progress: 2200/4042\n",
      "2024-09-20 00:47:06,404 - INFO - stemming progress: 2300/4042\n",
      "2024-09-20 00:47:16,197 - INFO - stemming progress: 2400/4042\n",
      "2024-09-20 00:47:21,908 - INFO - stemming progress: 2500/4042\n",
      "2024-09-20 00:47:31,023 - INFO - stemming progress: 2600/4042\n",
      "2024-09-20 00:47:38,835 - INFO - stemming progress: 2700/4042\n",
      "2024-09-20 00:47:48,960 - INFO - stemming progress: 2800/4042\n",
      "2024-09-20 00:47:59,286 - INFO - stemming progress: 2900/4042\n",
      "2024-09-20 00:48:08,864 - INFO - stemming progress: 3000/4042\n",
      "2024-09-20 00:48:16,320 - INFO - stemming progress: 3100/4042\n",
      "2024-09-20 00:48:22,256 - INFO - stemming progress: 3200/4042\n",
      "2024-09-20 00:48:25,394 - INFO - stemming progress: 3300/4042\n",
      "2024-09-20 00:48:28,352 - INFO - stemming progress: 3400/4042\n",
      "2024-09-20 00:48:29,568 - INFO - stemming progress: 3500/4042\n",
      "2024-09-20 00:48:30,555 - INFO - stemming progress: 3600/4042\n",
      "2024-09-20 00:48:32,440 - INFO - stemming progress: 3700/4042\n",
      "2024-09-20 00:48:34,856 - INFO - stemming progress: 3800/4042\n",
      "2024-09-20 00:48:36,115 - INFO - stemming progress: 3900/4042\n",
      "2024-09-20 00:48:40,599 - INFO - stemming progress: 4000/4042\n"
     ]
    },
    {
     "data": {
      "text/html": [
       "<div>\n",
       "<style scoped>\n",
       "    .dataframe tbody tr th:only-of-type {\n",
       "        vertical-align: middle;\n",
       "    }\n",
       "\n",
       "    .dataframe tbody tr th {\n",
       "        vertical-align: top;\n",
       "    }\n",
       "\n",
       "    .dataframe thead th {\n",
       "        text-align: right;\n",
       "    }\n",
       "</style>\n",
       "<table border=\"1\" class=\"dataframe\">\n",
       "  <thead>\n",
       "    <tr style=\"text-align: right;\">\n",
       "      <th></th>\n",
       "      <th>after_stemming_text</th>\n",
       "    </tr>\n",
       "  </thead>\n",
       "  <tbody>\n",
       "    <tr>\n",
       "      <th>4037</th>\n",
       "      <td>pindah kota gambar tekad indonesia capai tuju</td>\n",
       "    </tr>\n",
       "    <tr>\n",
       "      <th>4038</th>\n",
       "      <td>pindah kota bukti serius kelola sumber daya alam</td>\n",
       "    </tr>\n",
       "    <tr>\n",
       "      <th>4039</th>\n",
       "      <td>pindah kota nusantara buka peluang bisnis warg...</td>\n",
       "    </tr>\n",
       "    <tr>\n",
       "      <th>4040</th>\n",
       "      <td>presiden jokowi pindah kota nusantara buka pel...</td>\n",
       "    </tr>\n",
       "    <tr>\n",
       "      <th>4041</th>\n",
       "      <td>dukung pindah kota nusantara optimal guna sumb...</td>\n",
       "    </tr>\n",
       "  </tbody>\n",
       "</table>\n",
       "</div>"
      ],
      "text/plain": [
       "                                    after_stemming_text\n",
       "4037      pindah kota gambar tekad indonesia capai tuju\n",
       "4038   pindah kota bukti serius kelola sumber daya alam\n",
       "4039  pindah kota nusantara buka peluang bisnis warg...\n",
       "4040  presiden jokowi pindah kota nusantara buka pel...\n",
       "4041  dukung pindah kota nusantara optimal guna sumb..."
      ]
     },
     "metadata": {},
     "output_type": "display_data"
    }
   ],
   "source": [
    "factory = StemmerFactory()\n",
    "stemmer = factory.create_stemmer()\n",
    "\n",
    "def stem_indonesian_text(text, index):\n",
    "  # logger\n",
    "  if index % 100 == 0:\n",
    "    logger.info(f\"stemming progress: {index}/{DATA_FRAME_DATASET_LENGTH}\")\n",
    "\n",
    "  return \" \".join([stemmer.stem(word) for word in text.split()])\n",
    "\n",
    "# apply stemming with streaming logs\n",
    "for index, row in DATA_FRAME_DATASET.iterrows():\n",
    "  DATA_FRAME_DATASET.at[index, \"after_stemming_text\"] = stem_indonesian_text(row[\"after_stopwords_text\"], index)\n",
    "\n",
    "display(DATA_FRAME_DATASET[\"after_stemming_text\"].tail().to_frame())"
   ]
  },
  {
   "cell_type": "markdown",
   "metadata": {},
   "source": [
    "# EXPORT INDONESIAN PREPROCESSED DATASET\n"
   ]
  },
  {
   "cell_type": "code",
   "execution_count": 42,
   "metadata": {},
   "outputs": [],
   "source": [
    "# final column\n",
    "DATA_FRAME_DATASET[\"ind_preprocessed_text\"] = DATA_FRAME_DATASET[\"after_stemming_text\"]\n",
    "\n",
    "DATA_FRAME_DATASET.to_csv(\"outputs/ind-preprocessed.csv\", index=False)"
   ]
  }
 ],
 "metadata": {
  "kernelspec": {
   "display_name": "Python 3",
   "language": "python",
   "name": "python3"
  },
  "language_info": {
   "codemirror_mode": {
    "name": "ipython",
    "version": 3
   },
   "file_extension": ".py",
   "mimetype": "text/x-python",
   "name": "python",
   "nbconvert_exporter": "python",
   "pygments_lexer": "ipython3",
   "version": "3.12.4"
  }
 },
 "nbformat": 4,
 "nbformat_minor": 2
}
