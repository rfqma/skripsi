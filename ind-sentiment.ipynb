{
 "cells": [
  {
   "cell_type": "markdown",
   "metadata": {},
   "source": [
    "# LIBRARIES\n"
   ]
  },
  {
   "cell_type": "code",
   "execution_count": 1,
   "metadata": {},
   "outputs": [
    {
     "name": "stderr",
     "output_type": "stream",
     "text": [
      "[nltk_data] Downloading package vader_lexicon to\n",
      "[nltk_data]     C:\\Users\\user\\AppData\\Roaming\\nltk_data...\n",
      "[nltk_data]   Package vader_lexicon is already up-to-date!\n"
     ]
    }
   ],
   "source": [
    "import pandas as pd\n",
    "import nltk\n",
    "import json\n",
    "nltk.download('vader_lexicon')\n",
    "from nltk.sentiment.vader import SentimentIntensityAnalyzer\n",
    "import seaborn as sns\n",
    "import numpy as np\n",
    "import matplotlib.pyplot as plt"
   ]
  },
  {
   "cell_type": "markdown",
   "metadata": {},
   "source": [
    "# INISIASI DATASET\n"
   ]
  },
  {
   "cell_type": "code",
   "execution_count": 2,
   "metadata": {},
   "outputs": [
    {
     "name": "stdout",
     "output_type": "stream",
     "text": [
      "pre-processed dataset: 4042 tweets\n"
     ]
    },
    {
     "data": {
      "text/html": [
       "<div>\n",
       "<style scoped>\n",
       "    .dataframe tbody tr th:only-of-type {\n",
       "        vertical-align: middle;\n",
       "    }\n",
       "\n",
       "    .dataframe tbody tr th {\n",
       "        vertical-align: top;\n",
       "    }\n",
       "\n",
       "    .dataframe thead th {\n",
       "        text-align: right;\n",
       "    }\n",
       "</style>\n",
       "<table border=\"1\" class=\"dataframe\">\n",
       "  <thead>\n",
       "    <tr style=\"text-align: right;\">\n",
       "      <th></th>\n",
       "      <th>user_id</th>\n",
       "      <th>username</th>\n",
       "      <th>user_display_name</th>\n",
       "      <th>tweet_id</th>\n",
       "      <th>full_text</th>\n",
       "      <th>created_at</th>\n",
       "      <th>cleaned_text</th>\n",
       "      <th>after_slang_text</th>\n",
       "      <th>after_stopwords_text</th>\n",
       "      <th>after_stemming_text</th>\n",
       "      <th>ind_preprocessed_text</th>\n",
       "    </tr>\n",
       "  </thead>\n",
       "  <tbody>\n",
       "    <tr>\n",
       "      <th>4041</th>\n",
       "      <td>1685924328851038208</td>\n",
       "      <td>maulani_salsa76</td>\n",
       "      <td>Maulani Salsa</td>\n",
       "      <td>1822028454411563237</td>\n",
       "      <td>@aminun40 Dukung pemindahan Ibu Kota Nusantara...</td>\n",
       "      <td>Fri Aug 09 21:53:29 +0000 2024</td>\n",
       "      <td>dukung pemindahan ibu kota nusantara untuk men...</td>\n",
       "      <td>dukung pemindahan ibu kota nusantara untuk men...</td>\n",
       "      <td>dukung pemindahan kota nusantara mengoptimalka...</td>\n",
       "      <td>dukung pindah kota nusantara optimal guna sumb...</td>\n",
       "      <td>dukung pindah kota nusantara optimal guna sumb...</td>\n",
       "    </tr>\n",
       "  </tbody>\n",
       "</table>\n",
       "</div>"
      ],
      "text/plain": [
       "                  user_id         username user_display_name  \\\n",
       "4041  1685924328851038208  maulani_salsa76     Maulani Salsa   \n",
       "\n",
       "                 tweet_id                                          full_text  \\\n",
       "4041  1822028454411563237  @aminun40 Dukung pemindahan Ibu Kota Nusantara...   \n",
       "\n",
       "                          created_at  \\\n",
       "4041  Fri Aug 09 21:53:29 +0000 2024   \n",
       "\n",
       "                                           cleaned_text  \\\n",
       "4041  dukung pemindahan ibu kota nusantara untuk men...   \n",
       "\n",
       "                                       after_slang_text  \\\n",
       "4041  dukung pemindahan ibu kota nusantara untuk men...   \n",
       "\n",
       "                                   after_stopwords_text  \\\n",
       "4041  dukung pemindahan kota nusantara mengoptimalka...   \n",
       "\n",
       "                                    after_stemming_text  \\\n",
       "4041  dukung pindah kota nusantara optimal guna sumb...   \n",
       "\n",
       "                                  ind_preprocessed_text  \n",
       "4041  dukung pindah kota nusantara optimal guna sumb...  "
      ]
     },
     "metadata": {},
     "output_type": "display_data"
    }
   ],
   "source": [
    "# import\n",
    "PREPROCESSED_DATASET_FILE_NAME = \"ind-preprocessed.csv\"\n",
    "PREPROCESSED_DATASET_FILE_PATH = f\"outputs/{PREPROCESSED_DATASET_FILE_NAME}\"\n",
    "DATA_FRAME_PREPROCESSED_DATASET = pd.read_csv(PREPROCESSED_DATASET_FILE_PATH)\n",
    "DATA_FRAME_PREPROCESSED_DATASET_LENGTH = len(DATA_FRAME_PREPROCESSED_DATASET)\n",
    "print(f\"pre-processed dataset: {DATA_FRAME_PREPROCESSED_DATASET_LENGTH} tweets\")\n",
    "display(DATA_FRAME_PREPROCESSED_DATASET.tail(1))"
   ]
  },
  {
   "cell_type": "markdown",
   "metadata": {},
   "source": [
    "# INISIASI LEKSIKON\n"
   ]
  },
  {
   "cell_type": "markdown",
   "metadata": {},
   "source": [
    "> Source\n",
    ">\n",
    "> - [lexicon_json_inset-neg.txt](https://github.com/lailikanabila/ANALISIS-SENTIMEN-PADA-PERPINDAHAN-IBUKOTA-INDONESIA-DENGAN-ALGORITMA-SUPPORT-VECTOR-MACHINE/blob/main/Dictionary/inset/_json_inset-neg.txt)\n",
    "> - [lexicon_json_inset-pos.txt](https://github.com/lailikanabila/ANALISIS-SENTIMEN-PADA-PERPINDAHAN-IBUKOTA-INDONESIA-DENGAN-ALGORITMA-SUPPORT-VECTOR-MACHINE/blob/main/Dictionary/inset/_json_inset-pos.txt)\n",
    "> - [lexicon_json_sentiwords_id.txt](https://github.com/lailikanabila/ANALISIS-SENTIMEN-PADA-PERPINDAHAN-IBUKOTA-INDONESIA-DENGAN-ALGORITMA-SUPPORT-VECTOR-MACHINE/blob/main/Dictionary/sentistrength_id/_json_sentiwords_id.txt)\n",
    "\n",
    "> References\n",
    ">\n",
    "> - `InSet (Indonesia Sentiment Lexicon)`\n",
    ">   - [Fajri Koto, and Gemala Y. Rahmaningtyas \"InSet Lexicon: Evaluation of a Word List for Indonesian Sentiment Analysis in Microblogs\". IEEE in the 21st International Conference on Asian Language Processing (IALP), Singapore, December 2017.](https://www.researchgate.net/publication/321757985_InSet_Lexicon_Evaluation_of_a_Word_List_for_Indonesian_Sentiment_Analysis_in_Microblogs)\n",
    ">     - The InSet Lexicon consists of 3,609 positive words and 6,609 negative words with weight ranging from -5 to +5\n",
    "> - `sentistrength_id`\n",
    ">   - Wahid, D. H., & Azhari, S. N. (2016). Peringkasan Sentimen Esktraktif di Twitter Menggunakan Hybrid TF-IDF dan Cosine Similarity. IJCCS (Indonesian Journal of Computing and Cybernetics Systems), 10(2), 207-218.\n",
    ">     - The InSet Lexicon consists of 3,609 positive words and 6,609 negative words with weight ranging from -5 to +5\n"
   ]
  },
  {
   "cell_type": "code",
   "execution_count": 3,
   "metadata": {},
   "outputs": [],
   "source": [
    "# InSet\n",
    "with open(\"./dictionaries/lexicon/lexicon_json_inset-neg.txt\") as f:\n",
    "  inset_neg = f.read()\n",
    "with open(\"./dictionaries/lexicon/lexicon_json_inset-pos.txt\") as f:\n",
    "  inset_pos = f.read()\n",
    "\n",
    "insetNeg = json.loads(inset_neg)\n",
    "insetPos = json.loads(inset_pos)\n",
    "\n",
    "# sentistrength_id\n",
    "with open(\"./dictionaries/lexicon/lexicon_json_sentiwords_id.txt\") as f:\n",
    "  sentistrength_id = f.read()\n",
    "\n",
    "sentistrength = json.loads(sentistrength_id)"
   ]
  },
  {
   "cell_type": "markdown",
   "metadata": {},
   "source": [
    "# SENTIMENT LABELLING\n"
   ]
  },
  {
   "cell_type": "markdown",
   "metadata": {},
   "source": [
    "InSet Lexicon\n"
   ]
  },
  {
   "cell_type": "code",
   "execution_count": 4,
   "metadata": {},
   "outputs": [],
   "source": [
    "# inisiasi vader sentiment analyzer\n",
    "sia_inset_neg = SentimentIntensityAnalyzer()\n",
    "sia_inset_pos = SentimentIntensityAnalyzer()\n",
    "\n",
    "\n",
    "# clear default lexicon\n",
    "sia_inset_neg.lexicon.clear()\n",
    "sia_inset_pos.lexicon.clear()\n",
    "\n",
    "# assign InSet lexicon\n",
    "sia_inset_neg.lexicon.update(insetNeg)\n",
    "sia_inset_pos.lexicon.update(insetPos)"
   ]
  },
  {
   "cell_type": "code",
   "execution_count": 5,
   "metadata": {},
   "outputs": [
    {
     "data": {
      "text/html": [
       "<div>\n",
       "<style scoped>\n",
       "    .dataframe tbody tr th:only-of-type {\n",
       "        vertical-align: middle;\n",
       "    }\n",
       "\n",
       "    .dataframe tbody tr th {\n",
       "        vertical-align: top;\n",
       "    }\n",
       "\n",
       "    .dataframe thead th {\n",
       "        text-align: right;\n",
       "    }\n",
       "</style>\n",
       "<table border=\"1\" class=\"dataframe\">\n",
       "  <thead>\n",
       "    <tr style=\"text-align: right;\">\n",
       "      <th></th>\n",
       "      <th>user_id</th>\n",
       "      <th>username</th>\n",
       "      <th>user_display_name</th>\n",
       "      <th>tweet_id</th>\n",
       "      <th>full_text</th>\n",
       "      <th>created_at</th>\n",
       "      <th>cleaned_text</th>\n",
       "      <th>after_slang_text</th>\n",
       "      <th>after_stopwords_text</th>\n",
       "      <th>after_stemming_text</th>\n",
       "      <th>ind_preprocessed_text</th>\n",
       "      <th>inset_compound_score</th>\n",
       "    </tr>\n",
       "  </thead>\n",
       "  <tbody>\n",
       "    <tr>\n",
       "      <th>4041</th>\n",
       "      <td>1685924328851038208</td>\n",
       "      <td>maulani_salsa76</td>\n",
       "      <td>Maulani Salsa</td>\n",
       "      <td>1822028454411563237</td>\n",
       "      <td>@aminun40 Dukung pemindahan Ibu Kota Nusantara...</td>\n",
       "      <td>Fri Aug 09 21:53:29 +0000 2024</td>\n",
       "      <td>dukung pemindahan ibu kota nusantara untuk men...</td>\n",
       "      <td>dukung pemindahan ibu kota nusantara untuk men...</td>\n",
       "      <td>dukung pemindahan kota nusantara mengoptimalka...</td>\n",
       "      <td>dukung pindah kota nusantara optimal guna sumb...</td>\n",
       "      <td>dukung pindah kota nusantara optimal guna sumb...</td>\n",
       "      <td>0.1095</td>\n",
       "    </tr>\n",
       "  </tbody>\n",
       "</table>\n",
       "</div>"
      ],
      "text/plain": [
       "                  user_id         username user_display_name  \\\n",
       "4041  1685924328851038208  maulani_salsa76     Maulani Salsa   \n",
       "\n",
       "                 tweet_id                                          full_text  \\\n",
       "4041  1822028454411563237  @aminun40 Dukung pemindahan Ibu Kota Nusantara...   \n",
       "\n",
       "                          created_at  \\\n",
       "4041  Fri Aug 09 21:53:29 +0000 2024   \n",
       "\n",
       "                                           cleaned_text  \\\n",
       "4041  dukung pemindahan ibu kota nusantara untuk men...   \n",
       "\n",
       "                                       after_slang_text  \\\n",
       "4041  dukung pemindahan ibu kota nusantara untuk men...   \n",
       "\n",
       "                                   after_stopwords_text  \\\n",
       "4041  dukung pemindahan kota nusantara mengoptimalka...   \n",
       "\n",
       "                                    after_stemming_text  \\\n",
       "4041  dukung pindah kota nusantara optimal guna sumb...   \n",
       "\n",
       "                                  ind_preprocessed_text  inset_compound_score  \n",
       "4041  dukung pindah kota nusantara optimal guna sumb...                0.1095  "
      ]
     },
     "metadata": {},
     "output_type": "display_data"
    }
   ],
   "source": [
    "# polarity score\n",
    "def get_inset_compound_score(text):\n",
    "  inset_compound_score = sia_inset_neg.polarity_scores(text)[\"compound\"] + sia_inset_pos.polarity_scores(text)[\"compound\"]\n",
    "  return inset_compound_score\n",
    "\n",
    "DATA_FRAME_PREPROCESSED_DATASET[\"inset_compound_score\"] = DATA_FRAME_PREPROCESSED_DATASET[\"ind_preprocessed_text\"].apply(get_inset_compound_score)\n",
    "display(DATA_FRAME_PREPROCESSED_DATASET.tail(1))"
   ]
  },
  {
   "cell_type": "code",
   "execution_count": 6,
   "metadata": {},
   "outputs": [
    {
     "data": {
      "text/html": [
       "<div>\n",
       "<style scoped>\n",
       "    .dataframe tbody tr th:only-of-type {\n",
       "        vertical-align: middle;\n",
       "    }\n",
       "\n",
       "    .dataframe tbody tr th {\n",
       "        vertical-align: top;\n",
       "    }\n",
       "\n",
       "    .dataframe thead th {\n",
       "        text-align: right;\n",
       "    }\n",
       "</style>\n",
       "<table border=\"1\" class=\"dataframe\">\n",
       "  <thead>\n",
       "    <tr style=\"text-align: right;\">\n",
       "      <th></th>\n",
       "      <th>user_id</th>\n",
       "      <th>username</th>\n",
       "      <th>user_display_name</th>\n",
       "      <th>tweet_id</th>\n",
       "      <th>full_text</th>\n",
       "      <th>created_at</th>\n",
       "      <th>cleaned_text</th>\n",
       "      <th>after_slang_text</th>\n",
       "      <th>after_stopwords_text</th>\n",
       "      <th>after_stemming_text</th>\n",
       "      <th>ind_preprocessed_text</th>\n",
       "      <th>inset_compound_score</th>\n",
       "      <th>inset_label</th>\n",
       "    </tr>\n",
       "  </thead>\n",
       "  <tbody>\n",
       "    <tr>\n",
       "      <th>4041</th>\n",
       "      <td>1685924328851038208</td>\n",
       "      <td>maulani_salsa76</td>\n",
       "      <td>Maulani Salsa</td>\n",
       "      <td>1822028454411563237</td>\n",
       "      <td>@aminun40 Dukung pemindahan Ibu Kota Nusantara...</td>\n",
       "      <td>Fri Aug 09 21:53:29 +0000 2024</td>\n",
       "      <td>dukung pemindahan ibu kota nusantara untuk men...</td>\n",
       "      <td>dukung pemindahan ibu kota nusantara untuk men...</td>\n",
       "      <td>dukung pemindahan kota nusantara mengoptimalka...</td>\n",
       "      <td>dukung pindah kota nusantara optimal guna sumb...</td>\n",
       "      <td>dukung pindah kota nusantara optimal guna sumb...</td>\n",
       "      <td>0.1095</td>\n",
       "      <td>positif</td>\n",
       "    </tr>\n",
       "  </tbody>\n",
       "</table>\n",
       "</div>"
      ],
      "text/plain": [
       "                  user_id         username user_display_name  \\\n",
       "4041  1685924328851038208  maulani_salsa76     Maulani Salsa   \n",
       "\n",
       "                 tweet_id                                          full_text  \\\n",
       "4041  1822028454411563237  @aminun40 Dukung pemindahan Ibu Kota Nusantara...   \n",
       "\n",
       "                          created_at  \\\n",
       "4041  Fri Aug 09 21:53:29 +0000 2024   \n",
       "\n",
       "                                           cleaned_text  \\\n",
       "4041  dukung pemindahan ibu kota nusantara untuk men...   \n",
       "\n",
       "                                       after_slang_text  \\\n",
       "4041  dukung pemindahan ibu kota nusantara untuk men...   \n",
       "\n",
       "                                   after_stopwords_text  \\\n",
       "4041  dukung pemindahan kota nusantara mengoptimalka...   \n",
       "\n",
       "                                    after_stemming_text  \\\n",
       "4041  dukung pindah kota nusantara optimal guna sumb...   \n",
       "\n",
       "                                  ind_preprocessed_text  inset_compound_score  \\\n",
       "4041  dukung pindah kota nusantara optimal guna sumb...                0.1095   \n",
       "\n",
       "     inset_label  \n",
       "4041     positif  "
      ]
     },
     "metadata": {},
     "output_type": "display_data"
    }
   ],
   "source": [
    "# labelling\n",
    "def get_inset_label(number):\n",
    "  if number < 0:\n",
    "    return \"negatif\"\n",
    "  elif number == 0:\n",
    "    return \"netral\"\n",
    "  elif number > 0:\n",
    "    return \"positif\"\n",
    "  else:\n",
    "    return\n",
    "\n",
    "DATA_FRAME_PREPROCESSED_DATASET[\"inset_label\"] = DATA_FRAME_PREPROCESSED_DATASET[\"inset_compound_score\"].apply(get_inset_label)\n",
    "display(DATA_FRAME_PREPROCESSED_DATASET.tail(1))"
   ]
  },
  {
   "cell_type": "markdown",
   "metadata": {},
   "source": [
    "sentistrength_id\n"
   ]
  },
  {
   "cell_type": "code",
   "execution_count": 7,
   "metadata": {},
   "outputs": [],
   "source": [
    "# inisiasi vader sentiment analyzer\n",
    "sia_sentistrength = SentimentIntensityAnalyzer()\n",
    "\n",
    "# clear default lexicon\n",
    "sia_sentistrength.lexicon.clear()\n",
    "\n",
    "# assign sentistrength lexicon\n",
    "sia_sentistrength.lexicon.update(sentistrength)"
   ]
  },
  {
   "cell_type": "code",
   "execution_count": 8,
   "metadata": {},
   "outputs": [
    {
     "data": {
      "text/html": [
       "<div>\n",
       "<style scoped>\n",
       "    .dataframe tbody tr th:only-of-type {\n",
       "        vertical-align: middle;\n",
       "    }\n",
       "\n",
       "    .dataframe tbody tr th {\n",
       "        vertical-align: top;\n",
       "    }\n",
       "\n",
       "    .dataframe thead th {\n",
       "        text-align: right;\n",
       "    }\n",
       "</style>\n",
       "<table border=\"1\" class=\"dataframe\">\n",
       "  <thead>\n",
       "    <tr style=\"text-align: right;\">\n",
       "      <th></th>\n",
       "      <th>user_id</th>\n",
       "      <th>username</th>\n",
       "      <th>user_display_name</th>\n",
       "      <th>tweet_id</th>\n",
       "      <th>full_text</th>\n",
       "      <th>created_at</th>\n",
       "      <th>cleaned_text</th>\n",
       "      <th>after_slang_text</th>\n",
       "      <th>after_stopwords_text</th>\n",
       "      <th>after_stemming_text</th>\n",
       "      <th>ind_preprocessed_text</th>\n",
       "      <th>inset_compound_score</th>\n",
       "      <th>inset_label</th>\n",
       "      <th>sentistrength_compound_score</th>\n",
       "    </tr>\n",
       "  </thead>\n",
       "  <tbody>\n",
       "    <tr>\n",
       "      <th>4041</th>\n",
       "      <td>1685924328851038208</td>\n",
       "      <td>maulani_salsa76</td>\n",
       "      <td>Maulani Salsa</td>\n",
       "      <td>1822028454411563237</td>\n",
       "      <td>@aminun40 Dukung pemindahan Ibu Kota Nusantara...</td>\n",
       "      <td>Fri Aug 09 21:53:29 +0000 2024</td>\n",
       "      <td>dukung pemindahan ibu kota nusantara untuk men...</td>\n",
       "      <td>dukung pemindahan ibu kota nusantara untuk men...</td>\n",
       "      <td>dukung pemindahan kota nusantara mengoptimalka...</td>\n",
       "      <td>dukung pindah kota nusantara optimal guna sumb...</td>\n",
       "      <td>dukung pindah kota nusantara optimal guna sumb...</td>\n",
       "      <td>0.1095</td>\n",
       "      <td>positif</td>\n",
       "      <td>0.875</td>\n",
       "    </tr>\n",
       "  </tbody>\n",
       "</table>\n",
       "</div>"
      ],
      "text/plain": [
       "                  user_id         username user_display_name  \\\n",
       "4041  1685924328851038208  maulani_salsa76     Maulani Salsa   \n",
       "\n",
       "                 tweet_id                                          full_text  \\\n",
       "4041  1822028454411563237  @aminun40 Dukung pemindahan Ibu Kota Nusantara...   \n",
       "\n",
       "                          created_at  \\\n",
       "4041  Fri Aug 09 21:53:29 +0000 2024   \n",
       "\n",
       "                                           cleaned_text  \\\n",
       "4041  dukung pemindahan ibu kota nusantara untuk men...   \n",
       "\n",
       "                                       after_slang_text  \\\n",
       "4041  dukung pemindahan ibu kota nusantara untuk men...   \n",
       "\n",
       "                                   after_stopwords_text  \\\n",
       "4041  dukung pemindahan kota nusantara mengoptimalka...   \n",
       "\n",
       "                                    after_stemming_text  \\\n",
       "4041  dukung pindah kota nusantara optimal guna sumb...   \n",
       "\n",
       "                                  ind_preprocessed_text  inset_compound_score  \\\n",
       "4041  dukung pindah kota nusantara optimal guna sumb...                0.1095   \n",
       "\n",
       "     inset_label  sentistrength_compound_score  \n",
       "4041     positif                         0.875  "
      ]
     },
     "metadata": {},
     "output_type": "display_data"
    }
   ],
   "source": [
    "# polarity score\n",
    "def get_sentistrength_compound_score(text):\n",
    "  sentistrength_compound_score = sia_sentistrength.polarity_scores(text)[\"compound\"]\n",
    "  return sentistrength_compound_score\n",
    "\n",
    "DATA_FRAME_PREPROCESSED_DATASET[\"sentistrength_compound_score\"] = DATA_FRAME_PREPROCESSED_DATASET[\"ind_preprocessed_text\"].apply(get_sentistrength_compound_score)\n",
    "display(DATA_FRAME_PREPROCESSED_DATASET.tail(1))"
   ]
  },
  {
   "cell_type": "code",
   "execution_count": 9,
   "metadata": {},
   "outputs": [
    {
     "data": {
      "text/html": [
       "<div>\n",
       "<style scoped>\n",
       "    .dataframe tbody tr th:only-of-type {\n",
       "        vertical-align: middle;\n",
       "    }\n",
       "\n",
       "    .dataframe tbody tr th {\n",
       "        vertical-align: top;\n",
       "    }\n",
       "\n",
       "    .dataframe thead th {\n",
       "        text-align: right;\n",
       "    }\n",
       "</style>\n",
       "<table border=\"1\" class=\"dataframe\">\n",
       "  <thead>\n",
       "    <tr style=\"text-align: right;\">\n",
       "      <th></th>\n",
       "      <th>user_id</th>\n",
       "      <th>username</th>\n",
       "      <th>user_display_name</th>\n",
       "      <th>tweet_id</th>\n",
       "      <th>full_text</th>\n",
       "      <th>created_at</th>\n",
       "      <th>cleaned_text</th>\n",
       "      <th>after_slang_text</th>\n",
       "      <th>after_stopwords_text</th>\n",
       "      <th>after_stemming_text</th>\n",
       "      <th>ind_preprocessed_text</th>\n",
       "      <th>inset_compound_score</th>\n",
       "      <th>inset_label</th>\n",
       "      <th>sentistrength_compound_score</th>\n",
       "      <th>sentistrength_label</th>\n",
       "    </tr>\n",
       "  </thead>\n",
       "  <tbody>\n",
       "    <tr>\n",
       "      <th>4041</th>\n",
       "      <td>1685924328851038208</td>\n",
       "      <td>maulani_salsa76</td>\n",
       "      <td>Maulani Salsa</td>\n",
       "      <td>1822028454411563237</td>\n",
       "      <td>@aminun40 Dukung pemindahan Ibu Kota Nusantara...</td>\n",
       "      <td>Fri Aug 09 21:53:29 +0000 2024</td>\n",
       "      <td>dukung pemindahan ibu kota nusantara untuk men...</td>\n",
       "      <td>dukung pemindahan ibu kota nusantara untuk men...</td>\n",
       "      <td>dukung pemindahan kota nusantara mengoptimalka...</td>\n",
       "      <td>dukung pindah kota nusantara optimal guna sumb...</td>\n",
       "      <td>dukung pindah kota nusantara optimal guna sumb...</td>\n",
       "      <td>0.1095</td>\n",
       "      <td>positif</td>\n",
       "      <td>0.875</td>\n",
       "      <td>positif</td>\n",
       "    </tr>\n",
       "  </tbody>\n",
       "</table>\n",
       "</div>"
      ],
      "text/plain": [
       "                  user_id         username user_display_name  \\\n",
       "4041  1685924328851038208  maulani_salsa76     Maulani Salsa   \n",
       "\n",
       "                 tweet_id                                          full_text  \\\n",
       "4041  1822028454411563237  @aminun40 Dukung pemindahan Ibu Kota Nusantara...   \n",
       "\n",
       "                          created_at  \\\n",
       "4041  Fri Aug 09 21:53:29 +0000 2024   \n",
       "\n",
       "                                           cleaned_text  \\\n",
       "4041  dukung pemindahan ibu kota nusantara untuk men...   \n",
       "\n",
       "                                       after_slang_text  \\\n",
       "4041  dukung pemindahan ibu kota nusantara untuk men...   \n",
       "\n",
       "                                   after_stopwords_text  \\\n",
       "4041  dukung pemindahan kota nusantara mengoptimalka...   \n",
       "\n",
       "                                    after_stemming_text  \\\n",
       "4041  dukung pindah kota nusantara optimal guna sumb...   \n",
       "\n",
       "                                  ind_preprocessed_text  inset_compound_score  \\\n",
       "4041  dukung pindah kota nusantara optimal guna sumb...                0.1095   \n",
       "\n",
       "     inset_label  sentistrength_compound_score sentistrength_label  \n",
       "4041     positif                         0.875             positif  "
      ]
     },
     "metadata": {},
     "output_type": "display_data"
    }
   ],
   "source": [
    "# labelling\n",
    "def get_sentistrength_label(number):\n",
    "  if number < 0:\n",
    "    return \"negatif\"\n",
    "  elif number == 0:\n",
    "    return \"netral\"\n",
    "  elif number > 0:\n",
    "    return \"positif\"\n",
    "  else:\n",
    "    return\n",
    "\n",
    "DATA_FRAME_PREPROCESSED_DATASET[\"sentistrength_label\"] = DATA_FRAME_PREPROCESSED_DATASET[\"sentistrength_compound_score\"].apply(get_sentistrength_label)\n",
    "display(DATA_FRAME_PREPROCESSED_DATASET.tail(1))"
   ]
  },
  {
   "cell_type": "markdown",
   "metadata": {},
   "source": [
    "# EXPORT\n"
   ]
  },
  {
   "cell_type": "code",
   "execution_count": 10,
   "metadata": {},
   "outputs": [],
   "source": [
    "DATA_FRAME_PREPROCESSED_DATASET.to_csv(\"outputs/ind-sentiment.csv\", index=False)"
   ]
  },
  {
   "cell_type": "markdown",
   "metadata": {},
   "source": [
    "# FRESH DATASET VS CURRENT DATASET TOTAL DATA\n"
   ]
  },
  {
   "cell_type": "code",
   "execution_count": 11,
   "metadata": {},
   "outputs": [
    {
     "data": {
      "image/png": "[encoded data removed]",
      "text/plain": [
       "<Figure size 640x480 with 1 Axes>"
      ]
     },
     "metadata": {},
     "output_type": "display_data"
    }
   ],
   "source": [
    "fresh_dataset = pd.read_csv(\"datasets/merged/merged_dataset.csv\")\n",
    "current_dataset = pd.read_csv(\"outputs/ind-sentiment.csv\")\n",
    "\n",
    "vol = [['Data Awal', len(fresh_dataset)],\n",
    "       ['Data Saat Ini', len(current_dataset)]]\n",
    "df = pd.DataFrame(vol, columns=['dt_type', 'dt_vol'])\n",
    "sns.set_palette('PuBu',2)\n",
    "ax = sns.barplot(data=df.reset_index(), x='dt_type', y='dt_vol')\n",
    "ax.set_ylabel('jumlah')\n",
    "ax.set_xlabel('')\n",
    "ax.set_title('perbandingan data awal terhadap data saat ini', fontsize=15)\n",
    "ax.yaxis.set_ticks(np.arange(0, 5000, 2000))\n",
    "plt.show()"
   ]
  },
  {
   "cell_type": "markdown",
   "metadata": {},
   "source": [
    "# PIE CHART InSet VS sentistrength_id\n"
   ]
  },
  {
   "cell_type": "code",
   "execution_count": 12,
   "metadata": {},
   "outputs": [
    {
     "name": "stdout",
     "output_type": "stream",
     "text": [
      "inset_label\n",
      "negatif    2504\n",
      "positif    1207\n",
      "netral      331\n",
      "Name: count, dtype: int64\n"
     ]
    },
    {
     "data": {
      "image/png": "[encoded data removed]",
      "text/plain": [
       "<Figure size 500x500 with 1 Axes>"
      ]
     },
     "metadata": {},
     "output_type": "display_data"
    },
    {
     "name": "stdout",
     "output_type": "stream",
     "text": [
      "sentistrength_label\n",
      "netral     1874\n",
      "positif    1478\n",
      "negatif     690\n",
      "Name: count, dtype: int64\n"
     ]
    },
    {
     "data": {
      "image/png": "[encoded data removed]",
      "text/plain": [
       "<Figure size 500x500 with 1 Axes>"
      ]
     },
     "metadata": {},
     "output_type": "display_data"
    }
   ],
   "source": [
    "# InSet\n",
    "inset_label\t= DATA_FRAME_PREPROCESSED_DATASET[\"inset_label\"]\n",
    "inset_label_counts = inset_label.value_counts()\n",
    "print(inset_label_counts)\n",
    "\n",
    "positif_inset_perc = inset_label_counts.positif / inset_label_counts.sum() * 100\n",
    "netral_inset_perc = inset_label_counts.netral / inset_label_counts.sum() * 100\n",
    "negatif_inset_perc = inset_label_counts.negatif / inset_label_counts.sum() * 100\n",
    "\n",
    "labels = 'positif', 'netral', 'negatif'\n",
    "sizes = [positif_inset_perc, netral_inset_perc, negatif_inset_perc]\n",
    "colors = ['#ff9999','#66b3ff','#99ff99']\n",
    "fig = plt.figure(figsize=(5,5))\n",
    "ax = plt.axes()\n",
    "ax.pie(sizes, labels = labels, autopct='%.2f%%', colors=colors, textprops={'fontsize': 12})\n",
    "ax.set_title('Lexicon InSet', fontsize=15)\n",
    "plt.show()\n",
    "\n",
    "# sentistrength_id\n",
    "sentistrength_label = DATA_FRAME_PREPROCESSED_DATASET[\"sentistrength_label\"]\n",
    "sentistrength_label_counts = sentistrength_label.value_counts()\n",
    "print(sentistrength_label_counts)\n",
    "\n",
    "positif_sentistrength_perc = sentistrength_label_counts.positif / sentistrength_label_counts.sum() * 100\n",
    "netral_sentistrength_perc = sentistrength_label_counts.netral / sentistrength_label_counts.sum() * 100\n",
    "negatif_sentistrength_perc = sentistrength_label_counts.negatif / sentistrength_label_counts.sum() * 100\n",
    "\n",
    "labels = 'positif', 'netral', 'negatif'\n",
    "sizes = [positif_sentistrength_perc, netral_sentistrength_perc, negatif_sentistrength_perc]\n",
    "colors = ['#ff9999','#66b3ff','#99ff99']\n",
    "fig = plt.figure(figsize=(5,5))\n",
    "ax = plt.axes()\n",
    "ax.pie(sizes, labels = labels, autopct='%.2f%%', colors=colors, textprops={'fontsize': 12})\n",
    "ax.set_title('Lexicon sentistrength_id', fontsize=15)\n",
    "plt.show()"
   ]
  },
  {
   "cell_type": "markdown",
   "metadata": {},
   "source": [
    "# DIAGRAM InSet VS sentistrength_id\n"
   ]
  },
  {
   "cell_type": "code",
   "execution_count": 13,
   "metadata": {},
   "outputs": [
    {
     "data": {
      "image/png": "[encoded data removed]",
      "text/plain": [
       "<Figure size 800x600 with 1 Axes>"
      ]
     },
     "metadata": {},
     "output_type": "display_data"
    }
   ],
   "source": [
    "# Data\n",
    "inset_labels = ['positif', 'netral', 'negatif']\n",
    "inset_percents = [positif_inset_perc, netral_inset_perc, negatif_inset_perc]\n",
    "\n",
    "sentistrength_labels = ['positif', 'netral', 'negatif']\n",
    "sentistrength_percents = [positif_sentistrength_perc, netral_sentistrength_perc, negatif_sentistrength_perc]\n",
    "\n",
    "# Plotting\n",
    "fig, ax = plt.subplots(figsize=(8, 6))\n",
    "\n",
    "bar_width = 0.35\n",
    "index = np.arange(len(inset_labels))\n",
    "\n",
    "ax.bar(index, inset_percents, bar_width, label='InSet', color='#ff9999')\n",
    "ax.bar(index + bar_width, sentistrength_percents, bar_width, label='sentistrength_id', color='#66b3ff')\n",
    "\n",
    "ax.set_xlabel('Label Sentimen')\n",
    "ax.set_ylabel('Percentage')\n",
    "ax.set_title('Perbandingan Label InSet vs sentistrength_id')\n",
    "ax.set_xticks(index + bar_width / 2)\n",
    "ax.set_xticklabels(inset_labels)\n",
    "ax.legend()\n",
    "\n",
    "plt.show()\n"
   ]
  }
 ],
 "metadata": {
  "kernelspec": {
   "display_name": "Python 3",
   "language": "python",
   "name": "python3"
  },
  "language_info": {
   "codemirror_mode": {
    "name": "ipython",
    "version": 3
   },
   "file_extension": ".py",
   "mimetype": "text/x-python",
   "name": "python",
   "nbconvert_exporter": "python",
   "pygments_lexer": "ipython3",
   "version": "3.12.4"
  }
 },
 "nbformat": 4,
 "nbformat_minor": 2
}
