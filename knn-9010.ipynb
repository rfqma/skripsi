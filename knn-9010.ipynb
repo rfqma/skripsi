{
 "cells": [
  {
   "cell_type": "markdown",
   "metadata": {},
   "source": [
    "# LIBRARIES\n"
   ]
  },
  {
   "cell_type": "code",
   "execution_count": 38,
   "metadata": {},
   "outputs": [],
   "source": [
    "import pandas as pd\n",
    "from sklearn.model_selection import train_test_split\n",
    "from sklearn.neighbors import KNeighborsClassifier\n",
    "from sklearn.metrics import accuracy_score, precision_score, recall_score, f1_score, ConfusionMatrixDisplay, confusion_matrix\n",
    "import matplotlib.pyplot as plt\n",
    "import pickle\n",
    "import numpy as np\n",
    "from sklearn.feature_selection import chi2, SelectKBest\n",
    "import compress_fasttext"
   ]
  },
  {
   "cell_type": "markdown",
   "metadata": {},
   "source": [
    "# INISIASI DATASET\n"
   ]
  },
  {
   "cell_type": "code",
   "execution_count": null,
   "metadata": {},
   "outputs": [],
   "source": [
    "# import\n",
    "SENTIMENT_DATASET_FILE_NAME = \"sentiment.csv\"\n",
    "SENTIMENT_DATASET_FILE_PATH = f\"outputs/{SENTIMENT_DATASET_FILE_NAME}\"\n",
    "DATA_FRAME_SENTIMENT_DATASET = pd.read_csv(SENTIMENT_DATASET_FILE_PATH)\n",
    "DATA_FRAME_SENTIMENT_DATASET_LENGTH = len(DATA_FRAME_SENTIMENT_DATASET)\n",
    "print(f\"labelled dataset: {DATA_FRAME_SENTIMENT_DATASET_LENGTH} tweets\")\n",
    "display(DATA_FRAME_SENTIMENT_DATASET.tail(1))"
   ]
  },
  {
   "cell_type": "markdown",
   "metadata": {},
   "source": [
    "# fastText\n"
   ]
  },
  {
   "cell_type": "code",
   "execution_count": null,
   "metadata": {},
   "outputs": [],
   "source": [
    "ft_model = compress_fasttext.models.CompressedFastTextKeyedVectors.load(\"models/fastText/ft_small.model\")\n",
    "\n",
    "def document_to_vector(doc, model):\n",
    "  words = doc.split()\n",
    "  word_vectors = [model[word] for word in words if word in model]\n",
    "\n",
    "  if len(word_vectors) > 0:\n",
    "    return np.mean(word_vectors, axis=0)\n",
    "  else:\n",
    "    return np.zeros((model.get_dimension(),))\n",
    "\n",
    "X_fasttext = np.array([document_to_vector(doc, ft_model) for doc in DATA_FRAME_SENTIMENT_DATASET[\"preprocessed_text\"]])\n",
    "print(f\"FastText embedding shape: {X_fasttext.shape}\")\n",
    "print(f\"Number of features in X_fasttext: {X_fasttext.shape[1]}\")"
   ]
  },
  {
   "cell_type": "markdown",
   "metadata": {},
   "source": [
    "# Chi Square\n"
   ]
  },
  {
   "cell_type": "code",
   "execution_count": null,
   "metadata": {},
   "outputs": [],
   "source": [
    "sentiment = DATA_FRAME_SENTIMENT_DATASET\n",
    "\n",
    "# Chi-Square feature selection\n",
    "k_best_features = min(1000, X_fasttext.shape[1]) \n",
    "selector = SelectKBest(chi2, k=k_best_features)\n",
    "X_fasttext_normalized = np.abs(X_fasttext)\n",
    "X_chi2 = selector.fit_transform(X_fasttext_normalized, sentiment[\"sentiment_label\"])\n",
    "\n",
    "print(f\"Shape after Chi-Square: {X_chi2.shape}\")"
   ]
  },
  {
   "cell_type": "markdown",
   "metadata": {},
   "source": [
    "# DATA SPLIT (90% TRAIN, 10% TEST)\n"
   ]
  },
  {
   "cell_type": "code",
   "execution_count": 42,
   "metadata": {},
   "outputs": [],
   "source": [
    "X_train,X_test,Y_train,Y_test=train_test_split(X_chi2,sentiment[\"sentiment_label\"],test_size=0.1,random_state=21)"
   ]
  },
  {
   "cell_type": "markdown",
   "metadata": {},
   "source": [
    "# KNN InSet\n"
   ]
  },
  {
   "cell_type": "code",
   "execution_count": null,
   "metadata": {},
   "outputs": [],
   "source": [
    "def train_evaluate_knn(k, X_train, Y_train, X_test, Y_test):\n",
    "    knn = KNeighborsClassifier(n_neighbors=k)\n",
    "    knn.fit(X_train, Y_train)\n",
    "    y_pred = knn.predict(X_test)\n",
    "    \n",
    "    accuracy = accuracy_score(Y_test, y_pred)\n",
    "    precision = precision_score(Y_test, y_pred, average='weighted')\n",
    "    recall = recall_score(Y_test, y_pred, average='weighted')\n",
    "    f1 = f1_score(Y_test, y_pred, average='weighted')\n",
    "\n",
    "    print(f\"| k = {k} |\")\n",
    "    print(f\"| accuracy: {accuracy} |\")\n",
    "    print(f\"| precision: {precision} |\")\n",
    "    print(f\"| recall: {recall} |\")\n",
    "    print(f\"| f1: {f1} |\")\n",
    "    \n",
    "    cm = confusion_matrix(Y_test, y_pred, labels=knn.classes_)\n",
    "    disp = ConfusionMatrixDisplay(confusion_matrix=cm, display_labels=knn.classes_)\n",
    "    disp.plot()\n",
    "    plt.title(f\"confusion matrix for k={k}\")\n",
    "    plt.show()\n",
    "    \n",
    "    return knn\n",
    "\n",
    "knn1 = train_evaluate_knn(1, X_train, Y_train, X_test, Y_test)\n",
    "knn3 = train_evaluate_knn(3, X_train, Y_train, X_test, Y_test)\n",
    "knn5 = train_evaluate_knn(5, X_train, Y_train, X_test, Y_test)\n",
    "knn7 = train_evaluate_knn(7, X_train, Y_train, X_test, Y_test)"
   ]
  },
  {
   "cell_type": "markdown",
   "metadata": {},
   "source": [
    "# DUMP KNN MODEL AND CHI2 SELECTOR\n"
   ]
  },
  {
   "cell_type": "code",
   "execution_count": 44,
   "metadata": {},
   "outputs": [],
   "source": [
    "def save_model(model, filename):\n",
    "    with open(filename, 'wb') as model_file:\n",
    "            pickle.dump(model, model_file)\n",
    "\n",
    "# save_model(knn1, 'models/9010/knn1_9010_model.pkl')\n",
    "# save_model(knn3, 'models/9010/knn3_9010_model.pkl')\n",
    "# save_model(knn5, 'models/9010/knn5_9010_model.pkl')\n",
    "# save_model(knn7, 'models/9010/knn7_9010_model.pkl')\n",
    "\n",
    "# save_model(selector, 'models/chi2/selector_model.pkl')"
   ]
  }
 ],
 "metadata": {
  "kernelspec": {
   "display_name": "venv",
   "language": "python",
   "name": "venv"
  },
  "language_info": {
   "codemirror_mode": {
    "name": "ipython",
    "version": 3
   },
   "file_extension": ".py",
   "mimetype": "text/x-python",
   "name": "python",
   "nbconvert_exporter": "python",
   "pygments_lexer": "ipython3",
   "version": "3.12.4"
  }
 },
 "nbformat": 4,
 "nbformat_minor": 4
}
