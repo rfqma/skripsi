{
 "cells": [
  {
   "cell_type": "markdown",
   "metadata": {},
   "source": [
    "libs\n"
   ]
  },
  {
   "cell_type": "code",
   "execution_count": 1,
   "metadata": {},
   "outputs": [
    {
     "name": "stderr",
     "output_type": "stream",
     "text": [
      "[nltk_data] Downloading package vader_lexicon to\n",
      "[nltk_data]     C:\\Users\\abelc\\AppData\\Roaming\\nltk_data...\n",
      "[nltk_data]   Package vader_lexicon is already up-to-date!\n"
     ]
    }
   ],
   "source": [
    "import pandas as pd\n",
    "import nltk\n",
    "nltk.download('vader_lexicon')\n",
    "from nltk.sentiment.vader import SentimentIntensityAnalyzer\n",
    "import json\n",
    "import matplotlib.pyplot as plt"
   ]
  },
  {
   "cell_type": "markdown",
   "metadata": {},
   "source": [
    "inisiasi leksikon\n"
   ]
  },
  {
   "cell_type": "code",
   "execution_count": 2,
   "metadata": {},
   "outputs": [
    {
     "name": "stdout",
     "output_type": "stream",
     "text": [
      "preprocessed dataset: 4 tweets\n"
     ]
    },
    {
     "data": {
      "text/html": [
       "<div>\n",
       "<style scoped>\n",
       "    .dataframe tbody tr th:only-of-type {\n",
       "        vertical-align: middle;\n",
       "    }\n",
       "\n",
       "    .dataframe tbody tr th {\n",
       "        vertical-align: top;\n",
       "    }\n",
       "\n",
       "    .dataframe thead th {\n",
       "        text-align: right;\n",
       "    }\n",
       "</style>\n",
       "<table border=\"1\" class=\"dataframe\">\n",
       "  <thead>\n",
       "    <tr style=\"text-align: right;\">\n",
       "      <th></th>\n",
       "      <th>text</th>\n",
       "      <th>cleaned_text</th>\n",
       "      <th>after_slang_text</th>\n",
       "      <th>underscore_negation_text</th>\n",
       "      <th>swap_negation_text</th>\n",
       "      <th>final_negation_text</th>\n",
       "      <th>after_stopwords_text</th>\n",
       "      <th>after_stemming_text</th>\n",
       "      <th>preprocessed_text</th>\n",
       "    </tr>\n",
       "  </thead>\n",
       "  <tbody>\n",
       "    <tr>\n",
       "      <th>3</th>\n",
       "      <td>@TirtoID Ditawarin sosok yg cuma bikin taman a...</td>\n",
       "      <td>ditawarin sosok yg cuma bikin taman aja ada an...</td>\n",
       "      <td>ditawarin sosok yang cuma bikin taman saja ada...</td>\n",
       "      <td>ditawarin sosok yang cuma bikin taman saja ada...</td>\n",
       "      <td>ditawarin sosok yang cuma bikin taman saja ada...</td>\n",
       "      <td>ditawarin sosok yang cuma bikin taman saja ada...</td>\n",
       "      <td>ditawarin sosok bikin taman analisanya memikir...</td>\n",
       "      <td>ditawarin sosok bikin taman analisanya pikir b...</td>\n",
       "      <td>ditawarin sosok bikin taman analisanya pikir b...</td>\n",
       "    </tr>\n",
       "  </tbody>\n",
       "</table>\n",
       "</div>"
      ],
      "text/plain": [
       "                                                text  \\\n",
       "3  @TirtoID Ditawarin sosok yg cuma bikin taman a...   \n",
       "\n",
       "                                        cleaned_text  \\\n",
       "3  ditawarin sosok yg cuma bikin taman aja ada an...   \n",
       "\n",
       "                                    after_slang_text  \\\n",
       "3  ditawarin sosok yang cuma bikin taman saja ada...   \n",
       "\n",
       "                            underscore_negation_text  \\\n",
       "3  ditawarin sosok yang cuma bikin taman saja ada...   \n",
       "\n",
       "                                  swap_negation_text  \\\n",
       "3  ditawarin sosok yang cuma bikin taman saja ada...   \n",
       "\n",
       "                                 final_negation_text  \\\n",
       "3  ditawarin sosok yang cuma bikin taman saja ada...   \n",
       "\n",
       "                                after_stopwords_text  \\\n",
       "3  ditawarin sosok bikin taman analisanya memikir...   \n",
       "\n",
       "                                 after_stemming_text  \\\n",
       "3  ditawarin sosok bikin taman analisanya pikir b...   \n",
       "\n",
       "                                   preprocessed_text  \n",
       "3  ditawarin sosok bikin taman analisanya pikir b...  "
      ]
     },
     "metadata": {},
     "output_type": "display_data"
    }
   ],
   "source": [
    "# import\n",
    "PREPROCESSED_DATASET_FILE_NAME = \"manual_preprocessing.csv\"\n",
    "PREPROCESSED_DATASET_FILE_PATH = f\"{PREPROCESSED_DATASET_FILE_NAME}\"\n",
    "DATA_FRAME_PREPROCESSED_DATASET = pd.read_csv(PREPROCESSED_DATASET_FILE_PATH)\n",
    "DATA_FRAME_PREPROCESSED_DATASET_LENGTH = len(DATA_FRAME_PREPROCESSED_DATASET)\n",
    "print(f\"preprocessed dataset: {DATA_FRAME_PREPROCESSED_DATASET_LENGTH} tweets\")\n",
    "display(DATA_FRAME_PREPROCESSED_DATASET.tail(1))"
   ]
  },
  {
   "cell_type": "code",
   "execution_count": 4,
   "metadata": {},
   "outputs": [],
   "source": [
    "with open(\"../lexicons/lexicon_json_inset-neg.txt\") as f:\n",
    "  inset_neg = f.read()\n",
    "with open(\"../lexicons/lexicon_json_inset-pos.txt\") as f:\n",
    "  inset_pos = f.read()\n",
    "\n",
    "insetNeg = json.loads(inset_neg)\n",
    "insetPos = json.loads(inset_pos)"
   ]
  },
  {
   "cell_type": "code",
   "execution_count": 5,
   "metadata": {},
   "outputs": [],
   "source": [
    "# inisiasi vader sentiment analyzer\n",
    "sia_inset_neg = SentimentIntensityAnalyzer()\n",
    "sia_inset_pos = SentimentIntensityAnalyzer()\n",
    "\n",
    "# clear default lexicon\n",
    "sia_inset_neg.lexicon.clear()\n",
    "sia_inset_pos.lexicon.clear()\n",
    "\n",
    "# assign InSet lexicon\n",
    "sia_inset_neg.lexicon.update(insetNeg)\n",
    "sia_inset_pos.lexicon.update(insetPos)"
   ]
  },
  {
   "cell_type": "markdown",
   "metadata": {},
   "source": [
    "labelling\n"
   ]
  },
  {
   "cell_type": "code",
   "execution_count": 6,
   "metadata": {},
   "outputs": [
    {
     "data": {
      "text/html": [
       "<div>\n",
       "<style scoped>\n",
       "    .dataframe tbody tr th:only-of-type {\n",
       "        vertical-align: middle;\n",
       "    }\n",
       "\n",
       "    .dataframe tbody tr th {\n",
       "        vertical-align: top;\n",
       "    }\n",
       "\n",
       "    .dataframe thead th {\n",
       "        text-align: right;\n",
       "    }\n",
       "</style>\n",
       "<table border=\"1\" class=\"dataframe\">\n",
       "  <thead>\n",
       "    <tr style=\"text-align: right;\">\n",
       "      <th></th>\n",
       "      <th>text</th>\n",
       "      <th>cleaned_text</th>\n",
       "      <th>after_slang_text</th>\n",
       "      <th>underscore_negation_text</th>\n",
       "      <th>swap_negation_text</th>\n",
       "      <th>final_negation_text</th>\n",
       "      <th>after_stopwords_text</th>\n",
       "      <th>after_stemming_text</th>\n",
       "      <th>preprocessed_text</th>\n",
       "      <th>compound_score</th>\n",
       "    </tr>\n",
       "  </thead>\n",
       "  <tbody>\n",
       "    <tr>\n",
       "      <th>3</th>\n",
       "      <td>@TirtoID Ditawarin sosok yg cuma bikin taman a...</td>\n",
       "      <td>ditawarin sosok yg cuma bikin taman aja ada an...</td>\n",
       "      <td>ditawarin sosok yang cuma bikin taman saja ada...</td>\n",
       "      <td>ditawarin sosok yang cuma bikin taman saja ada...</td>\n",
       "      <td>ditawarin sosok yang cuma bikin taman saja ada...</td>\n",
       "      <td>ditawarin sosok yang cuma bikin taman saja ada...</td>\n",
       "      <td>ditawarin sosok bikin taman analisanya memikir...</td>\n",
       "      <td>ditawarin sosok bikin taman analisanya pikir b...</td>\n",
       "      <td>ditawarin sosok bikin taman analisanya pikir b...</td>\n",
       "      <td>-0.4598</td>\n",
       "    </tr>\n",
       "  </tbody>\n",
       "</table>\n",
       "</div>"
      ],
      "text/plain": [
       "                                                text  \\\n",
       "3  @TirtoID Ditawarin sosok yg cuma bikin taman a...   \n",
       "\n",
       "                                        cleaned_text  \\\n",
       "3  ditawarin sosok yg cuma bikin taman aja ada an...   \n",
       "\n",
       "                                    after_slang_text  \\\n",
       "3  ditawarin sosok yang cuma bikin taman saja ada...   \n",
       "\n",
       "                            underscore_negation_text  \\\n",
       "3  ditawarin sosok yang cuma bikin taman saja ada...   \n",
       "\n",
       "                                  swap_negation_text  \\\n",
       "3  ditawarin sosok yang cuma bikin taman saja ada...   \n",
       "\n",
       "                                 final_negation_text  \\\n",
       "3  ditawarin sosok yang cuma bikin taman saja ada...   \n",
       "\n",
       "                                after_stopwords_text  \\\n",
       "3  ditawarin sosok bikin taman analisanya memikir...   \n",
       "\n",
       "                                 after_stemming_text  \\\n",
       "3  ditawarin sosok bikin taman analisanya pikir b...   \n",
       "\n",
       "                                   preprocessed_text  compound_score  \n",
       "3  ditawarin sosok bikin taman analisanya pikir b...         -0.4598  "
      ]
     },
     "metadata": {},
     "output_type": "display_data"
    }
   ],
   "source": [
    "# polarity score\n",
    "def get_inset_compound_score(text):\n",
    "  inset_compound_score = sia_inset_neg.polarity_scores(text)[\"compound\"] + sia_inset_pos.polarity_scores(text)[\"compound\"]\n",
    "  return inset_compound_score\n",
    "\n",
    "DATA_FRAME_PREPROCESSED_DATASET[\"compound_score\"] = DATA_FRAME_PREPROCESSED_DATASET[\"preprocessed_text\"].apply(get_inset_compound_score)\n",
    "display(DATA_FRAME_PREPROCESSED_DATASET.tail(1))"
   ]
  },
  {
   "cell_type": "code",
   "execution_count": 7,
   "metadata": {},
   "outputs": [
    {
     "data": {
      "text/html": [
       "<div>\n",
       "<style scoped>\n",
       "    .dataframe tbody tr th:only-of-type {\n",
       "        vertical-align: middle;\n",
       "    }\n",
       "\n",
       "    .dataframe tbody tr th {\n",
       "        vertical-align: top;\n",
       "    }\n",
       "\n",
       "    .dataframe thead th {\n",
       "        text-align: right;\n",
       "    }\n",
       "</style>\n",
       "<table border=\"1\" class=\"dataframe\">\n",
       "  <thead>\n",
       "    <tr style=\"text-align: right;\">\n",
       "      <th></th>\n",
       "      <th>text</th>\n",
       "      <th>cleaned_text</th>\n",
       "      <th>after_slang_text</th>\n",
       "      <th>underscore_negation_text</th>\n",
       "      <th>swap_negation_text</th>\n",
       "      <th>final_negation_text</th>\n",
       "      <th>after_stopwords_text</th>\n",
       "      <th>after_stemming_text</th>\n",
       "      <th>preprocessed_text</th>\n",
       "      <th>compound_score</th>\n",
       "      <th>sentiment_label</th>\n",
       "    </tr>\n",
       "  </thead>\n",
       "  <tbody>\n",
       "    <tr>\n",
       "      <th>3</th>\n",
       "      <td>@TirtoID Ditawarin sosok yg cuma bikin taman a...</td>\n",
       "      <td>ditawarin sosok yg cuma bikin taman aja ada an...</td>\n",
       "      <td>ditawarin sosok yang cuma bikin taman saja ada...</td>\n",
       "      <td>ditawarin sosok yang cuma bikin taman saja ada...</td>\n",
       "      <td>ditawarin sosok yang cuma bikin taman saja ada...</td>\n",
       "      <td>ditawarin sosok yang cuma bikin taman saja ada...</td>\n",
       "      <td>ditawarin sosok bikin taman analisanya memikir...</td>\n",
       "      <td>ditawarin sosok bikin taman analisanya pikir b...</td>\n",
       "      <td>ditawarin sosok bikin taman analisanya pikir b...</td>\n",
       "      <td>-0.4598</td>\n",
       "      <td>negatif</td>\n",
       "    </tr>\n",
       "  </tbody>\n",
       "</table>\n",
       "</div>"
      ],
      "text/plain": [
       "                                                text  \\\n",
       "3  @TirtoID Ditawarin sosok yg cuma bikin taman a...   \n",
       "\n",
       "                                        cleaned_text  \\\n",
       "3  ditawarin sosok yg cuma bikin taman aja ada an...   \n",
       "\n",
       "                                    after_slang_text  \\\n",
       "3  ditawarin sosok yang cuma bikin taman saja ada...   \n",
       "\n",
       "                            underscore_negation_text  \\\n",
       "3  ditawarin sosok yang cuma bikin taman saja ada...   \n",
       "\n",
       "                                  swap_negation_text  \\\n",
       "3  ditawarin sosok yang cuma bikin taman saja ada...   \n",
       "\n",
       "                                 final_negation_text  \\\n",
       "3  ditawarin sosok yang cuma bikin taman saja ada...   \n",
       "\n",
       "                                after_stopwords_text  \\\n",
       "3  ditawarin sosok bikin taman analisanya memikir...   \n",
       "\n",
       "                                 after_stemming_text  \\\n",
       "3  ditawarin sosok bikin taman analisanya pikir b...   \n",
       "\n",
       "                                   preprocessed_text  compound_score  \\\n",
       "3  ditawarin sosok bikin taman analisanya pikir b...         -0.4598   \n",
       "\n",
       "  sentiment_label  \n",
       "3         negatif  "
      ]
     },
     "metadata": {},
     "output_type": "display_data"
    }
   ],
   "source": [
    "# labelling\n",
    "def get_inset_label(number):\n",
    "  if number < 0:\n",
    "    return \"negatif\"\n",
    "  elif number > 0:\n",
    "    return \"positif\"\n",
    "  else:\n",
    "    return \"netral\"\n",
    "\n",
    "DATA_FRAME_PREPROCESSED_DATASET[\"sentiment_label\"] = DATA_FRAME_PREPROCESSED_DATASET[\"compound_score\"].apply(get_inset_label)\n",
    "display(DATA_FRAME_PREPROCESSED_DATASET.tail(1))"
   ]
  },
  {
   "cell_type": "markdown",
   "metadata": {},
   "source": [
    "export\n"
   ]
  },
  {
   "cell_type": "code",
   "execution_count": 8,
   "metadata": {},
   "outputs": [],
   "source": [
    "DATA_FRAME_PREPROCESSED_DATASET.to_csv(\"manual_sentiment.csv\", index=False)"
   ]
  }
 ],
 "metadata": {
  "kernelspec": {
   "display_name": "Python 3",
   "language": "python",
   "name": "python3"
  },
  "language_info": {
   "codemirror_mode": {
    "name": "ipython",
    "version": 3
   },
   "file_extension": ".py",
   "mimetype": "text/x-python",
   "name": "python",
   "nbconvert_exporter": "python",
   "pygments_lexer": "ipython3",
   "version": "3.12.4"
  }
 },
 "nbformat": 4,
 "nbformat_minor": 2
}
