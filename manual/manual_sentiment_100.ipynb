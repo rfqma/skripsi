{
 "cells": [
  {
   "cell_type": "markdown",
   "metadata": {},
   "source": [
    "libs\n"
   ]
  },
  {
   "cell_type": "code",
   "execution_count": 1,
   "metadata": {},
   "outputs": [],
   "source": [
    "import pandas as pd"
   ]
  },
  {
   "cell_type": "markdown",
   "metadata": {},
   "source": [
    "data\n"
   ]
  },
  {
   "cell_type": "code",
   "execution_count": 2,
   "metadata": {},
   "outputs": [
    {
     "name": "stdout",
     "output_type": "stream",
     "text": [
      "fresh dataset: 5341 tweets\n"
     ]
    },
    {
     "data": {
      "text/html": [
       "<div>\n",
       "<style scoped>\n",
       "    .dataframe tbody tr th:only-of-type {\n",
       "        vertical-align: middle;\n",
       "    }\n",
       "\n",
       "    .dataframe tbody tr th {\n",
       "        vertical-align: top;\n",
       "    }\n",
       "\n",
       "    .dataframe thead th {\n",
       "        text-align: right;\n",
       "    }\n",
       "</style>\n",
       "<table border=\"1\" class=\"dataframe\">\n",
       "  <thead>\n",
       "    <tr style=\"text-align: right;\">\n",
       "      <th></th>\n",
       "      <th>Unnamed: 0</th>\n",
       "      <th>no</th>\n",
       "      <th>urls</th>\n",
       "      <th>user_id</th>\n",
       "      <th>username</th>\n",
       "      <th>user_display_name</th>\n",
       "      <th>tweet_id</th>\n",
       "      <th>full_text</th>\n",
       "      <th>created_at</th>\n",
       "      <th>retweet_count</th>\n",
       "      <th>like_count</th>\n",
       "    </tr>\n",
       "  </thead>\n",
       "  <tbody>\n",
       "    <tr>\n",
       "      <th>5340</th>\n",
       "      <td>5340</td>\n",
       "      <td>223</td>\n",
       "      <td>[]</td>\n",
       "      <td>1497098972443602944</td>\n",
       "      <td>RismaII4</td>\n",
       "      <td>Risma II 🇮🇩🇮🇩🇮🇩</td>\n",
       "      <td>1839477624550412418</td>\n",
       "      <td>Sebuah langkah besar menuju masa depan yang le...</td>\n",
       "      <td>Fri Sep 27 01:30:16 +0000 2024</td>\n",
       "      <td>0</td>\n",
       "      <td>1</td>\n",
       "    </tr>\n",
       "  </tbody>\n",
       "</table>\n",
       "</div>"
      ],
      "text/plain": [
       "      Unnamed: 0   no urls              user_id  username user_display_name  \\\n",
       "5340        5340  223   []  1497098972443602944  RismaII4   Risma II 🇮🇩🇮🇩🇮🇩   \n",
       "\n",
       "                 tweet_id                                          full_text  \\\n",
       "5340  1839477624550412418  Sebuah langkah besar menuju masa depan yang le...   \n",
       "\n",
       "                          created_at  retweet_count  like_count  \n",
       "5340  Fri Sep 27 01:30:16 +0000 2024              0           1  "
      ]
     },
     "metadata": {},
     "output_type": "display_data"
    },
    {
     "name": "stdout",
     "output_type": "stream",
     "text": [
      "dataset after unused columns removed\n"
     ]
    },
    {
     "data": {
      "text/html": [
       "<div>\n",
       "<style scoped>\n",
       "    .dataframe tbody tr th:only-of-type {\n",
       "        vertical-align: middle;\n",
       "    }\n",
       "\n",
       "    .dataframe tbody tr th {\n",
       "        vertical-align: top;\n",
       "    }\n",
       "\n",
       "    .dataframe thead th {\n",
       "        text-align: right;\n",
       "    }\n",
       "</style>\n",
       "<table border=\"1\" class=\"dataframe\">\n",
       "  <thead>\n",
       "    <tr style=\"text-align: right;\">\n",
       "      <th></th>\n",
       "      <th>user_id</th>\n",
       "      <th>username</th>\n",
       "      <th>user_display_name</th>\n",
       "      <th>tweet_id</th>\n",
       "      <th>full_text</th>\n",
       "      <th>created_at</th>\n",
       "    </tr>\n",
       "  </thead>\n",
       "  <tbody>\n",
       "    <tr>\n",
       "      <th>5340</th>\n",
       "      <td>1497098972443602944</td>\n",
       "      <td>RismaII4</td>\n",
       "      <td>Risma II 🇮🇩🇮🇩🇮🇩</td>\n",
       "      <td>1839477624550412418</td>\n",
       "      <td>Sebuah langkah besar menuju masa depan yang le...</td>\n",
       "      <td>Fri Sep 27 01:30:16 +0000 2024</td>\n",
       "    </tr>\n",
       "  </tbody>\n",
       "</table>\n",
       "</div>"
      ],
      "text/plain": [
       "                  user_id  username user_display_name             tweet_id  \\\n",
       "5340  1497098972443602944  RismaII4   Risma II 🇮🇩🇮🇩🇮🇩  1839477624550412418   \n",
       "\n",
       "                                              full_text  \\\n",
       "5340  Sebuah langkah besar menuju masa depan yang le...   \n",
       "\n",
       "                          created_at  \n",
       "5340  Fri Sep 27 01:30:16 +0000 2024  "
      ]
     },
     "metadata": {},
     "output_type": "display_data"
    },
    {
     "name": "stdout",
     "output_type": "stream",
     "text": [
      "dataset after duplicate removal: 4913 tweets\n"
     ]
    },
    {
     "data": {
      "text/html": [
       "<div>\n",
       "<style scoped>\n",
       "    .dataframe tbody tr th:only-of-type {\n",
       "        vertical-align: middle;\n",
       "    }\n",
       "\n",
       "    .dataframe tbody tr th {\n",
       "        vertical-align: top;\n",
       "    }\n",
       "\n",
       "    .dataframe thead th {\n",
       "        text-align: right;\n",
       "    }\n",
       "</style>\n",
       "<table border=\"1\" class=\"dataframe\">\n",
       "  <thead>\n",
       "    <tr style=\"text-align: right;\">\n",
       "      <th></th>\n",
       "      <th>user_id</th>\n",
       "      <th>username</th>\n",
       "      <th>user_display_name</th>\n",
       "      <th>tweet_id</th>\n",
       "      <th>full_text</th>\n",
       "      <th>created_at</th>\n",
       "    </tr>\n",
       "  </thead>\n",
       "  <tbody>\n",
       "    <tr>\n",
       "      <th>4912</th>\n",
       "      <td>1497098972443602944</td>\n",
       "      <td>RismaII4</td>\n",
       "      <td>Risma II 🇮🇩🇮🇩🇮🇩</td>\n",
       "      <td>1839477624550412418</td>\n",
       "      <td>Sebuah langkah besar menuju masa depan yang le...</td>\n",
       "      <td>Fri Sep 27 01:30:16 +0000 2024</td>\n",
       "    </tr>\n",
       "  </tbody>\n",
       "</table>\n",
       "</div>"
      ],
      "text/plain": [
       "                  user_id  username user_display_name             tweet_id  \\\n",
       "4912  1497098972443602944  RismaII4   Risma II 🇮🇩🇮🇩🇮🇩  1839477624550412418   \n",
       "\n",
       "                                              full_text  \\\n",
       "4912  Sebuah langkah besar menuju masa depan yang le...   \n",
       "\n",
       "                          created_at  \n",
       "4912  Fri Sep 27 01:30:16 +0000 2024  "
      ]
     },
     "metadata": {},
     "output_type": "display_data"
    }
   ],
   "source": [
    "# import\n",
    "DATASET_FILE_NAME = \"merged_dataset.csv\"\n",
    "DATASET_FILE_PATH = f\"../datasets/merged/{DATASET_FILE_NAME}\"\n",
    "DATA_FRAME_DATASET = pd.read_csv(DATASET_FILE_PATH)\n",
    "DATA_FRAME_DATASET_LENGTH = len(DATA_FRAME_DATASET)\n",
    "print(f\"fresh dataset: {DATA_FRAME_DATASET_LENGTH} tweets\")\n",
    "display(DATA_FRAME_DATASET.tail(1))\n",
    "\n",
    "# unused columns removal\n",
    "DATA_FRAME_DATASET.drop(columns=[\"Unnamed: 0\", \"no\", \"urls\", \"retweet_count\", \"like_count\"], inplace=True)\n",
    "DATA_FRAME_DATASET_LENGTH = len(DATA_FRAME_DATASET)\n",
    "print(f\"dataset after unused columns removed\")\n",
    "display(DATA_FRAME_DATASET.tail(1))\n",
    "\n",
    "# duplicate row removal\n",
    "DATA_FRAME_DATASET.drop_duplicates(subset=[\"full_text\"], inplace=True)\n",
    "\n",
    "# reset index\n",
    "DATA_FRAME_DATASET = DATA_FRAME_DATASET.reset_index(drop=True)\n",
    "DATA_FRAME_DATASET_LENGTH = len(DATA_FRAME_DATASET)\n",
    "print(f\"dataset after duplicate removal: {DATA_FRAME_DATASET_LENGTH} tweets\")\n",
    "display(DATA_FRAME_DATASET.tail(1))"
   ]
  },
  {
   "cell_type": "markdown",
   "metadata": {},
   "source": [
    "get 100 random data\n"
   ]
  },
  {
   "cell_type": "code",
   "execution_count": 3,
   "metadata": {},
   "outputs": [],
   "source": [
    "random_sample = DATA_FRAME_DATASET.sample(n=100)\n",
    "\n",
    "random_sample.to_csv(\"manual_sentiment_100.csv\", index=False)"
   ]
  }
 ],
 "metadata": {
  "kernelspec": {
   "display_name": "Python 3",
   "language": "python",
   "name": "python3"
  },
  "language_info": {
   "codemirror_mode": {
    "name": "ipython",
    "version": 3
   },
   "file_extension": ".py",
   "mimetype": "text/x-python",
   "name": "python",
   "nbconvert_exporter": "python",
   "pygments_lexer": "ipython3",
   "version": "3.12.4"
  }
 },
 "nbformat": 4,
 "nbformat_minor": 2
}
