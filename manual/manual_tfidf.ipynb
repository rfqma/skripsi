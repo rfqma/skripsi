{
 "cells": [
  {
   "cell_type": "markdown",
   "metadata": {},
   "source": [
    "libs\n"
   ]
  },
  {
   "cell_type": "code",
   "execution_count": 1,
   "metadata": {},
   "outputs": [],
   "source": [
    "from sklearn.feature_extraction.text import CountVectorizer\n",
    "import pandas as pd\n",
    "from sklearn.feature_extraction.text import TfidfVectorizer"
   ]
  },
  {
   "cell_type": "markdown",
   "metadata": {},
   "source": [
    "mock data\n"
   ]
  },
  {
   "cell_type": "code",
   "execution_count": 2,
   "metadata": {},
   "outputs": [
    {
     "data": {
      "text/html": [
       "<div>\n",
       "<style scoped>\n",
       "    .dataframe tbody tr th:only-of-type {\n",
       "        vertical-align: middle;\n",
       "    }\n",
       "\n",
       "    .dataframe tbody tr th {\n",
       "        vertical-align: top;\n",
       "    }\n",
       "\n",
       "    .dataframe thead th {\n",
       "        text-align: right;\n",
       "    }\n",
       "</style>\n",
       "<table border=\"1\" class=\"dataframe\">\n",
       "  <thead>\n",
       "    <tr style=\"text-align: right;\">\n",
       "      <th></th>\n",
       "      <th>text</th>\n",
       "      <th>sentiment</th>\n",
       "    </tr>\n",
       "  </thead>\n",
       "  <tbody>\n",
       "    <tr>\n",
       "      <th>0</th>\n",
       "      <td>pindah kota semangat indonesia maju</td>\n",
       "      <td>positif</td>\n",
       "    </tr>\n",
       "    <tr>\n",
       "      <th>1</th>\n",
       "      <td>jokowi daerah ibukota negara tulang punggung t...</td>\n",
       "      <td>positif</td>\n",
       "    </tr>\n",
       "    <tr>\n",
       "      <th>2</th>\n",
       "      <td>gara paksa bikin kota negara paksa sih</td>\n",
       "      <td>negatif</td>\n",
       "    </tr>\n",
       "    <tr>\n",
       "      <th>3</th>\n",
       "      <td>ditawarin sosok bikin taman analisanya pikir b...</td>\n",
       "      <td>negatif</td>\n",
       "    </tr>\n",
       "    <tr>\n",
       "      <th>4</th>\n",
       "      <td>pindah kota putus buruk</td>\n",
       "      <td></td>\n",
       "    </tr>\n",
       "  </tbody>\n",
       "</table>\n",
       "</div>"
      ],
      "text/plain": [
       "                                                text sentiment\n",
       "0                pindah kota semangat indonesia maju   positif\n",
       "1  jokowi daerah ibukota negara tulang punggung t...   positif\n",
       "2             gara paksa bikin kota negara paksa sih   negatif\n",
       "3  ditawarin sosok bikin taman analisanya pikir b...   negatif\n",
       "4                            pindah kota putus buruk          "
      ]
     },
     "execution_count": 2,
     "metadata": {},
     "output_type": "execute_result"
    }
   ],
   "source": [
    "temp = pd.DataFrame()\n",
    "temp[\"text\"] = [\"pindah kota semangat indonesia maju\", \"jokowi daerah ibukota negara tulang punggung tahan pangan kota peluang daerah kalimantan timur kembang sektor tani ikan integrasi\", \"gara paksa bikin kota negara paksa sih\", \"ditawarin sosok bikin taman analisanya pikir bikin park garden pilih ngelanjutin mindah kota pusing\", \"pindah kota putus buruk\"]\n",
    "temp[\"sentiment\"] = [\"positif\", \"positif\", \"negatif\", \"negatif\", \"\"]\n",
    "temp"
   ]
  },
  {
   "cell_type": "markdown",
   "metadata": {},
   "source": [
    "term frequency\n"
   ]
  },
  {
   "cell_type": "code",
   "execution_count": null,
   "metadata": {},
   "outputs": [],
   "source": [
    "# tf = CountVectorizer()\n",
    "# tf_matrix = tf.fit_transform(temp[\"text\"])\n",
    "# count_tf = pd.DataFrame(tf_matrix.toarray(), columns=tf.get_feature_names_out())\n",
    "# count_tf"
   ]
  },
  {
   "cell_type": "markdown",
   "metadata": {},
   "source": [
    "doc frequency\n"
   ]
  },
  {
   "cell_type": "code",
   "execution_count": null,
   "metadata": {},
   "outputs": [],
   "source": [
    "# df = CountVectorizer()\n",
    "# df_matrix = df.fit_transform(temp[\"text\"])\n",
    "# count_df = pd.DataFrame(df_matrix.toarray(), columns=df.get_feature_names_out())\n",
    "# df_values = (count_df > 0).sum(axis=0)\n",
    "# df_df = pd.DataFrame({'Term': df.get_feature_names_out(), 'DF': df_values})\n",
    "# print(df_df.to_string(index=False))"
   ]
  },
  {
   "cell_type": "markdown",
   "metadata": {},
   "source": [
    "N / df(t)\n"
   ]
  },
  {
   "cell_type": "code",
   "execution_count": null,
   "metadata": {},
   "outputs": [],
   "source": [
    "# ndf = CountVectorizer()\n",
    "# ndf_x = ndf.fit_transform(temp[\"text\"])\n",
    "# ndf_shape = ndf_x.shape[0]\n",
    "# df_count = pd.DataFrame(ndf_x.toarray(), columns=ndf.get_feature_names_out())\n",
    "# df_values = (df_count > 0).sum(axis=0)\n",
    "# nd_df_values = ndf_shape / df_values\n",
    "# nd_df_df = pd.DataFrame({'Term': ndf.get_feature_names_out(), 'Nd/DF(t)': nd_df_values})\n",
    "# print(nd_df_df.to_string(index=False))"
   ]
  },
  {
   "cell_type": "markdown",
   "metadata": {},
   "source": [
    "inverse document frequency\n"
   ]
  },
  {
   "cell_type": "code",
   "execution_count": null,
   "metadata": {},
   "outputs": [],
   "source": [
    "# temp_tfidf = TfidfVectorizer()\n",
    "# fit_temp_tfidf = temp_tfidf.fit_transform(temp[\"text\"])\n",
    "# idf_values = temp_tfidf.idf_\n",
    "# idf_df = pd.DataFrame({'Term': temp_tfidf.get_feature_names_out(), 'IDF': idf_values})\n",
    "# print(idf_df)"
   ]
  },
  {
   "cell_type": "markdown",
   "metadata": {},
   "source": [
    "term frequency-inverse document frequency\n"
   ]
  },
  {
   "cell_type": "code",
   "execution_count": 3,
   "metadata": {},
   "outputs": [
    {
     "name": "stdout",
     "output_type": "stream",
     "text": [
      " analisanya    bikin    buruk   daerah  ditawarin     gara   garden  ibukota     ikan  indonesia  integrasi   jokowi  kalimantan  kembang     kota     maju   mindah   negara  ngelanjutin    paksa   pangan     park  peluang    pikir    pilih   pindah  punggung   pusing    putus   sektor  semangat      sih    sosok    tahan    taman     tani    timur   tulang\n",
      "   0.000000 0.000000 0.000000 0.000000   0.000000 0.000000 0.000000 0.000000 0.000000   0.507806   0.000000 0.000000    0.000000 0.000000 0.241972 0.507806 0.000000 0.000000     0.000000 0.000000 0.000000 0.000000 0.000000 0.000000 0.000000 0.409694  0.000000 0.000000 0.000000 0.000000  0.507806 0.000000 0.000000 0.000000 0.000000 0.000000 0.000000 0.000000\n",
      "   0.000000 0.000000 0.000000 0.460312   0.000000 0.000000 0.000000 0.230156 0.230156   0.000000   0.230156 0.230156    0.230156 0.230156 0.109671 0.000000 0.000000 0.185688     0.000000 0.000000 0.230156 0.000000 0.230156 0.000000 0.000000 0.000000  0.230156 0.000000 0.000000 0.230156  0.000000 0.000000 0.000000 0.230156 0.000000 0.230156 0.230156 0.230156\n",
      "   0.000000 0.294034 0.000000 0.000000   0.000000 0.364447 0.000000 0.000000 0.000000   0.000000   0.000000 0.000000    0.000000 0.000000 0.173661 0.000000 0.000000 0.294034     0.000000 0.728894 0.000000 0.000000 0.000000 0.000000 0.000000 0.000000  0.000000 0.000000 0.000000 0.000000  0.000000 0.364447 0.000000 0.000000 0.000000 0.000000 0.000000 0.000000\n",
      "   0.268892 0.433880 0.000000 0.000000   0.268892 0.000000 0.268892 0.000000 0.000000   0.000000   0.000000 0.000000    0.000000 0.000000 0.128128 0.000000 0.268892 0.000000     0.268892 0.000000 0.000000 0.268892 0.000000 0.268892 0.268892 0.000000  0.000000 0.268892 0.000000 0.000000  0.000000 0.000000 0.268892 0.000000 0.268892 0.000000 0.000000 0.000000\n",
      "   0.000000 0.000000 0.589463 0.000000   0.000000 0.000000 0.000000 0.000000 0.000000   0.000000   0.000000 0.000000    0.000000 0.000000 0.280882 0.000000 0.000000 0.000000     0.000000 0.000000 0.000000 0.000000 0.000000 0.000000 0.000000 0.475575  0.000000 0.000000 0.589463 0.000000  0.000000 0.000000 0.000000 0.000000 0.000000 0.000000 0.000000 0.000000\n"
     ]
    }
   ],
   "source": [
    "temp_tfidf_ = TfidfVectorizer()\n",
    "tfidf_matrix = temp_tfidf_.fit_transform(temp[\"text\"])\n",
    "tfidf_df_ = pd.DataFrame(tfidf_matrix.toarray(), columns=temp_tfidf_.get_feature_names_out())\n",
    "print(tfidf_df_.to_string(index=False))\n",
    "tfidf_df_.to_csv(\"manual_tfidf.csv\", index=False)"
   ]
  }
 ],
 "metadata": {
  "kernelspec": {
   "display_name": "Python 3",
   "language": "python",
   "name": "python3"
  },
  "language_info": {
   "codemirror_mode": {
    "name": "ipython",
    "version": 3
   },
   "file_extension": ".py",
   "mimetype": "text/x-python",
   "name": "python",
   "nbconvert_exporter": "python",
   "pygments_lexer": "ipython3",
   "version": "3.12.4"
  }
 },
 "nbformat": 4,
 "nbformat_minor": 2
}
