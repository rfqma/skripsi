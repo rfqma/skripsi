{
 "cells": [
  {
   "cell_type": "markdown",
   "metadata": {},
   "source": [
    "# LIBRARIES\n"
   ]
  },
  {
   "cell_type": "code",
   "execution_count": 1,
   "metadata": {},
   "outputs": [],
   "source": [
    "import pandas as pd\n",
    "import compress_fasttext\n",
    "import numpy as np\n",
    "import pickle\n",
    "import re\n",
    "from nltk.corpus import stopwords\n",
    "from Sastrawi.StopWordRemover.StopWordRemoverFactory import StopWordRemoverFactory\n",
    "from Sastrawi.Stemmer.StemmerFactory import StemmerFactory"
   ]
  },
  {
   "cell_type": "markdown",
   "metadata": {},
   "source": [
    "# MODELS\n"
   ]
  },
  {
   "cell_type": "code",
   "execution_count": 2,
   "metadata": {},
   "outputs": [],
   "source": [
    "def load_model(file_path):\n",
    "  with open(file_path, 'rb') as file:\n",
    "    return pickle.load(file)"
   ]
  },
  {
   "cell_type": "code",
   "execution_count": 3,
   "metadata": {},
   "outputs": [],
   "source": [
    "knn_model = load_model('models/8020/knn1_8020_model.pkl')\n",
    "ft_model = compress_fasttext.models.CompressedFastTextKeyedVectors.load(\"models/fastText/fasttext-id-mini\")"
   ]
  },
  {
   "cell_type": "markdown",
   "metadata": {},
   "source": [
    "# DICTIONARIES\n"
   ]
  },
  {
   "cell_type": "code",
   "execution_count": 4,
   "metadata": {},
   "outputs": [],
   "source": [
    "SLANG_DICTIONARY_FILE_NAME_1 = \"kamus_slang_1.csv\"\n",
    "SLANG_DICTIONARY_FILE_PATH_1 = f\"dictionaries/{SLANG_DICTIONARY_FILE_NAME_1}\"\n",
    "DATA_FRAME_SLANG_DICTIONARY_1 = pd.read_csv(SLANG_DICTIONARY_FILE_PATH_1)\n",
    "SLANG_DICTIONARY_FILE_NAME_2 = \"kamus_slang_2.csv\"\n",
    "SLANG_DICTIONARY_FILE_PATH_2 = f\"dictionaries/{SLANG_DICTIONARY_FILE_NAME_2}\"\n",
    "DATA_FRAME_SLANG_DICTIONARY_2 = pd.read_csv(SLANG_DICTIONARY_FILE_PATH_2)\n",
    "SLANG_DICTIONARY_1 = pd.Series(DATA_FRAME_SLANG_DICTIONARY_1.formal.values, index=DATA_FRAME_SLANG_DICTIONARY_1.slang).to_dict()\n",
    "SLANG_DICTIONARY_2 = pd.Series(DATA_FRAME_SLANG_DICTIONARY_2.formal.values, index=DATA_FRAME_SLANG_DICTIONARY_2.slang).to_dict()"
   ]
  },
  {
   "cell_type": "code",
   "execution_count": 5,
   "metadata": {},
   "outputs": [],
   "source": [
    "SW_DICTIONARY_FILE_NAME_1 = \"kamus_stopwords_1.csv\"\n",
    "SW_DICTIONARY_FILE_PATH_1 = f\"dictionaries/{SW_DICTIONARY_FILE_NAME_1}\"\n",
    "DATA_FRAME_SW_DICTIONARY_1 = pd.read_csv(SW_DICTIONARY_FILE_PATH_1)"
   ]
  },
  {
   "cell_type": "code",
   "execution_count": 6,
   "metadata": {},
   "outputs": [],
   "source": [
    "NEGASI_DICTIONARY_FILE_NAME_1 = \"negasi.csv\"\n",
    "NEGASI_DICTIONARY_FILE_PATH_1 = f\"dictionaries/{NEGASI_DICTIONARY_FILE_NAME_1}\"\n",
    "DATA_FRAME_NEGASI_DICTIONARY_1 = pd.read_csv(NEGASI_DICTIONARY_FILE_PATH_1)"
   ]
  },
  {
   "cell_type": "code",
   "execution_count": 7,
   "metadata": {},
   "outputs": [],
   "source": [
    "ANTONYM_DICTIONARY_FILE_NAME_1 = \"antonim_bahasa_indonesia.csv\"\n",
    "ANTONYM_DICTIONARY_FILE_PATH_1 = f\"dictionaries/{ANTONYM_DICTIONARY_FILE_NAME_1}\"\n",
    "DATA_FRAME_ANTONYM_DICTIONARY_1 = pd.read_csv(ANTONYM_DICTIONARY_FILE_PATH_1)\n",
    "ANTONYM_DICTIONARY_1 = pd.Series(DATA_FRAME_ANTONYM_DICTIONARY_1.antonim.values, index=DATA_FRAME_ANTONYM_DICTIONARY_1.word).to_dict()"
   ]
  },
  {
   "cell_type": "markdown",
   "metadata": {},
   "source": [
    "# FUNCTIONS\n"
   ]
  },
  {
   "cell_type": "code",
   "execution_count": 8,
   "metadata": {},
   "outputs": [],
   "source": [
    "def clean_text(text):\n",
    "  # remove RT tag\n",
    "  text = re.sub(r'RT\\s', '', text)\n",
    "  # remove @_username\n",
    "  text = re.sub(r\"\\@([\\w]+)\", \" \", text)\n",
    "  # replace emoji decode with space\n",
    "  text = re.sub(r\"\\\\u[a-zA-Z0-9]{4}\", \" \", text)\n",
    "  # replace enter /n/ with space\n",
    "  text = re.sub(r\"\\n\\s\", \" \", text)\n",
    "  text = re.sub(r\"\\n\", \" \", text)\n",
    "  # remove non-ascii\n",
    "  text = re.sub(r'[^\\x00-\\x7F]+',' ', text)\n",
    "  # fix duplicate characters (ex: hellooooo)\n",
    "  text = re.sub(r'([a-zA-Z])\\1\\1','\\\\1', text)\n",
    "  # replace url\n",
    "  text = re.sub(r'http[s]?\\:\\/\\/.[a-zA-Z0-9\\.\\/\\_?=%&#\\-\\+!]+',' ', text)\n",
    "  text = re.sub(r'pic.twitter.com?.[a-zA-Z0-9\\.\\/\\_?=%&#\\-\\+!]+',' ', text)\n",
    "  # convert to lowercase\n",
    "  text = text.lower()\n",
    "  # remove hashtag\n",
    "  text = re.sub(r'\\#[a-zA-Z0-9_]+','', text)\n",
    "  # remove numbers\n",
    "  text = re.sub(r'[0-9]+',' ', text)\n",
    "  # remove symbols\n",
    "  text = re.sub(r'[!$%^&*@#()_+|~=`{}\\[\\]%\\-:\";\\'<>?,.\\/]', ' ', text)\n",
    "  # remove extra spaces to one space\n",
    "  text = re.sub(r' +', ' ', text)\n",
    "  # remove leading and trailing spaces\n",
    "  text = re.sub(r'^[ ]|[ ]$','', text)\n",
    "  # replace ikn with ibu kota negara baru\n",
    "  text = text.replace(\"ikn\", \"ibukota negara baru\")\n",
    "  \n",
    "  return text"
   ]
  },
  {
   "cell_type": "code",
   "execution_count": 9,
   "metadata": {},
   "outputs": [],
   "source": [
    "def slang_dict_integration_kamus_1(text):\n",
    "  words = text.split()\n",
    "  standardization_words = []\n",
    "\n",
    "  for word in words:\n",
    "    if word in SLANG_DICTIONARY_1:\n",
    "      standardization_words.append(SLANG_DICTIONARY_1[word])\n",
    "    else:\n",
    "      standardization_words.append(word)\n",
    "\n",
    "  return \" \".join(standardization_words)"
   ]
  },
  {
   "cell_type": "code",
   "execution_count": 10,
   "metadata": {},
   "outputs": [],
   "source": [
    "def slang_dict_integration_kamus_2(text):\n",
    "  words = text.split()\n",
    "  standardization_words = []\n",
    "\n",
    "  for word in words:\n",
    "    if word in SLANG_DICTIONARY_2:\n",
    "      standardization_words.append(SLANG_DICTIONARY_2[word])\n",
    "    else:\n",
    "      standardization_words.append(word)\n",
    "\n",
    "  return \" \".join(standardization_words)"
   ]
  },
  {
   "cell_type": "code",
   "execution_count": 11,
   "metadata": {},
   "outputs": [],
   "source": [
    "def underscore_negation(text):\n",
    "  words = text.split()\n",
    "  negation_words = set(DATA_FRAME_NEGASI_DICTIONARY_1[\"negasi\"].values)\n",
    "  skip_next = False\n",
    "  new_words = []\n",
    "    \n",
    "  for i in  range(len(words)):\n",
    "    if skip_next:\n",
    "      skip_next = False\n",
    "      continue\n",
    "    if words[i] in negation_words and i < len(words) - 1:\n",
    "      new_words.append(words[i] + \"_\" + words[i+1])\n",
    "      skip_next = True\n",
    "    else:\n",
    "      new_words.append(words[i])\n",
    "\n",
    "  return \" \".join(new_words)"
   ]
  },
  {
   "cell_type": "code",
   "execution_count": 12,
   "metadata": {},
   "outputs": [],
   "source": [
    "def swap_antonyms(text):\n",
    "  words = text.split()\n",
    "  antonym_dict = dict(zip(DATA_FRAME_ANTONYM_DICTIONARY_1[\"word\"], DATA_FRAME_ANTONYM_DICTIONARY_1[\"antonim\"]))\n",
    "  new_words = []\n",
    "    \n",
    "  for word in words:\n",
    "    if \"_\" in word:\n",
    "      negation, next_word = word.split(\"_\", 1)\n",
    "      if next_word in antonym_dict:\n",
    "        new_words.append(antonym_dict[next_word])\n",
    "      else:\n",
    "        new_words.append(word)\n",
    "    else:\n",
    "      new_words.append(word)\n",
    "  \n",
    "  return \" \".join(new_words)"
   ]
  },
  {
   "cell_type": "code",
   "execution_count": 13,
   "metadata": {},
   "outputs": [],
   "source": [
    "def replace_underscore(text):\n",
    "  text = re.sub(r'_', ' ', text)\n",
    "\n",
    "  return text"
   ]
  },
  {
   "cell_type": "code",
   "execution_count": 14,
   "metadata": {},
   "outputs": [],
   "source": [
    "def drop_stopwords(text):\n",
    "  custom_stopwords = stopwords.words('indonesian')\n",
    "  custom_stopwords.clear()\n",
    "  custom_stopwords.extend(DATA_FRAME_SW_DICTIONARY_1[\"stopwords\"].values)\n",
    "\n",
    "  factory = StopWordRemoverFactory()\n",
    "  sastrawi_stopwords = factory.get_stop_words()\n",
    "\n",
    "  combined_stopwords = set(custom_stopwords).union(set(sastrawi_stopwords))\n",
    "\n",
    "  return \" \".join([word for word in text.split() if word not in combined_stopwords])"
   ]
  },
  {
   "cell_type": "code",
   "execution_count": 15,
   "metadata": {},
   "outputs": [],
   "source": [
    "def stem_indonesian_text(text):\n",
    "  factory = StemmerFactory()\n",
    "  stemmer = factory.create_stemmer()\n",
    "  return \" \".join([stemmer.stem(word) for word in text.split()])"
   ]
  },
  {
   "cell_type": "code",
   "execution_count": 16,
   "metadata": {},
   "outputs": [],
   "source": [
    "def get_sentence_vector(text):\n",
    "    words = text.split()\n",
    "    word_vectors = [ft_model[word] for word in words if word in ft_model]\n",
    "    if word_vectors:\n",
    "        return np.mean(word_vectors, axis=0)\n",
    "    else:\n",
    "        return np.zeros((300,))"
   ]
  },
  {
   "cell_type": "markdown",
   "metadata": {},
   "source": [
    "# INPUT\n"
   ]
  },
  {
   "cell_type": "code",
   "execution_count": 17,
   "metadata": {},
   "outputs": [],
   "source": [
    "user_input = \"ikn sejauh ini bagus banget\""
   ]
  },
  {
   "cell_type": "code",
   "execution_count": 23,
   "metadata": {},
   "outputs": [],
   "source": [
    "cleaned_text = clean_text(user_input)\n",
    "standardized_text = slang_dict_integration_kamus_1(cleaned_text)\n",
    "standardized_text = slang_dict_integration_kamus_2(standardized_text)\n",
    "underscore_negation_text = underscore_negation(standardized_text)\n",
    "swap_negation_text = swap_antonyms(underscore_negation_text)\n",
    "final_negation_text = replace_underscore(swap_negation_text)\n",
    "stopwords_removed_text = drop_stopwords(final_negation_text)\n",
    "after_stemming_text = stem_indonesian_text(stopwords_removed_text)"
   ]
  },
  {
   "cell_type": "code",
   "execution_count": 24,
   "metadata": {},
   "outputs": [],
   "source": [
    "vectorized_text = get_sentence_vector(after_stemming_text).reshape(1, -1)"
   ]
  },
  {
   "cell_type": "code",
   "execution_count": 20,
   "metadata": {},
   "outputs": [
    {
     "name": "stdout",
     "output_type": "stream",
     "text": [
      "Sentimen dari kalimat yang dimasukkan: negatif\n"
     ]
    }
   ],
   "source": [
    "sentiment = knn_model.predict(vectorized_text)\n",
    "print(f'Sentimen dari kalimat yang dimasukkan: {sentiment[0]}')"
   ]
  }
 ],
 "metadata": {
  "kernelspec": {
   "display_name": "venv",
   "language": "python",
   "name": "venv"
  },
  "language_info": {
   "codemirror_mode": {
    "name": "ipython",
    "version": 3
   },
   "file_extension": ".py",
   "mimetype": "text/x-python",
   "name": "python",
   "nbconvert_exporter": "python",
   "pygments_lexer": "ipython3",
   "version": "3.12.4"
  }
 },
 "nbformat": 4,
 "nbformat_minor": 2
}
