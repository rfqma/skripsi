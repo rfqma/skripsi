{
 "cells": [
  {
   "cell_type": "markdown",
   "metadata": {},
   "source": [
    "libs\n"
   ]
  },
  {
   "cell_type": "code",
   "execution_count": null,
   "metadata": {},
   "outputs": [],
   "source": [
    "# from sklearn.feature_extraction.text import CountVectorizer\n",
    "# import pandas as pd\n",
    "# from sklearn.feature_extraction.text import TfidfVectorizer"
   ]
  },
  {
   "cell_type": "markdown",
   "metadata": {},
   "source": [
    "mock data\n"
   ]
  },
  {
   "cell_type": "code",
   "execution_count": null,
   "metadata": {},
   "outputs": [],
   "source": [
    "# temp = pd.DataFrame()\n",
    "# temp[\"text\"] = [\"pindah kota semangat indonesia maju\", \"jokowi daerah ibukota negara tulang punggung tahan pangan kota peluang daerah kalimantan timur kembang sektor tani ikan integrasi\", \"gara paksa bikin kota negara paksa sih\", \"ditawarin sosok bikin taman analisanya pikir bikin park garden pilih ngelanjutin mindah kota pusing\"]\n",
    "# temp[\"sentiment\"] = [\"netral\", \"positif\", \"negatif\", \"negatif\"]\n",
    "# temp"
   ]
  },
  {
   "cell_type": "markdown",
   "metadata": {},
   "source": [
    "term frequency\n"
   ]
  },
  {
   "cell_type": "code",
   "execution_count": null,
   "metadata": {},
   "outputs": [],
   "source": [
    "# tf = CountVectorizer()\n",
    "# tf_matrix = tf.fit_transform(temp[\"text\"])\n",
    "# count_tf = pd.DataFrame(tf_matrix.toarray(), columns=tf.get_feature_names_out())\n",
    "# count_tf"
   ]
  },
  {
   "cell_type": "markdown",
   "metadata": {},
   "source": [
    "doc frequency\n"
   ]
  },
  {
   "cell_type": "code",
   "execution_count": null,
   "metadata": {},
   "outputs": [],
   "source": [
    "# df = CountVectorizer()\n",
    "# df_matrix = df.fit_transform(temp[\"text\"])\n",
    "# count_df = pd.DataFrame(df_matrix.toarray(), columns=df.get_feature_names_out())\n",
    "# df_values = (count_df > 0).sum(axis=0)\n",
    "# df_df = pd.DataFrame({'Term': df.get_feature_names_out(), 'DF': df_values})\n",
    "# print(df_df.to_string(index=False))"
   ]
  },
  {
   "cell_type": "markdown",
   "metadata": {},
   "source": [
    "N / df(t)\n"
   ]
  },
  {
   "cell_type": "code",
   "execution_count": null,
   "metadata": {},
   "outputs": [],
   "source": [
    "# ndf = CountVectorizer()\n",
    "# ndf_x = ndf.fit_transform(temp[\"text\"])\n",
    "# ndf_shape = ndf_x.shape[0]\n",
    "# df_count = pd.DataFrame(ndf_x.toarray(), columns=ndf.get_feature_names_out())\n",
    "# df_values = (df_count > 0).sum(axis=0)\n",
    "# nd_df_values = ndf_shape / df_values\n",
    "# nd_df_df = pd.DataFrame({'Term': ndf.get_feature_names_out(), 'Nd/DF(t)': nd_df_values})\n",
    "# print(nd_df_df.to_string(index=False))"
   ]
  },
  {
   "cell_type": "markdown",
   "metadata": {},
   "source": [
    "inverse document frequency\n"
   ]
  },
  {
   "cell_type": "code",
   "execution_count": null,
   "metadata": {},
   "outputs": [],
   "source": [
    "# temp_tfidf = TfidfVectorizer()\n",
    "# fit_temp_tfidf = temp_tfidf.fit_transform(temp[\"text\"])\n",
    "# idf_values = temp_tfidf.idf_\n",
    "# idf_df = pd.DataFrame({'Term': temp_tfidf.get_feature_names_out(), 'IDF': idf_values})\n",
    "# print(idf_df)"
   ]
  },
  {
   "cell_type": "markdown",
   "metadata": {},
   "source": [
    "term frequency-inverse document frequency\n"
   ]
  },
  {
   "cell_type": "code",
   "execution_count": null,
   "metadata": {},
   "outputs": [],
   "source": [
    "# temp_tfidf_ = TfidfVectorizer()\n",
    "# tfidf_matrix = temp_tfidf_.fit_transform(temp[\"text\"])\n",
    "# tfidf_df_ = pd.DataFrame(tfidf_matrix.toarray(), columns=temp_tfidf_.get_feature_names_out())\n",
    "# print(tfidf_df_.to_string(index=False))\n",
    "# tfidf_df_.to_csv(\"outputs/tfidf.csv\", index=False)"
   ]
  }
 ],
 "metadata": {
  "kernelspec": {
   "display_name": "Python 3",
   "language": "python",
   "name": "python3"
  },
  "language_info": {
   "name": "python",
   "version": "3.12.4"
  }
 },
 "nbformat": 4,
 "nbformat_minor": 2
}
