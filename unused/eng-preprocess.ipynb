{
 "cells": [
  {
   "cell_type": "markdown",
   "metadata": {},
   "source": [
    "# LIBRARIES\n"
   ]
  },
  {
   "cell_type": "code",
   "execution_count": 11,
   "metadata": {},
   "outputs": [
    {
     "name": "stderr",
     "output_type": "stream",
     "text": [
      "[nltk_data] Downloading package punkt to\n",
      "[nltk_data]     C:\\Users\\user\\AppData\\Roaming\\nltk_data...\n",
      "[nltk_data]   Package punkt is already up-to-date!\n",
      "[nltk_data] Downloading package stopwords to\n",
      "[nltk_data]     C:\\Users\\user\\AppData\\Roaming\\nltk_data...\n",
      "[nltk_data]   Package stopwords is already up-to-date!\n",
      "[nltk_data] Downloading package wordnet to\n",
      "[nltk_data]     C:\\Users\\user\\AppData\\Roaming\\nltk_data...\n",
      "[nltk_data]   Package wordnet is already up-to-date!\n"
     ]
    }
   ],
   "source": [
    "import pandas as pd\n",
    "import string \n",
    "import re\n",
    "import nltk\n",
    "import logging\n",
    "nltk.download('punkt')\n",
    "nltk.download('stopwords')\n",
    "nltk.download('wordnet')\n",
    "from nltk.tokenize import sent_tokenize\n",
    "from nltk.tokenize import word_tokenize\n",
    "from nltk.corpus import stopwords\n",
    "from deep_translator import GoogleTranslator\n",
    "from nltk.stem import WordNetLemmatizer "
   ]
  },
  {
   "cell_type": "markdown",
   "metadata": {},
   "source": [
    "# INISIASI LOGGER\n"
   ]
  },
  {
   "cell_type": "code",
   "execution_count": 12,
   "metadata": {},
   "outputs": [],
   "source": [
    "logging.basicConfig(level=logging.INFO, format='%(asctime)s - %(levelname)s - %(message)s')\n",
    "logger = logging.getLogger()"
   ]
  },
  {
   "cell_type": "markdown",
   "metadata": {},
   "source": [
    "# INISIASI DATASET\n"
   ]
  },
  {
   "cell_type": "code",
   "execution_count": 13,
   "metadata": {},
   "outputs": [
    {
     "name": "stdout",
     "output_type": "stream",
     "text": [
      "fresh dataset: 4593 tweets\n"
     ]
    },
    {
     "data": {
      "text/html": [
       "<div>\n",
       "<style scoped>\n",
       "    .dataframe tbody tr th:only-of-type {\n",
       "        vertical-align: middle;\n",
       "    }\n",
       "\n",
       "    .dataframe tbody tr th {\n",
       "        vertical-align: top;\n",
       "    }\n",
       "\n",
       "    .dataframe thead th {\n",
       "        text-align: right;\n",
       "    }\n",
       "</style>\n",
       "<table border=\"1\" class=\"dataframe\">\n",
       "  <thead>\n",
       "    <tr style=\"text-align: right;\">\n",
       "      <th></th>\n",
       "      <th>Unnamed: 0</th>\n",
       "      <th>no</th>\n",
       "      <th>urls</th>\n",
       "      <th>user_id</th>\n",
       "      <th>username</th>\n",
       "      <th>user_display_name</th>\n",
       "      <th>tweet_id</th>\n",
       "      <th>full_text</th>\n",
       "      <th>created_at</th>\n",
       "      <th>retweet_count</th>\n",
       "      <th>like_count</th>\n",
       "    </tr>\n",
       "  </thead>\n",
       "  <tbody>\n",
       "    <tr>\n",
       "      <th>4592</th>\n",
       "      <td>4592</td>\n",
       "      <td>1005</td>\n",
       "      <td>[]</td>\n",
       "      <td>1685924328851038208</td>\n",
       "      <td>maulani_salsa76</td>\n",
       "      <td>Maulani Salsa</td>\n",
       "      <td>1822028454411563237</td>\n",
       "      <td>@aminun40 Dukung pemindahan Ibu Kota Nusantara...</td>\n",
       "      <td>Fri Aug 09 21:53:29 +0000 2024</td>\n",
       "      <td>0</td>\n",
       "      <td>0</td>\n",
       "    </tr>\n",
       "  </tbody>\n",
       "</table>\n",
       "</div>"
      ],
      "text/plain": [
       "      Unnamed: 0    no urls              user_id         username  \\\n",
       "4592        4592  1005   []  1685924328851038208  maulani_salsa76   \n",
       "\n",
       "     user_display_name             tweet_id  \\\n",
       "4592     Maulani Salsa  1822028454411563237   \n",
       "\n",
       "                                              full_text  \\\n",
       "4592  @aminun40 Dukung pemindahan Ibu Kota Nusantara...   \n",
       "\n",
       "                          created_at  retweet_count  like_count  \n",
       "4592  Fri Aug 09 21:53:29 +0000 2024              0           0  "
      ]
     },
     "metadata": {},
     "output_type": "display_data"
    },
    {
     "name": "stdout",
     "output_type": "stream",
     "text": [
      "dataset after unused columns removed: 4593 tweets\n"
     ]
    },
    {
     "data": {
      "text/html": [
       "<div>\n",
       "<style scoped>\n",
       "    .dataframe tbody tr th:only-of-type {\n",
       "        vertical-align: middle;\n",
       "    }\n",
       "\n",
       "    .dataframe tbody tr th {\n",
       "        vertical-align: top;\n",
       "    }\n",
       "\n",
       "    .dataframe thead th {\n",
       "        text-align: right;\n",
       "    }\n",
       "</style>\n",
       "<table border=\"1\" class=\"dataframe\">\n",
       "  <thead>\n",
       "    <tr style=\"text-align: right;\">\n",
       "      <th></th>\n",
       "      <th>user_id</th>\n",
       "      <th>username</th>\n",
       "      <th>user_display_name</th>\n",
       "      <th>tweet_id</th>\n",
       "      <th>full_text</th>\n",
       "      <th>created_at</th>\n",
       "    </tr>\n",
       "  </thead>\n",
       "  <tbody>\n",
       "    <tr>\n",
       "      <th>4592</th>\n",
       "      <td>1685924328851038208</td>\n",
       "      <td>maulani_salsa76</td>\n",
       "      <td>Maulani Salsa</td>\n",
       "      <td>1822028454411563237</td>\n",
       "      <td>@aminun40 Dukung pemindahan Ibu Kota Nusantara...</td>\n",
       "      <td>Fri Aug 09 21:53:29 +0000 2024</td>\n",
       "    </tr>\n",
       "  </tbody>\n",
       "</table>\n",
       "</div>"
      ],
      "text/plain": [
       "                  user_id         username user_display_name  \\\n",
       "4592  1685924328851038208  maulani_salsa76     Maulani Salsa   \n",
       "\n",
       "                 tweet_id                                          full_text  \\\n",
       "4592  1822028454411563237  @aminun40 Dukung pemindahan Ibu Kota Nusantara...   \n",
       "\n",
       "                          created_at  \n",
       "4592  Fri Aug 09 21:53:29 +0000 2024  "
      ]
     },
     "metadata": {},
     "output_type": "display_data"
    },
    {
     "name": "stdout",
     "output_type": "stream",
     "text": [
      "dataset after duplicate removal: 4042 tweets\n"
     ]
    },
    {
     "data": {
      "text/html": [
       "<div>\n",
       "<style scoped>\n",
       "    .dataframe tbody tr th:only-of-type {\n",
       "        vertical-align: middle;\n",
       "    }\n",
       "\n",
       "    .dataframe tbody tr th {\n",
       "        vertical-align: top;\n",
       "    }\n",
       "\n",
       "    .dataframe thead th {\n",
       "        text-align: right;\n",
       "    }\n",
       "</style>\n",
       "<table border=\"1\" class=\"dataframe\">\n",
       "  <thead>\n",
       "    <tr style=\"text-align: right;\">\n",
       "      <th></th>\n",
       "      <th>user_id</th>\n",
       "      <th>username</th>\n",
       "      <th>user_display_name</th>\n",
       "      <th>tweet_id</th>\n",
       "      <th>full_text</th>\n",
       "      <th>created_at</th>\n",
       "    </tr>\n",
       "  </thead>\n",
       "  <tbody>\n",
       "    <tr>\n",
       "      <th>4041</th>\n",
       "      <td>1685924328851038208</td>\n",
       "      <td>maulani_salsa76</td>\n",
       "      <td>Maulani Salsa</td>\n",
       "      <td>1822028454411563237</td>\n",
       "      <td>@aminun40 Dukung pemindahan Ibu Kota Nusantara...</td>\n",
       "      <td>Fri Aug 09 21:53:29 +0000 2024</td>\n",
       "    </tr>\n",
       "  </tbody>\n",
       "</table>\n",
       "</div>"
      ],
      "text/plain": [
       "                  user_id         username user_display_name  \\\n",
       "4041  1685924328851038208  maulani_salsa76     Maulani Salsa   \n",
       "\n",
       "                 tweet_id                                          full_text  \\\n",
       "4041  1822028454411563237  @aminun40 Dukung pemindahan Ibu Kota Nusantara...   \n",
       "\n",
       "                          created_at  \n",
       "4041  Fri Aug 09 21:53:29 +0000 2024  "
      ]
     },
     "metadata": {},
     "output_type": "display_data"
    }
   ],
   "source": [
    "# import\n",
    "DATASET_FILE_NAME = \"merged_dataset.csv\"\n",
    "DATASET_FILE_PATH = f\"datasets/merged/{DATASET_FILE_NAME}\"\n",
    "DATA_FRAME_DATASET = pd.read_csv(DATASET_FILE_PATH)\n",
    "DATA_FRAME_DATASET_LENGTH = len(DATA_FRAME_DATASET)\n",
    "print(f\"fresh dataset: {DATA_FRAME_DATASET_LENGTH} tweets\")\n",
    "display(DATA_FRAME_DATASET.tail(1))\n",
    "\n",
    "# unused columns removal\n",
    "DATA_FRAME_DATASET.drop(columns=[\"Unnamed: 0\", \"no\", \"urls\", \"retweet_count\", \"like_count\"], inplace=True)\n",
    "DATA_FRAME_DATASET_LENGTH = len(DATA_FRAME_DATASET)\n",
    "print(f\"dataset after unused columns removed: {DATA_FRAME_DATASET_LENGTH} tweets\")\n",
    "display(DATA_FRAME_DATASET.tail(1))\n",
    "\n",
    "# duplicate row removal\n",
    "DATA_FRAME_DATASET.drop_duplicates(subset=[\"full_text\"], inplace=True)\n",
    "\n",
    "# reset index\n",
    "DATA_FRAME_DATASET = DATA_FRAME_DATASET.reset_index(drop=True)\n",
    "DATA_FRAME_DATASET_LENGTH = len(DATA_FRAME_DATASET)\n",
    "print(f\"dataset after duplicate removal: {DATA_FRAME_DATASET_LENGTH} tweets\")\n",
    "display(DATA_FRAME_DATASET.tail(1))"
   ]
  },
  {
   "cell_type": "markdown",
   "metadata": {},
   "source": [
    "# TEXT CLEANING\n"
   ]
  },
  {
   "cell_type": "code",
   "execution_count": 14,
   "metadata": {},
   "outputs": [
    {
     "data": {
      "text/html": [
       "<div>\n",
       "<style scoped>\n",
       "    .dataframe tbody tr th:only-of-type {\n",
       "        vertical-align: middle;\n",
       "    }\n",
       "\n",
       "    .dataframe tbody tr th {\n",
       "        vertical-align: top;\n",
       "    }\n",
       "\n",
       "    .dataframe thead th {\n",
       "        text-align: right;\n",
       "    }\n",
       "</style>\n",
       "<table border=\"1\" class=\"dataframe\">\n",
       "  <thead>\n",
       "    <tr style=\"text-align: right;\">\n",
       "      <th></th>\n",
       "      <th>cleaned_text</th>\n",
       "    </tr>\n",
       "  </thead>\n",
       "  <tbody>\n",
       "    <tr>\n",
       "      <th>4041</th>\n",
       "      <td>dukung pemindahan ibu kota nusantara untuk men...</td>\n",
       "    </tr>\n",
       "  </tbody>\n",
       "</table>\n",
       "</div>"
      ],
      "text/plain": [
       "                                           cleaned_text\n",
       "4041  dukung pemindahan ibu kota nusantara untuk men..."
      ]
     },
     "metadata": {},
     "output_type": "display_data"
    }
   ],
   "source": [
    "def clean_text(text):\n",
    "  # remove RT tag\n",
    "  text = re.sub(r'RT\\s', '', text)\n",
    "  # remove @_username\n",
    "  text = re.sub(r\"\\@([\\w]+)\", \" \", text)\n",
    "  # replace emoji decode with space\n",
    "  text = re.sub(r\"\\\\u[a-zA-Z0-9]{4}\", \" \", text)\n",
    "  # replace enter /n/ with space\n",
    "  text = re.sub(r\"\\n\\s\", \" \", text)\n",
    "  text = re.sub(r\"\\n\", \" \", text)\n",
    "  # remove non-ascii\n",
    "  text = re.sub(r'[^\\x00-\\x7F]+',' ', text)\n",
    "  # fix duplicate characters (ex: hellooooo)\n",
    "  text = re.sub(r'([a-zA-Z])\\1\\1','\\\\1', text)\n",
    "  # replace url\n",
    "  text = re.sub(r'http[s]?\\:\\/\\/.[a-zA-Z0-9\\.\\/\\_?=%&#\\-\\+!]+',' ', text)\n",
    "  text = re.sub(r'pic.twitter.com?.[a-zA-Z0-9\\.\\/\\_?=%&#\\-\\+!]+',' ', text)\n",
    "  # convert to lowercase\n",
    "  text = text.lower()\n",
    "  # remove hashtag\n",
    "  text = re.sub(r'\\#[a-zA-Z0-9_]+','', text)\n",
    "  # remove numbers\n",
    "  text = re.sub(r'[0-9]+',' ', text)\n",
    "  # remove symbols\n",
    "  text = re.sub(r'[!$%^&*@#()_+|~=`{}\\[\\]%\\-:\";\\'<>?,.\\/]', ' ', text)\n",
    "  # remove extra spaces to one space\n",
    "  text = re.sub(r' +', ' ', text)\n",
    "  # remove leading and trailing spaces\n",
    "  text = re.sub(r'^[ ]|[ ]$','', text)\n",
    "  # replace ikn with ibu kota negara baru\n",
    "  text = text.replace(\"ikn\", \"ibu kota negara baru\")\n",
    "\n",
    "  return text\n",
    "\n",
    "DATA_FRAME_DATASET[\"cleaned_text\"] = DATA_FRAME_DATASET[\"full_text\"].apply(clean_text)\n",
    "display(DATA_FRAME_DATASET[\"cleaned_text\"].tail(1).to_frame())"
   ]
  },
  {
   "cell_type": "markdown",
   "metadata": {},
   "source": [
    "# INISIASI KAMUS\n"
   ]
  },
  {
   "cell_type": "markdown",
   "metadata": {},
   "source": [
    "SLANG, DLL.\n"
   ]
  },
  {
   "cell_type": "code",
   "execution_count": 15,
   "metadata": {},
   "outputs": [
    {
     "data": {
      "text/html": [
       "<div>\n",
       "<style scoped>\n",
       "    .dataframe tbody tr th:only-of-type {\n",
       "        vertical-align: middle;\n",
       "    }\n",
       "\n",
       "    .dataframe tbody tr th {\n",
       "        vertical-align: top;\n",
       "    }\n",
       "\n",
       "    .dataframe thead th {\n",
       "        text-align: right;\n",
       "    }\n",
       "</style>\n",
       "<table border=\"1\" class=\"dataframe\">\n",
       "  <thead>\n",
       "    <tr style=\"text-align: right;\">\n",
       "      <th></th>\n",
       "      <th>slang</th>\n",
       "      <th>formal</th>\n",
       "    </tr>\n",
       "  </thead>\n",
       "  <tbody>\n",
       "    <tr>\n",
       "      <th>3258</th>\n",
       "      <td>boz</td>\n",
       "      <td>bos</td>\n",
       "    </tr>\n",
       "    <tr>\n",
       "      <th>3259</th>\n",
       "      <td>mayan</td>\n",
       "      <td>lumayan</td>\n",
       "    </tr>\n",
       "    <tr>\n",
       "      <th>3260</th>\n",
       "      <td>ribed</td>\n",
       "      <td>ribet</td>\n",
       "    </tr>\n",
       "    <tr>\n",
       "      <th>3261</th>\n",
       "      <td>ntapz</td>\n",
       "      <td>mantap</td>\n",
       "    </tr>\n",
       "    <tr>\n",
       "      <th>3262</th>\n",
       "      <td>ntaps</td>\n",
       "      <td>mantap</td>\n",
       "    </tr>\n",
       "  </tbody>\n",
       "</table>\n",
       "</div>"
      ],
      "text/plain": [
       "      slang   formal\n",
       "3258    boz      bos\n",
       "3259  mayan  lumayan\n",
       "3260  ribed    ribet\n",
       "3261  ntapz   mantap\n",
       "3262  ntaps   mantap"
      ]
     },
     "metadata": {},
     "output_type": "display_data"
    },
    {
     "data": {
      "text/html": [
       "<div>\n",
       "<style scoped>\n",
       "    .dataframe tbody tr th:only-of-type {\n",
       "        vertical-align: middle;\n",
       "    }\n",
       "\n",
       "    .dataframe tbody tr th {\n",
       "        vertical-align: top;\n",
       "    }\n",
       "\n",
       "    .dataframe thead th {\n",
       "        text-align: right;\n",
       "    }\n",
       "</style>\n",
       "<table border=\"1\" class=\"dataframe\">\n",
       "  <thead>\n",
       "    <tr style=\"text-align: right;\">\n",
       "      <th></th>\n",
       "      <th>slang</th>\n",
       "      <th>formal</th>\n",
       "    </tr>\n",
       "  </thead>\n",
       "  <tbody>\n",
       "    <tr>\n",
       "      <th>1492</th>\n",
       "      <td>bajing</td>\n",
       "      <td>anjing</td>\n",
       "    </tr>\n",
       "    <tr>\n",
       "      <th>1493</th>\n",
       "      <td>ngentod</td>\n",
       "      <td>anjing</td>\n",
       "    </tr>\n",
       "    <tr>\n",
       "      <th>1494</th>\n",
       "      <td>trouble</td>\n",
       "      <td>masalah</td>\n",
       "    </tr>\n",
       "    <tr>\n",
       "      <th>1495</th>\n",
       "      <td>tengkyu</td>\n",
       "      <td>terima kasih</td>\n",
       "    </tr>\n",
       "    <tr>\n",
       "      <th>1496</th>\n",
       "      <td>thanks</td>\n",
       "      <td>terima kasih</td>\n",
       "    </tr>\n",
       "  </tbody>\n",
       "</table>\n",
       "</div>"
      ],
      "text/plain": [
       "        slang         formal\n",
       "1492   bajing         anjing\n",
       "1493  ngentod         anjing\n",
       "1494  trouble        masalah\n",
       "1495  tengkyu  terima kasih \n",
       "1496   thanks  terima kasih "
      ]
     },
     "metadata": {},
     "output_type": "display_data"
    }
   ],
   "source": [
    "SLANG_DICTIONARY_FILE_NAME_1 = \"kamus_slang_1.csv\"\n",
    "SLANG_DICTIONARY_FILE_PATH_1 = f\"dictionaries/{SLANG_DICTIONARY_FILE_NAME_1}\"\n",
    "DATA_FRAME_SLANG_DICTIONARY_1 = pd.read_csv(SLANG_DICTIONARY_FILE_PATH_1)\n",
    "\n",
    "SLANG_DICTIONARY_FILE_NAME_2 = \"kamus_slang_2.csv\"\n",
    "SLANG_DICTIONARY_FILE_PATH_2 = f\"dictionaries/{SLANG_DICTIONARY_FILE_NAME_2}\"\n",
    "DATA_FRAME_SLANG_DICTIONARY_2 = pd.read_csv(SLANG_DICTIONARY_FILE_PATH_2)\n",
    "\n",
    "display(DATA_FRAME_SLANG_DICTIONARY_1.tail())\n",
    "display(DATA_FRAME_SLANG_DICTIONARY_2.tail())\n",
    "\n",
    "SLANG_DICTIONARY_1 = pd.Series(DATA_FRAME_SLANG_DICTIONARY_1.formal.values, index=DATA_FRAME_SLANG_DICTIONARY_1.slang).to_dict()\n",
    "SLANG_DICTIONARY_2 = pd.Series(DATA_FRAME_SLANG_DICTIONARY_2.formal.values, index=DATA_FRAME_SLANG_DICTIONARY_2.slang).to_dict()"
   ]
  },
  {
   "cell_type": "markdown",
   "metadata": {},
   "source": [
    "# INTEGRASI KAMUS SLANG\n"
   ]
  },
  {
   "cell_type": "code",
   "execution_count": 16,
   "metadata": {},
   "outputs": [
    {
     "data": {
      "text/html": [
       "<div>\n",
       "<style scoped>\n",
       "    .dataframe tbody tr th:only-of-type {\n",
       "        vertical-align: middle;\n",
       "    }\n",
       "\n",
       "    .dataframe tbody tr th {\n",
       "        vertical-align: top;\n",
       "    }\n",
       "\n",
       "    .dataframe thead th {\n",
       "        text-align: right;\n",
       "    }\n",
       "</style>\n",
       "<table border=\"1\" class=\"dataframe\">\n",
       "  <thead>\n",
       "    <tr style=\"text-align: right;\">\n",
       "      <th></th>\n",
       "      <th>after_slang_text</th>\n",
       "    </tr>\n",
       "  </thead>\n",
       "  <tbody>\n",
       "    <tr>\n",
       "      <th>4037</th>\n",
       "      <td>pemindahan ibu kota menggambarkan tekad indone...</td>\n",
       "    </tr>\n",
       "    <tr>\n",
       "      <th>4038</th>\n",
       "      <td>pemindahan ibu kota bukti bahwa kita serius da...</td>\n",
       "    </tr>\n",
       "    <tr>\n",
       "      <th>4039</th>\n",
       "      <td>pemindahan ibu kota nusantara akan membuka pel...</td>\n",
       "    </tr>\n",
       "    <tr>\n",
       "      <th>4040</th>\n",
       "      <td>presiden jokowi meyakini bahwa pemindahan ibu ...</td>\n",
       "    </tr>\n",
       "    <tr>\n",
       "      <th>4041</th>\n",
       "      <td>dukung pemindahan ibu kota nusantara untuk men...</td>\n",
       "    </tr>\n",
       "  </tbody>\n",
       "</table>\n",
       "</div>"
      ],
      "text/plain": [
       "                                       after_slang_text\n",
       "4037  pemindahan ibu kota menggambarkan tekad indone...\n",
       "4038  pemindahan ibu kota bukti bahwa kita serius da...\n",
       "4039  pemindahan ibu kota nusantara akan membuka pel...\n",
       "4040  presiden jokowi meyakini bahwa pemindahan ibu ...\n",
       "4041  dukung pemindahan ibu kota nusantara untuk men..."
      ]
     },
     "metadata": {},
     "output_type": "display_data"
    }
   ],
   "source": [
    "def slang_dict_integration(text):\n",
    "  words = text.split()\n",
    "  standardization_words = []\n",
    "\n",
    "  for word in words:\n",
    "    if word in SLANG_DICTIONARY_1:\n",
    "      standardization_words.append(SLANG_DICTIONARY_1[word])\n",
    "    elif word in SLANG_DICTIONARY_2:\n",
    "      standardization_words.append(SLANG_DICTIONARY_2[word])\n",
    "    else:\n",
    "      standardization_words.append(word)\n",
    "\n",
    "  return \" \".join(standardization_words)\n",
    "\n",
    "DATA_FRAME_DATASET[\"after_slang_text\"] = DATA_FRAME_DATASET[\"cleaned_text\"].apply(slang_dict_integration)\n",
    "display(DATA_FRAME_DATASET[\"after_slang_text\"].tail().to_frame())"
   ]
  },
  {
   "cell_type": "markdown",
   "metadata": {},
   "source": [
    "# TRANSLATE\n"
   ]
  },
  {
   "cell_type": "code",
   "execution_count": 17,
   "metadata": {},
   "outputs": [
    {
     "name": "stdout",
     "output_type": "stream",
     "text": [
      "100 tweet translated out of 4042 --- 2.47%\n",
      "200 tweet translated out of 4042 --- 4.95%\n",
      "300 tweet translated out of 4042 --- 7.42%\n",
      "400 tweet translated out of 4042 --- 9.90%\n",
      "500 tweet translated out of 4042 --- 12.37%\n",
      "600 tweet translated out of 4042 --- 14.84%\n",
      "700 tweet translated out of 4042 --- 17.32%\n",
      "800 tweet translated out of 4042 --- 19.79%\n",
      "900 tweet translated out of 4042 --- 22.27%\n",
      "1000 tweet translated out of 4042 --- 24.74%\n",
      "1100 tweet translated out of 4042 --- 27.21%\n",
      "1200 tweet translated out of 4042 --- 29.69%\n",
      "1300 tweet translated out of 4042 --- 32.16%\n",
      "1400 tweet translated out of 4042 --- 34.64%\n",
      "1500 tweet translated out of 4042 --- 37.11%\n",
      "1600 tweet translated out of 4042 --- 39.58%\n",
      "1700 tweet translated out of 4042 --- 42.06%\n",
      "1800 tweet translated out of 4042 --- 44.53%\n",
      "1900 tweet translated out of 4042 --- 47.01%\n",
      "2000 tweet translated out of 4042 --- 49.48%\n",
      "2100 tweet translated out of 4042 --- 51.95%\n",
      "2200 tweet translated out of 4042 --- 54.43%\n",
      "2300 tweet translated out of 4042 --- 56.90%\n",
      "2400 tweet translated out of 4042 --- 59.38%\n",
      "2500 tweet translated out of 4042 --- 61.85%\n",
      "2600 tweet translated out of 4042 --- 64.32%\n",
      "2700 tweet translated out of 4042 --- 66.80%\n",
      "2800 tweet translated out of 4042 --- 69.27%\n",
      "2900 tweet translated out of 4042 --- 71.75%\n",
      "3000 tweet translated out of 4042 --- 74.22%\n",
      "3100 tweet translated out of 4042 --- 76.69%\n",
      "3200 tweet translated out of 4042 --- 79.17%\n",
      "3300 tweet translated out of 4042 --- 81.64%\n",
      "3400 tweet translated out of 4042 --- 84.12%\n",
      "3500 tweet translated out of 4042 --- 86.59%\n",
      "3600 tweet translated out of 4042 --- 89.06%\n",
      "3700 tweet translated out of 4042 --- 91.54%\n",
      "3800 tweet translated out of 4042 --- 94.01%\n",
      "3900 tweet translated out of 4042 --- 96.49%\n",
      "4000 tweet translated out of 4042 --- 98.96%\n",
      "4042 tweet translated out of 4042 --- 100%\n"
     ]
    }
   ],
   "source": [
    "DATA_FRAME_DATASET['translated_text'] = DATA_FRAME_DATASET['after_slang_text']\n",
    "data = DATA_FRAME_DATASET\n",
    "\n",
    "for i, w in enumerate(data['translated_text']):\n",
    "    #time.sleep(1)\n",
    "    text = w\n",
    "    try:\n",
    "        translated = GoogleTranslator(source='id', target='en').translate(w)\n",
    "        data.at[i, 'translated_text'] = translated \n",
    "    except:\n",
    "        result = \"\"\n",
    "        split_sent = sent_tokenize(w)\n",
    "        \n",
    "        for j in split_sent: \n",
    "            try:\n",
    "                translated = GoogleTranslator(source='id', target='en').translate(j)\n",
    "                result += translated + \" \"\n",
    "            except:\n",
    "                continue\n",
    "            \n",
    "        data.at[i, 'translated_text'] = result\n",
    "      \n",
    "    if ((i+1)%100 == 0):\n",
    "        print(\"{0} tweet translated out of {1} --- {2:.2f}%\".format(i+1, len(data), ((i+1)/len(data))*100))\n",
    "    elif ((i+1) == len(data)):\n",
    "        print(\"{0} tweet translated out of {1} --- 100%\".format(i+1, len(data)))\n"
   ]
  },
  {
   "cell_type": "code",
   "execution_count": 22,
   "metadata": {},
   "outputs": [
    {
     "data": {
      "text/html": [
       "<div>\n",
       "<style scoped>\n",
       "    .dataframe tbody tr th:only-of-type {\n",
       "        vertical-align: middle;\n",
       "    }\n",
       "\n",
       "    .dataframe tbody tr th {\n",
       "        vertical-align: top;\n",
       "    }\n",
       "\n",
       "    .dataframe thead th {\n",
       "        text-align: right;\n",
       "    }\n",
       "</style>\n",
       "<table border=\"1\" class=\"dataframe\">\n",
       "  <thead>\n",
       "    <tr style=\"text-align: right;\">\n",
       "      <th></th>\n",
       "      <th>translated_text</th>\n",
       "    </tr>\n",
       "  </thead>\n",
       "  <tbody>\n",
       "    <tr>\n",
       "      <th>4037</th>\n",
       "      <td>The relocation of the capital city illustrates...</td>\n",
       "    </tr>\n",
       "    <tr>\n",
       "      <th>4038</th>\n",
       "      <td>relocating the capital is proof that we are se...</td>\n",
       "    </tr>\n",
       "    <tr>\n",
       "      <th>4039</th>\n",
       "      <td>The relocation of the Indonesian capital will ...</td>\n",
       "    </tr>\n",
       "    <tr>\n",
       "      <th>4040</th>\n",
       "      <td>President Jokowi believes that moving the capi...</td>\n",
       "    </tr>\n",
       "    <tr>\n",
       "      <th>4041</th>\n",
       "      <td>support the relocation of the Indonesian capit...</td>\n",
       "    </tr>\n",
       "  </tbody>\n",
       "</table>\n",
       "</div>"
      ],
      "text/plain": [
       "                                        translated_text\n",
       "4037  The relocation of the capital city illustrates...\n",
       "4038  relocating the capital is proof that we are se...\n",
       "4039  The relocation of the Indonesian capital will ...\n",
       "4040  President Jokowi believes that moving the capi...\n",
       "4041  support the relocation of the Indonesian capit..."
      ]
     },
     "metadata": {},
     "output_type": "display_data"
    }
   ],
   "source": [
    "display(DATA_FRAME_DATASET[\"translated_text\"].tail().to_frame())"
   ]
  },
  {
   "cell_type": "markdown",
   "metadata": {},
   "source": [
    "# CLEAN AGAIN\n"
   ]
  },
  {
   "cell_type": "code",
   "execution_count": 23,
   "metadata": {},
   "outputs": [
    {
     "data": {
      "text/html": [
       "<div>\n",
       "<style scoped>\n",
       "    .dataframe tbody tr th:only-of-type {\n",
       "        vertical-align: middle;\n",
       "    }\n",
       "\n",
       "    .dataframe tbody tr th {\n",
       "        vertical-align: top;\n",
       "    }\n",
       "\n",
       "    .dataframe thead th {\n",
       "        text-align: right;\n",
       "    }\n",
       "</style>\n",
       "<table border=\"1\" class=\"dataframe\">\n",
       "  <thead>\n",
       "    <tr style=\"text-align: right;\">\n",
       "      <th></th>\n",
       "      <th>translated_text</th>\n",
       "    </tr>\n",
       "  </thead>\n",
       "  <tbody>\n",
       "    <tr>\n",
       "      <th>4037</th>\n",
       "      <td>the relocation of the capital city illustrates...</td>\n",
       "    </tr>\n",
       "    <tr>\n",
       "      <th>4038</th>\n",
       "      <td>relocating the capital is proof that we are se...</td>\n",
       "    </tr>\n",
       "    <tr>\n",
       "      <th>4039</th>\n",
       "      <td>the relocation of the indonesian capital will ...</td>\n",
       "    </tr>\n",
       "    <tr>\n",
       "      <th>4040</th>\n",
       "      <td>president jokowi believes that moving the capi...</td>\n",
       "    </tr>\n",
       "    <tr>\n",
       "      <th>4041</th>\n",
       "      <td>support the relocation of the indonesian capit...</td>\n",
       "    </tr>\n",
       "  </tbody>\n",
       "</table>\n",
       "</div>"
      ],
      "text/plain": [
       "                                        translated_text\n",
       "4037  the relocation of the capital city illustrates...\n",
       "4038  relocating the capital is proof that we are se...\n",
       "4039  the relocation of the indonesian capital will ...\n",
       "4040  president jokowi believes that moving the capi...\n",
       "4041  support the relocation of the indonesian capit..."
      ]
     },
     "metadata": {},
     "output_type": "display_data"
    }
   ],
   "source": [
    "DATA_FRAME_DATASET[\"translated_text\"] = DATA_FRAME_DATASET[\"translated_text\"].apply(clean_text)\n",
    "display(DATA_FRAME_DATASET[\"translated_text\"].tail().to_frame())"
   ]
  },
  {
   "cell_type": "markdown",
   "metadata": {},
   "source": [
    "# INTEGRASI STOPWORDS DEFAULT NLTK\n"
   ]
  },
  {
   "cell_type": "code",
   "execution_count": 24,
   "metadata": {},
   "outputs": [
    {
     "data": {
      "text/html": [
       "<div>\n",
       "<style scoped>\n",
       "    .dataframe tbody tr th:only-of-type {\n",
       "        vertical-align: middle;\n",
       "    }\n",
       "\n",
       "    .dataframe tbody tr th {\n",
       "        vertical-align: top;\n",
       "    }\n",
       "\n",
       "    .dataframe thead th {\n",
       "        text-align: right;\n",
       "    }\n",
       "</style>\n",
       "<table border=\"1\" class=\"dataframe\">\n",
       "  <thead>\n",
       "    <tr style=\"text-align: right;\">\n",
       "      <th></th>\n",
       "      <th>after_stopwords_text</th>\n",
       "    </tr>\n",
       "  </thead>\n",
       "  <tbody>\n",
       "    <tr>\n",
       "      <th>4037</th>\n",
       "      <td>relocation capital city illustrates indonesia'...</td>\n",
       "    </tr>\n",
       "    <tr>\n",
       "      <th>4038</th>\n",
       "      <td>relocating capital proof serious managing natu...</td>\n",
       "    </tr>\n",
       "    <tr>\n",
       "      <th>4039</th>\n",
       "      <td>relocation indonesian capital open new busines...</td>\n",
       "    </tr>\n",
       "    <tr>\n",
       "      <th>4040</th>\n",
       "      <td>president jokowi believes moving capital city ...</td>\n",
       "    </tr>\n",
       "    <tr>\n",
       "      <th>4041</th>\n",
       "      <td>support relocation indonesian capital optimize...</td>\n",
       "    </tr>\n",
       "  </tbody>\n",
       "</table>\n",
       "</div>"
      ],
      "text/plain": [
       "                                   after_stopwords_text\n",
       "4037  relocation capital city illustrates indonesia'...\n",
       "4038  relocating capital proof serious managing natu...\n",
       "4039  relocation indonesian capital open new busines...\n",
       "4040  president jokowi believes moving capital city ...\n",
       "4041  support relocation indonesian capital optimize..."
      ]
     },
     "metadata": {},
     "output_type": "display_data"
    }
   ],
   "source": [
    "stop_words = set(stopwords.words('english'))\n",
    "def drop_stopwords(text):\n",
    "  return \" \".join([i for i in text.split() if i not in stop_words])\n",
    "\n",
    "DATA_FRAME_DATASET[\"after_stopwords_text\"] = DATA_FRAME_DATASET[\"translated_text\"].apply(drop_stopwords)\n",
    "display(DATA_FRAME_DATASET[\"after_stopwords_text\"].tail().to_frame())"
   ]
  },
  {
   "cell_type": "markdown",
   "metadata": {},
   "source": [
    "# LEMMATISASI\n"
   ]
  },
  {
   "cell_type": "code",
   "execution_count": 25,
   "metadata": {},
   "outputs": [
    {
     "data": {
      "text/html": [
       "<div>\n",
       "<style scoped>\n",
       "    .dataframe tbody tr th:only-of-type {\n",
       "        vertical-align: middle;\n",
       "    }\n",
       "\n",
       "    .dataframe tbody tr th {\n",
       "        vertical-align: top;\n",
       "    }\n",
       "\n",
       "    .dataframe thead th {\n",
       "        text-align: right;\n",
       "    }\n",
       "</style>\n",
       "<table border=\"1\" class=\"dataframe\">\n",
       "  <thead>\n",
       "    <tr style=\"text-align: right;\">\n",
       "      <th></th>\n",
       "      <th>after_lemmatized_text</th>\n",
       "    </tr>\n",
       "  </thead>\n",
       "  <tbody>\n",
       "    <tr>\n",
       "      <th>4037</th>\n",
       "      <td>relocation capital city illustrates indonesia'...</td>\n",
       "    </tr>\n",
       "    <tr>\n",
       "      <th>4038</th>\n",
       "      <td>relocating capital proof serious managing natu...</td>\n",
       "    </tr>\n",
       "    <tr>\n",
       "      <th>4039</th>\n",
       "      <td>relocation indonesian capital open new busines...</td>\n",
       "    </tr>\n",
       "    <tr>\n",
       "      <th>4040</th>\n",
       "      <td>president jokowi belief moving capital city ar...</td>\n",
       "    </tr>\n",
       "    <tr>\n",
       "      <th>4041</th>\n",
       "      <td>support relocation indonesian capital optimize...</td>\n",
       "    </tr>\n",
       "  </tbody>\n",
       "</table>\n",
       "</div>"
      ],
      "text/plain": [
       "                                  after_lemmatized_text\n",
       "4037  relocation capital city illustrates indonesia'...\n",
       "4038  relocating capital proof serious managing natu...\n",
       "4039  relocation indonesian capital open new busines...\n",
       "4040  president jokowi belief moving capital city ar...\n",
       "4041  support relocation indonesian capital optimize..."
      ]
     },
     "metadata": {},
     "output_type": "display_data"
    }
   ],
   "source": [
    "lemmatizer = WordNetLemmatizer()\n",
    "\n",
    "def lemmatize_text(text):\n",
    "  return \" \".join([lemmatizer.lemmatize(word) for word in text.split()])\n",
    "\n",
    "DATA_FRAME_DATASET[\"after_lemmatized_text\"] = DATA_FRAME_DATASET[\"after_stopwords_text\"].apply(lemmatize_text)\n",
    "display(DATA_FRAME_DATASET[\"after_lemmatized_text\"].tail().to_frame())"
   ]
  },
  {
   "cell_type": "markdown",
   "metadata": {},
   "source": [
    "# EXPORT ENGLISH PREPROCESSED DATASET\n"
   ]
  },
  {
   "cell_type": "code",
   "execution_count": 26,
   "metadata": {},
   "outputs": [],
   "source": [
    "# final column\n",
    "DATA_FRAME_DATASET[\"eng_preprocessed_text\"] = DATA_FRAME_DATASET[\"after_lemmatized_text\"]\n",
    "\n",
    "DATA_FRAME_DATASET.to_csv(\"outputs/eng-preprocessed.csv\", index=False)"
   ]
  }
 ],
 "metadata": {
  "kernelspec": {
   "display_name": "Python 3",
   "language": "python",
   "name": "python3"
  },
  "language_info": {
   "codemirror_mode": {
    "name": "ipython",
    "version": 3
   },
   "file_extension": ".py",
   "mimetype": "text/x-python",
   "name": "python",
   "nbconvert_exporter": "python",
   "pygments_lexer": "ipython3",
   "version": "3.12.4"
  }
 },
 "nbformat": 4,
 "nbformat_minor": 2
}
