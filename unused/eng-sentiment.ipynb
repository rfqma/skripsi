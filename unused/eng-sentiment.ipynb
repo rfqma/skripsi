{
 "cells": [
  {
   "cell_type": "markdown",
   "metadata": {},
   "source": [
    "# LIBRARIES\n"
   ]
  },
  {
   "cell_type": "code",
   "execution_count": 8,
   "metadata": {},
   "outputs": [
    {
     "name": "stderr",
     "output_type": "stream",
     "text": [
      "[nltk_data] Downloading package vader_lexicon to\n",
      "[nltk_data]     C:\\Users\\user\\AppData\\Roaming\\nltk_data...\n",
      "[nltk_data]   Package vader_lexicon is already up-to-date!\n"
     ]
    }
   ],
   "source": [
    "import pandas as pd\n",
    "import nltk\n",
    "nltk.download('vader_lexicon')\n",
    "from nltk.sentiment.vader import SentimentIntensityAnalyzer\n",
    "import seaborn as sns\n",
    "import numpy as np\n",
    "import matplotlib.pyplot as plt"
   ]
  },
  {
   "cell_type": "markdown",
   "metadata": {},
   "source": [
    "# INISIASI DATASET\n"
   ]
  },
  {
   "cell_type": "code",
   "execution_count": 2,
   "metadata": {},
   "outputs": [
    {
     "name": "stdout",
     "output_type": "stream",
     "text": [
      "pre-processed dataset: 4042 tweets\n"
     ]
    },
    {
     "data": {
      "text/html": [
       "<div>\n",
       "<style scoped>\n",
       "    .dataframe tbody tr th:only-of-type {\n",
       "        vertical-align: middle;\n",
       "    }\n",
       "\n",
       "    .dataframe tbody tr th {\n",
       "        vertical-align: top;\n",
       "    }\n",
       "\n",
       "    .dataframe thead th {\n",
       "        text-align: right;\n",
       "    }\n",
       "</style>\n",
       "<table border=\"1\" class=\"dataframe\">\n",
       "  <thead>\n",
       "    <tr style=\"text-align: right;\">\n",
       "      <th></th>\n",
       "      <th>user_id</th>\n",
       "      <th>username</th>\n",
       "      <th>user_display_name</th>\n",
       "      <th>tweet_id</th>\n",
       "      <th>full_text</th>\n",
       "      <th>created_at</th>\n",
       "      <th>cleaned_text</th>\n",
       "      <th>after_slang_text</th>\n",
       "      <th>translated_text</th>\n",
       "      <th>after_stopwords_text</th>\n",
       "      <th>after_lemmatized_text</th>\n",
       "      <th>eng_preprocessed_text</th>\n",
       "    </tr>\n",
       "  </thead>\n",
       "  <tbody>\n",
       "    <tr>\n",
       "      <th>4041</th>\n",
       "      <td>1685924328851038208</td>\n",
       "      <td>maulani_salsa76</td>\n",
       "      <td>Maulani Salsa</td>\n",
       "      <td>1822028454411563237</td>\n",
       "      <td>@aminun40 Dukung pemindahan Ibu Kota Nusantara...</td>\n",
       "      <td>Fri Aug 09 21:53:29 +0000 2024</td>\n",
       "      <td>dukung pemindahan ibu kota nusantara untuk men...</td>\n",
       "      <td>dukung pemindahan ibu kota nusantara untuk men...</td>\n",
       "      <td>support the relocation of the indonesian capit...</td>\n",
       "      <td>support relocation indonesian capital optimize...</td>\n",
       "      <td>support relocation indonesian capital optimize...</td>\n",
       "      <td>support relocation indonesian capital optimize...</td>\n",
       "    </tr>\n",
       "  </tbody>\n",
       "</table>\n",
       "</div>"
      ],
      "text/plain": [
       "                  user_id         username user_display_name  \\\n",
       "4041  1685924328851038208  maulani_salsa76     Maulani Salsa   \n",
       "\n",
       "                 tweet_id                                          full_text  \\\n",
       "4041  1822028454411563237  @aminun40 Dukung pemindahan Ibu Kota Nusantara...   \n",
       "\n",
       "                          created_at  \\\n",
       "4041  Fri Aug 09 21:53:29 +0000 2024   \n",
       "\n",
       "                                           cleaned_text  \\\n",
       "4041  dukung pemindahan ibu kota nusantara untuk men...   \n",
       "\n",
       "                                       after_slang_text  \\\n",
       "4041  dukung pemindahan ibu kota nusantara untuk men...   \n",
       "\n",
       "                                        translated_text  \\\n",
       "4041  support the relocation of the indonesian capit...   \n",
       "\n",
       "                                   after_stopwords_text  \\\n",
       "4041  support relocation indonesian capital optimize...   \n",
       "\n",
       "                                  after_lemmatized_text  \\\n",
       "4041  support relocation indonesian capital optimize...   \n",
       "\n",
       "                                  eng_preprocessed_text  \n",
       "4041  support relocation indonesian capital optimize...  "
      ]
     },
     "metadata": {},
     "output_type": "display_data"
    }
   ],
   "source": [
    "# import\n",
    "PREPROCESSED_DATASET_FILE_NAME = \"eng-preprocessed.csv\"\n",
    "PREPROCESSED_DATASET_FILE_PATH = f\"outputs/{PREPROCESSED_DATASET_FILE_NAME}\"\n",
    "DATA_FRAME_PREPROCESSED_DATASET = pd.read_csv(PREPROCESSED_DATASET_FILE_PATH)\n",
    "DATA_FRAME_PREPROCESSED_DATASET_LENGTH = len(DATA_FRAME_PREPROCESSED_DATASET)\n",
    "print(f\"pre-processed dataset: {DATA_FRAME_PREPROCESSED_DATASET_LENGTH} tweets\")\n",
    "display(DATA_FRAME_PREPROCESSED_DATASET.tail(1))"
   ]
  },
  {
   "cell_type": "markdown",
   "metadata": {},
   "source": [
    "# SENTIMENT LABELLING\n"
   ]
  },
  {
   "cell_type": "code",
   "execution_count": 3,
   "metadata": {},
   "outputs": [],
   "source": [
    "# inisiasi vader sentiment analyzer\n",
    "sia = SentimentIntensityAnalyzer()"
   ]
  },
  {
   "cell_type": "code",
   "execution_count": 5,
   "metadata": {},
   "outputs": [
    {
     "data": {
      "text/html": [
       "<div>\n",
       "<style scoped>\n",
       "    .dataframe tbody tr th:only-of-type {\n",
       "        vertical-align: middle;\n",
       "    }\n",
       "\n",
       "    .dataframe tbody tr th {\n",
       "        vertical-align: top;\n",
       "    }\n",
       "\n",
       "    .dataframe thead th {\n",
       "        text-align: right;\n",
       "    }\n",
       "</style>\n",
       "<table border=\"1\" class=\"dataframe\">\n",
       "  <thead>\n",
       "    <tr style=\"text-align: right;\">\n",
       "      <th></th>\n",
       "      <th>user_id</th>\n",
       "      <th>username</th>\n",
       "      <th>user_display_name</th>\n",
       "      <th>tweet_id</th>\n",
       "      <th>full_text</th>\n",
       "      <th>created_at</th>\n",
       "      <th>cleaned_text</th>\n",
       "      <th>after_slang_text</th>\n",
       "      <th>translated_text</th>\n",
       "      <th>after_stopwords_text</th>\n",
       "      <th>after_lemmatized_text</th>\n",
       "      <th>eng_preprocessed_text</th>\n",
       "      <th>compound_score</th>\n",
       "    </tr>\n",
       "  </thead>\n",
       "  <tbody>\n",
       "    <tr>\n",
       "      <th>4041</th>\n",
       "      <td>1685924328851038208</td>\n",
       "      <td>maulani_salsa76</td>\n",
       "      <td>Maulani Salsa</td>\n",
       "      <td>1822028454411563237</td>\n",
       "      <td>@aminun40 Dukung pemindahan Ibu Kota Nusantara...</td>\n",
       "      <td>Fri Aug 09 21:53:29 +0000 2024</td>\n",
       "      <td>dukung pemindahan ibu kota nusantara untuk men...</td>\n",
       "      <td>dukung pemindahan ibu kota nusantara untuk men...</td>\n",
       "      <td>support the relocation of the indonesian capit...</td>\n",
       "      <td>support relocation indonesian capital optimize...</td>\n",
       "      <td>support relocation indonesian capital optimize...</td>\n",
       "      <td>support relocation indonesian capital optimize...</td>\n",
       "      <td>0.8126</td>\n",
       "    </tr>\n",
       "  </tbody>\n",
       "</table>\n",
       "</div>"
      ],
      "text/plain": [
       "                  user_id         username user_display_name  \\\n",
       "4041  1685924328851038208  maulani_salsa76     Maulani Salsa   \n",
       "\n",
       "                 tweet_id                                          full_text  \\\n",
       "4041  1822028454411563237  @aminun40 Dukung pemindahan Ibu Kota Nusantara...   \n",
       "\n",
       "                          created_at  \\\n",
       "4041  Fri Aug 09 21:53:29 +0000 2024   \n",
       "\n",
       "                                           cleaned_text  \\\n",
       "4041  dukung pemindahan ibu kota nusantara untuk men...   \n",
       "\n",
       "                                       after_slang_text  \\\n",
       "4041  dukung pemindahan ibu kota nusantara untuk men...   \n",
       "\n",
       "                                        translated_text  \\\n",
       "4041  support the relocation of the indonesian capit...   \n",
       "\n",
       "                                   after_stopwords_text  \\\n",
       "4041  support relocation indonesian capital optimize...   \n",
       "\n",
       "                                  after_lemmatized_text  \\\n",
       "4041  support relocation indonesian capital optimize...   \n",
       "\n",
       "                                  eng_preprocessed_text  compound_score  \n",
       "4041  support relocation indonesian capital optimize...          0.8126  "
      ]
     },
     "metadata": {},
     "output_type": "display_data"
    }
   ],
   "source": [
    "# polarity score\n",
    "def get_compound_score(text):\n",
    "  compound_score = sia.polarity_scores(text)[\"compound\"]\n",
    "  # print(f\"original text: {text}\")\n",
    "  # print(f\"compound score: {compound_score}\")\n",
    "  return compound_score\n",
    "\n",
    "DATA_FRAME_PREPROCESSED_DATASET[\"compound_score\"] = DATA_FRAME_PREPROCESSED_DATASET[\"eng_preprocessed_text\"].apply(get_compound_score)\n",
    "display(DATA_FRAME_PREPROCESSED_DATASET.tail(1))"
   ]
  },
  {
   "cell_type": "code",
   "execution_count": 6,
   "metadata": {},
   "outputs": [
    {
     "data": {
      "text/html": [
       "<div>\n",
       "<style scoped>\n",
       "    .dataframe tbody tr th:only-of-type {\n",
       "        vertical-align: middle;\n",
       "    }\n",
       "\n",
       "    .dataframe tbody tr th {\n",
       "        vertical-align: top;\n",
       "    }\n",
       "\n",
       "    .dataframe thead th {\n",
       "        text-align: right;\n",
       "    }\n",
       "</style>\n",
       "<table border=\"1\" class=\"dataframe\">\n",
       "  <thead>\n",
       "    <tr style=\"text-align: right;\">\n",
       "      <th></th>\n",
       "      <th>user_id</th>\n",
       "      <th>username</th>\n",
       "      <th>user_display_name</th>\n",
       "      <th>tweet_id</th>\n",
       "      <th>full_text</th>\n",
       "      <th>created_at</th>\n",
       "      <th>cleaned_text</th>\n",
       "      <th>after_slang_text</th>\n",
       "      <th>translated_text</th>\n",
       "      <th>after_stopwords_text</th>\n",
       "      <th>after_lemmatized_text</th>\n",
       "      <th>eng_preprocessed_text</th>\n",
       "      <th>compound_score</th>\n",
       "      <th>label</th>\n",
       "    </tr>\n",
       "  </thead>\n",
       "  <tbody>\n",
       "    <tr>\n",
       "      <th>4041</th>\n",
       "      <td>1685924328851038208</td>\n",
       "      <td>maulani_salsa76</td>\n",
       "      <td>Maulani Salsa</td>\n",
       "      <td>1822028454411563237</td>\n",
       "      <td>@aminun40 Dukung pemindahan Ibu Kota Nusantara...</td>\n",
       "      <td>Fri Aug 09 21:53:29 +0000 2024</td>\n",
       "      <td>dukung pemindahan ibu kota nusantara untuk men...</td>\n",
       "      <td>dukung pemindahan ibu kota nusantara untuk men...</td>\n",
       "      <td>support the relocation of the indonesian capit...</td>\n",
       "      <td>support relocation indonesian capital optimize...</td>\n",
       "      <td>support relocation indonesian capital optimize...</td>\n",
       "      <td>support relocation indonesian capital optimize...</td>\n",
       "      <td>0.8126</td>\n",
       "      <td>positif</td>\n",
       "    </tr>\n",
       "  </tbody>\n",
       "</table>\n",
       "</div>"
      ],
      "text/plain": [
       "                  user_id         username user_display_name  \\\n",
       "4041  1685924328851038208  maulani_salsa76     Maulani Salsa   \n",
       "\n",
       "                 tweet_id                                          full_text  \\\n",
       "4041  1822028454411563237  @aminun40 Dukung pemindahan Ibu Kota Nusantara...   \n",
       "\n",
       "                          created_at  \\\n",
       "4041  Fri Aug 09 21:53:29 +0000 2024   \n",
       "\n",
       "                                           cleaned_text  \\\n",
       "4041  dukung pemindahan ibu kota nusantara untuk men...   \n",
       "\n",
       "                                       after_slang_text  \\\n",
       "4041  dukung pemindahan ibu kota nusantara untuk men...   \n",
       "\n",
       "                                        translated_text  \\\n",
       "4041  support the relocation of the indonesian capit...   \n",
       "\n",
       "                                   after_stopwords_text  \\\n",
       "4041  support relocation indonesian capital optimize...   \n",
       "\n",
       "                                  after_lemmatized_text  \\\n",
       "4041  support relocation indonesian capital optimize...   \n",
       "\n",
       "                                  eng_preprocessed_text  compound_score  \\\n",
       "4041  support relocation indonesian capital optimize...          0.8126   \n",
       "\n",
       "        label  \n",
       "4041  positif  "
      ]
     },
     "metadata": {},
     "output_type": "display_data"
    }
   ],
   "source": [
    "# labelling\n",
    "def get_label(number):\n",
    "  if number < 0:\n",
    "    return \"negatif\"\n",
    "  elif number == 0:\n",
    "    return \"netral\"\n",
    "  elif number > 0:\n",
    "    return \"positif\"\n",
    "  else:\n",
    "    return\n",
    "\n",
    "DATA_FRAME_PREPROCESSED_DATASET[\"label\"] = DATA_FRAME_PREPROCESSED_DATASET[\"compound_score\"].apply(get_label)\n",
    "display(DATA_FRAME_PREPROCESSED_DATASET.tail(1))"
   ]
  },
  {
   "cell_type": "markdown",
   "metadata": {},
   "source": [
    "# EXPORT\n"
   ]
  },
  {
   "cell_type": "code",
   "execution_count": 7,
   "metadata": {},
   "outputs": [],
   "source": [
    "DATA_FRAME_PREPROCESSED_DATASET.to_csv(\"outputs/eng-sentiment.csv\", index=False)"
   ]
  },
  {
   "cell_type": "markdown",
   "metadata": {},
   "source": [
    "# FRESH DATASET VS CURRENT DATASET TOTAL DATA\n"
   ]
  },
  {
   "cell_type": "code",
   "execution_count": 9,
   "metadata": {},
   "outputs": [
    {
     "data": {
      "image/png": "[encoded data removed]",
      "text/plain": [
       "<Figure size 640x480 with 1 Axes>"
      ]
     },
     "metadata": {},
     "output_type": "display_data"
    }
   ],
   "source": [
    "fresh_dataset = pd.read_csv(\"datasets/merged/merged_dataset.csv\")\n",
    "current_dataset = pd.read_csv(\"outputs/eng-sentiment.csv\")\n",
    "\n",
    "vol = [['Data Awal', len(fresh_dataset)],\n",
    "       ['Data Saat Ini', len(current_dataset)]]\n",
    "df = pd.DataFrame(vol, columns=['dt_type', 'dt_vol'])\n",
    "sns.set_palette('PuBu',2)\n",
    "ax = sns.barplot(data=df.reset_index(), x='dt_type', y='dt_vol')\n",
    "ax.set_ylabel('jumlah')\n",
    "ax.set_xlabel('')\n",
    "ax.set_title('perbandingan data awal terhadap data saat ini', fontsize=15)\n",
    "ax.yaxis.set_ticks(np.arange(0, 5000, 2000))\n",
    "plt.show()"
   ]
  },
  {
   "cell_type": "markdown",
   "metadata": {},
   "source": [
    "# PIE CHART\n"
   ]
  },
  {
   "cell_type": "code",
   "execution_count": 10,
   "metadata": {},
   "outputs": [
    {
     "name": "stdout",
     "output_type": "stream",
     "text": [
      "label\n",
      "positif    2591\n",
      "netral     1020\n",
      "negatif     431\n",
      "Name: count, dtype: int64\n"
     ]
    },
    {
     "data": {
      "image/png": "[encoded data removed]",
      "text/plain": [
       "<Figure size 500x500 with 1 Axes>"
      ]
     },
     "metadata": {},
     "output_type": "display_data"
    }
   ],
   "source": [
    "label = DATA_FRAME_PREPROCESSED_DATASET[\"label\"]\n",
    "label_counts = label.value_counts()\n",
    "print(label_counts)\n",
    "\n",
    "positif_perc = label_counts.positif / label_counts.sum() * 100\n",
    "netral_perc = label_counts.netral / label_counts.sum() * 100\n",
    "negatif_perc = label_counts.negatif / label_counts.sum() * 100\n",
    "\n",
    "labels = 'positif', 'netral', 'negatif'\n",
    "sizes = [positif_perc, netral_perc, negatif_perc]\n",
    "colors = ['#ff9999','#66b3ff','#99ff99']\n",
    "fig = plt.figure(figsize=(5,5))\n",
    "ax = plt.axes()\n",
    "ax.pie(sizes, labels = labels, autopct='%.2f%%', colors=colors, textprops={'fontsize': 12})\n",
    "ax.set_title('Lexicon InSet', fontsize=15)\n",
    "plt.show()"
   ]
  }
 ],
 "metadata": {
  "kernelspec": {
   "display_name": "Python 3",
   "language": "python",
   "name": "python3"
  },
  "language_info": {
   "codemirror_mode": {
    "name": "ipython",
    "version": 3
   },
   "file_extension": ".py",
   "mimetype": "text/x-python",
   "name": "python",
   "nbconvert_exporter": "python",
   "pygments_lexer": "ipython3",
   "version": "3.12.4"
  }
 },
 "nbformat": 4,
 "nbformat_minor": 2
}
